{
 "cells": [
  {
   "cell_type": "markdown",
   "id": "eeee07ed",
   "metadata": {
    "id": "eeee07ed"
   },
   "source": [
    "# **USE CASE 2.** Sentiment analysis in Flower"
   ]
  },
  {
   "cell_type": "markdown",
   "id": "dc8ce533",
   "metadata": {
    "id": "dc8ce533"
   },
   "source": [
    "## Required libraries and configuration"
   ]
  },
  {
   "cell_type": "markdown",
   "id": "b2f84832",
   "metadata": {
    "id": "b2f84832"
   },
   "source": [
    "\n",
    "Import required libraries"
   ]
  },
  {
   "cell_type": "code",
   "execution_count": 1,
   "id": "aacb8d4a",
   "metadata": {
    "id": "aacb8d4a"
   },
   "outputs": [
    {
     "name": "stderr",
     "output_type": "stream",
     "text": [
      "2023-05-10 10:54:55.409262: I tensorflow/tsl/cuda/cudart_stub.cc:28] Could not find cuda drivers on your machine, GPU will not be used.\n",
      "2023-05-10 10:54:55.468725: I tensorflow/tsl/cuda/cudart_stub.cc:28] Could not find cuda drivers on your machine, GPU will not be used.\n",
      "2023-05-10 10:54:55.469119: I tensorflow/core/platform/cpu_feature_guard.cc:182] This TensorFlow binary is optimized to use available CPU instructions in performance-critical operations.\n",
      "To enable the following instructions: AVX2 FMA, in other operations, rebuild TensorFlow with the appropriate compiler flags.\n",
      "2023-05-10 10:54:56.214035: W tensorflow/compiler/tf2tensorrt/utils/py_utils.cc:38] TF-TRT Warning: Could not find TensorRT\n",
      "/home/jose/flower/venv_flower/lib/python3.10/site-packages/tqdm/auto.py:21: TqdmWarning: IProgress not found. Please update jupyter and ipywidgets. See https://ipywidgets.readthedocs.io/en/stable/user_install.html\n",
      "  from .autonotebook import tqdm as notebook_tqdm\n"
     ]
    }
   ],
   "source": [
    "import os\n",
    "\n",
    "import re\n",
    "import time\n",
    "import random\n",
    "import sys\n",
    "\n",
    "from typing import Dict, Optional, Tuple\n",
    "from collections import OrderedDict\n",
    "from typing import List, Tuple\n",
    "\n",
    "import flwr as fl\n",
    "import numpy as np\n",
    "import numpy as np\n",
    "import tensorflow as tf\n",
    "import tensorflow_datasets as tfds\n",
    "import tensorflow_hub as hub\n",
    "from flwr.common import Metrics\n",
    "from tensorflow.keras import models, layers, losses, metrics, optimizers"
   ]
  },
  {
   "cell_type": "markdown",
   "id": "34eb3038",
   "metadata": {
    "id": "34eb3038"
   },
   "source": [
    "Define some parameters for the simulation, such as the number of clients in the federated scenario, the number of federated rounds, the number of epochs of each client before communicating, and the batch size for training phase"
   ]
  },
  {
   "cell_type": "code",
   "execution_count": 2,
   "id": "3f261f80-3add-4948-a346-d0b7fa950f60",
   "metadata": {},
   "outputs": [],
   "source": [
    "# Some parameters\n",
    "NUM_CLIENTS = 10 # Number of clients in the federated scenario\n",
    "NUM_ROUNDS = 10 # Number of learning rounds in the federated computation\n",
    "NUM_EPOCHS = 5 # Number of epochs that the local dataset is seen each round\n",
    "BATCH_SIZE = 20 # Batch size for training phase\n",
    "\n",
    "# Define the seed for random numbers\n",
    "seed = 10\n",
    "np.random.seed(seed)\n",
    "tf.random.set_seed(seed)\n",
    "tf.keras.utils.set_random_seed(seed)\n",
    "random.seed(seed)"
   ]
  },
  {
   "cell_type": "markdown",
   "id": "ec8e2274-b644-4306-9aba-4c1577a1890d",
   "metadata": {},
   "source": [
    "## Methods for text processing"
   ]
  },
  {
   "cell_type": "markdown",
   "id": "2576db5f-f4c7-4a55-9fa0-d17fb6874136",
   "metadata": {},
   "source": [
    "The following method cleans each tweet by removing urls, since they do not provide any valuable sentiment information. Other unuseful characters are also removed, such as the punctuation marks, whitespaces and numbers. Finally, in order treat the text equally, all the characters are converted to lowercase."
   ]
  },
  {
   "cell_type": "code",
   "execution_count": 3,
   "id": "ecdd95f0",
   "metadata": {
    "id": "ecdd95f0"
   },
   "outputs": [],
   "source": [
    "def text_processing(tweet):\n",
    "    if isinstance(tweet, bytes):\n",
    "        tweet = tweet.decode('utf-8')\n",
    "        \n",
    "    # remove https links\n",
    "    clean_tweet = re.sub(r'http\\S+', '', tweet)\n",
    "    \n",
    "    # remove punctuation marks\n",
    "    punctuation = '!\"#$%&()*+-/:;<=>?@[\\\\]^_`{|}~'\n",
    "    clean_tweet = ''.join(ch for ch in clean_tweet if ch not in set(punctuation))\n",
    "    \n",
    "    # remove numbers\n",
    "    clean_tweet = re.sub('\\d', ' ', clean_tweet)\n",
    "    \n",
    "    # remove whitespaces\n",
    "    clean_tweet = ' '.join(clean_tweet.split())\n",
    "    \n",
    "    # convert text to lowercase\n",
    "    clean_tweet = clean_tweet.lower()\n",
    "    \n",
    "    return clean_tweet"
   ]
  },
  {
   "cell_type": "markdown",
   "id": "e91e9c7e",
   "metadata": {
    "id": "e91e9c7e",
    "tags": []
   },
   "source": [
    "## Loading and preparing the input data"
   ]
  },
  {
   "cell_type": "markdown",
   "id": "3e45bf73",
   "metadata": {
    "id": "3e45bf73"
   },
   "source": [
    "The Sentiment140 dataset is not available in TFF, so it needs to be loaded from other source such as the tfds (tensorflow datasets) library. Then, it is adapted to the TFF format, so it can be used to train a model using TFF.\n",
    "\n",
    "Note: We download the full Sentiment140 dataset, but in order to be able to execute the experiments in reasonable time, we are going to use a portion of it. In this notebook we are selecting just 1% of the data for training and 10% for testing purposes."
   ]
  },
  {
   "cell_type": "code",
   "execution_count": 4,
   "id": "653e0fda",
   "metadata": {
    "id": "653e0fda",
    "outputId": "8c4b01c4-1505-4c22-b92e-f98d78246a00"
   },
   "outputs": [],
   "source": [
    "sent140 = tfds.load('sentiment140', split=['train[:1%]', 'test[:10%]'])\n",
    "sent140_train, sent140_test = sent140[0], sent140[1]"
   ]
  },
  {
   "cell_type": "markdown",
   "id": "2571c2a5-118e-4486-99c1-8c238741ef81",
   "metadata": {},
   "source": [
    "Select the text and polarity columns from the original data, and transform it to a dataframe so it can be later used in TFF.\n",
    "\n",
    "At this point, we do not select the 'user' column because we will create random IID partitions, so the 'user' column is not neccesary. If the user want to try it with non-IID partition, he/she may also keep the 'user' column and use it as client identifier instead of the following random user ID. "
   ]
  },
  {
   "cell_type": "code",
   "execution_count": 5,
   "id": "94e506c3-60bc-40b4-936b-df14d939aa56",
   "metadata": {
    "tags": []
   },
   "outputs": [
    {
     "name": "stderr",
     "output_type": "stream",
     "text": [
      "2023-05-10 10:54:57.851591: I tensorflow/core/common_runtime/executor.cc:1197] [/device:CPU:0] (DEBUG INFO) Executor start aborting (this does not indicate an error and you can ignore this message): INVALID_ARGUMENT: You must feed a value for placeholder tensor 'Placeholder/_3' with dtype int64 and shape [1]\n",
      "\t [[{{node Placeholder/_3}}]]\n",
      "2023-05-10 10:54:57.851868: I tensorflow/core/common_runtime/executor.cc:1197] [/device:CPU:0] (DEBUG INFO) Executor start aborting (this does not indicate an error and you can ignore this message): INVALID_ARGUMENT: You must feed a value for placeholder tensor 'Placeholder/_4' with dtype int64 and shape [1]\n",
      "\t [[{{node Placeholder/_4}}]]\n",
      "/tmp/ipykernel_37554/1257977802.py:5: SettingWithCopyWarning: \n",
      "A value is trying to be set on a copy of a slice from a DataFrame.\n",
      "Try using .loc[row_indexer,col_indexer] = value instead\n",
      "\n",
      "See the caveats in the documentation: https://pandas.pydata.org/pandas-docs/stable/user_guide/indexing.html#returning-a-view-versus-a-copy\n",
      "  sent140_train_df['text'] = sent140_train_df['text'].apply(lambda x: text_processing(x))\n"
     ]
    }
   ],
   "source": [
    "# Transform the data to a dataframe\n",
    "sent140_train_df = tfds.as_dataframe(sent140_train)[['text', 'polarity']]\n",
    "\n",
    "# Preprocess and clean text with previously defined method\n",
    "sent140_train_df['text'] = sent140_train_df['text'].apply(lambda x: text_processing(x))"
   ]
  },
  {
   "cell_type": "code",
   "execution_count": 6,
   "id": "8d9b8622-5e37-4dce-8c85-999bb9e5038c",
   "metadata": {
    "tags": []
   },
   "outputs": [
    {
     "name": "stderr",
     "output_type": "stream",
     "text": [
      "/tmp/ipykernel_37554/2410367150.py:6: SettingWithCopyWarning: \n",
      "A value is trying to be set on a copy of a slice from a DataFrame.\n",
      "Try using .loc[row_indexer,col_indexer] = value instead\n",
      "\n",
      "See the caveats in the documentation: https://pandas.pydata.org/pandas-docs/stable/user_guide/indexing.html#returning-a-view-versus-a-copy\n",
      "  sent140_train_df['user'] = ids_train\n"
     ]
    }
   ],
   "source": [
    "# Create a random list of ids. Each instance is given a random id, indicating the client where will be distributed\n",
    "ids_train = [i for i in range(NUM_CLIENTS) for _ in range(len(sent140_train)//NUM_CLIENTS)]\n",
    "random.Random(seed).shuffle(ids_train)\n",
    "\n",
    "# Add the id assignment to the dataframe\n",
    "sent140_train_df['user'] = ids_train\n",
    "unique_ids_train = list(set(ids_train))"
   ]
  },
  {
   "cell_type": "code",
   "execution_count": 7,
   "id": "fc34c3e1-26f0-4b1c-baeb-1e353aa945f2",
   "metadata": {
    "tags": []
   },
   "outputs": [
    {
     "name": "stderr",
     "output_type": "stream",
     "text": [
      "2023-05-10 10:55:01.605332: I tensorflow/core/common_runtime/executor.cc:1197] [/device:CPU:0] (DEBUG INFO) Executor start aborting (this does not indicate an error and you can ignore this message): INVALID_ARGUMENT: You must feed a value for placeholder tensor 'Placeholder/_1' with dtype string and shape [1]\n",
      "\t [[{{node Placeholder/_1}}]]\n",
      "2023-05-10 10:55:01.605781: I tensorflow/core/common_runtime/executor.cc:1197] [/device:CPU:0] (DEBUG INFO) Executor start aborting (this does not indicate an error and you can ignore this message): INVALID_ARGUMENT: You must feed a value for placeholder tensor 'Placeholder/_4' with dtype int64 and shape [1]\n",
      "\t [[{{node Placeholder/_4}}]]\n",
      "/tmp/ipykernel_37554/347512034.py:3: SettingWithCopyWarning: \n",
      "A value is trying to be set on a copy of a slice from a DataFrame.\n",
      "Try using .loc[row_indexer,col_indexer] = value instead\n",
      "\n",
      "See the caveats in the documentation: https://pandas.pydata.org/pandas-docs/stable/user_guide/indexing.html#returning-a-view-versus-a-copy\n",
      "  sent140_test_df['text'] = sent140_test_df['text'].apply(lambda x: text_processing(x))\n",
      "/tmp/ipykernel_37554/347512034.py:6: SettingWithCopyWarning: \n",
      "A value is trying to be set on a copy of a slice from a DataFrame.\n",
      "Try using .loc[row_indexer,col_indexer] = value instead\n",
      "\n",
      "See the caveats in the documentation: https://pandas.pydata.org/pandas-docs/stable/user_guide/indexing.html#returning-a-view-versus-a-copy\n",
      "  sent140_test_df['user'] = ids_test\n"
     ]
    }
   ],
   "source": [
    "# Do the same with the test data\n",
    "sent140_test_df = tfds.as_dataframe(sent140_test)[['text', 'polarity']]\n",
    "sent140_test_df['text'] = sent140_test_df['text'].apply(lambda x: text_processing(x))\n",
    "ids_test = [i for i in range(NUM_CLIENTS) for _ in range(len(sent140_test)//NUM_CLIENTS)]\n",
    "random.Random(seed+1).shuffle(ids_test)\n",
    "sent140_test_df['user'] = ids_test\n",
    "unique_ids_test = list(set(ids_test))"
   ]
  },
  {
   "cell_type": "markdown",
   "id": "41f37930-47fa-4d96-8b4a-cc1cd9f7ed91",
   "metadata": {},
   "source": [
    "For the sake of simplicity, in this notebook we will be dealing with a binary problem. For that purpose, we remove the neutral tweets, so the classifier's aim is to differentiate between positive and negative tweets. "
   ]
  },
  {
   "cell_type": "code",
   "execution_count": 8,
   "id": "c4165f12-9c79-4f4d-b8e6-4f8c62f8ba77",
   "metadata": {
    "tags": []
   },
   "outputs": [
    {
     "name": "stderr",
     "output_type": "stream",
     "text": [
      "/tmp/ipykernel_37554/1513210468.py:7: SettingWithCopyWarning: \n",
      "A value is trying to be set on a copy of a slice from a DataFrame.\n",
      "Try using .loc[row_indexer,col_indexer] = value instead\n",
      "\n",
      "See the caveats in the documentation: https://pandas.pydata.org/pandas-docs/stable/user_guide/indexing.html#returning-a-view-versus-a-copy\n",
      "  df['polarity'] = df['polarity'].replace(4, 1)\n"
     ]
    }
   ],
   "source": [
    "# Convert into binary problem by deleting neutral opinions\n",
    "def delete_neutral_ops(df):\n",
    "    # Remove those tweets whose polarity is 2, i.e., neutral\n",
    "    df = df.loc[df['polarity']!=2]\n",
    "    \n",
    "    # For ease of representation, replace class 4 (i.e., positive sentiment) by 1.\n",
    "    df['polarity'] = df['polarity'].replace(4, 1)\n",
    "    \n",
    "    return df\n",
    "\n",
    "# Transform both trainin and testing dataframes to a binary problem\n",
    "sent140_train_df = delete_neutral_ops(sent140_train_df)\n",
    "sent140_test_df = delete_neutral_ops(sent140_test_df)"
   ]
  },
  {
   "cell_type": "markdown",
   "id": "6b40611f",
   "metadata": {
    "id": "6b40611f"
   },
   "source": [
    "Create the DataLoaders for each client. It creates an array of datasets, one for each client."
   ]
  },
  {
   "cell_type": "code",
   "execution_count": 9,
   "id": "304cb5de",
   "metadata": {
    "id": "304cb5de"
   },
   "outputs": [],
   "source": [
    "# Create DataLoaders for each client\n",
    "train_data = []\n",
    "test_data = []\n",
    "for i in range(NUM_CLIENTS):\n",
    "    train_data.append(sent140_train_df.loc[sent140_train_df['user']==unique_ids_train[i]])\n",
    "    test_data.append(sent140_test_df.loc[sent140_test_df['user']==unique_ids_test[i]])"
   ]
  },
  {
   "cell_type": "markdown",
   "id": "88ce9242",
   "metadata": {
    "id": "88ce9242"
   },
   "source": [
    "## Create a Deep Learning model"
   ]
  },
  {
   "cell_type": "markdown",
   "id": "f6b0c911",
   "metadata": {
    "id": "f6b0c911"
   },
   "source": [
    "In this case we use a model composed by a pre-trained model from tfhub, as well as dense layers. The pre-trained model is not updated in the example; however, the ``trainable`` parameter can be set to ``True``, so such layers are also fine-tuned in the collaborative training.\n",
    "\n",
    "Note that any network architecture supported by keras can be used. Besides, Flower also supports PyTorch models, but in contrast to Use Case 1, we use a TFF model here to provide a variety of options."
   ]
  },
  {
   "cell_type": "code",
   "execution_count": 10,
   "id": "8f60ebcd",
   "metadata": {
    "id": "8f60ebcd"
   },
   "outputs": [],
   "source": [
    "def create_keras_model():\n",
    "    # Load pre-trained model\n",
    "    model = \"https://tfhub.dev/google/nnlm-en-dim128-with-normalization/2\"\n",
    "    hub_layer = hub.KerasLayer(model, input_shape=[], dtype=tf.string, trainable=False)\n",
    "    \n",
    "    # Set model layers\n",
    "    model = tf.keras.Sequential()\n",
    "    model.add(hub_layer)\n",
    "    model.add(tf.keras.layers.Dense(16, activation='relu'))\n",
    "    model.add(tf.keras.layers.Dense(1))\n",
    "    \n",
    "    # Compile the model\n",
    "    model.compile(\n",
    "        loss=tf.keras.losses.BinaryCrossentropy(from_logits=True),\n",
    "        optimizer=\"adam\",\n",
    "        metrics=[tf.metrics.BinaryAccuracy(threshold=0.0, name='accuracy')]\n",
    "    )\n",
    "    \n",
    "    return model"
   ]
  },
  {
   "cell_type": "markdown",
   "id": "482d7141",
   "metadata": {
    "id": "482d7141"
   },
   "source": [
    "## Training in the federated scenario"
   ]
  },
  {
   "cell_type": "markdown",
   "id": "d906be40-c6c5-4762-917d-24f4f2033f1d",
   "metadata": {
    "tags": []
   },
   "source": [
    "First, we create a FlowerClient class, that includes the information of each simulated client. The class has three methods:\n",
    " * `get_parameters`: Get the parameters of the model to send them to the server\n",
    " * `fit`: Reveives the model parameters from the server, trains it with local data, and return the updated model parameters to the server\n",
    " * `evaluate`: Receives the model from the server and evaluates it with local data"
   ]
  },
  {
   "cell_type": "code",
   "execution_count": 11,
   "id": "4c9605cf-b2ca-447a-b432-5001e45ce00f",
   "metadata": {},
   "outputs": [],
   "source": [
    "# Class-independent methods to get and set the parameters of a model\n",
    "def get_parameters(model):\n",
    "        return model.get_weights()\n",
    "    \n",
    "def set_parameters(model, parameters):\n",
    "    model.set_weights(parameters)"
   ]
  },
  {
   "cell_type": "code",
   "execution_count": 12,
   "id": "80ba95c8-f999-4d4b-bc75-5e10d2f50ea4",
   "metadata": {},
   "outputs": [],
   "source": [
    "class FlowerClient(fl.client.NumPyClient):\n",
    "    def __init__(self, model, client_train_data, client_test_data):\n",
    "        # Init the client setting the x (text) and the y (polarity) for both train and testing\n",
    "        self.model = model\n",
    "        x_train, y_train = client_train_data['text'].to_numpy(), client_train_data['polarity'].to_numpy()\n",
    "        x_test, y_test = client_test_data['text'].to_numpy(), client_test_data['polarity'].to_numpy()\n",
    "        self.x_train, self.y_train = x_train, y_train\n",
    "        self.x_test, self.y_test = x_test, y_test\n",
    "        self.train_dataset = tf.data.Dataset.from_tensor_slices(client_train_data.to_dict('list'))\n",
    "\n",
    "    def get_properties(self, config):\n",
    "        \"\"\"Get properties of client.\"\"\"\n",
    "        raise Exception(\"Not implemented\")\n",
    "\n",
    "    def get_parameters(self, config):\n",
    "        \"\"\"Get parameters of the local model.\"\"\"\n",
    "        return get_parameters(self.model)\n",
    "\n",
    "    def fit(self, parameters, config):\n",
    "        \"\"\"Train parameters on the locally held training set.\"\"\"\n",
    "        # Update local model parameters\n",
    "        set_parameters(self.model, parameters)\n",
    "\n",
    "        # Get hyperparameters for this round\n",
    "        batch_size: int = BATCH_SIZE \n",
    "        epochs: int = NUM_EPOCHS\n",
    "\n",
    "        # Train the model using hyperparameters from config\n",
    "        history = self.model.fit(\n",
    "            self.x_train,\n",
    "            self.y_train,\n",
    "            batch_size,\n",
    "            epochs,\n",
    "        )\n",
    "\n",
    "        # Return updated model parameters and results\n",
    "        parameters_prime = get_parameters(model=self.model)\n",
    "        num_examples_train = len(self.x_train)\n",
    "        results = {\n",
    "            \"loss\": history.history[\"loss\"][0],\n",
    "            \"accuracy\": history.history[\"accuracy\"][0],\n",
    "                \n",
    "        }\n",
    "        return parameters_prime, num_examples_train, results\n",
    "\n",
    "    def evaluate(self, parameters, config):\n",
    "        \"\"\"Evaluate parameters on the locally held test set.\"\"\"\n",
    "\n",
    "        # Update local model with global parameters\n",
    "        set_parameters(self.model, parameters)\n",
    "\n",
    "        # Get config values\n",
    "        steps: int = 10\n",
    "\n",
    "        # Evaluate global model parameters on the local test data and return results\n",
    "        loss, accuracy = self.model.evaluate(self.x_test, self.y_test, BATCH_SIZE)\n",
    "        num_examples_test = len(self.x_test)\n",
    "        \n",
    "        return loss, num_examples_test, {\"accuracy\": accuracy}"
   ]
  },
  {
   "cell_type": "markdown",
   "id": "60df1d0b-5dfc-41c5-95cc-c7486720563c",
   "metadata": {
    "tags": []
   },
   "source": [
    "To simulate the federated scenario in a single machine, the client_fn method allows to create FlowerClients on demand, given the client id.\n",
    "\n",
    "Note that each client is passed both training and testing local data, so the evaluation over test data is done during the simulation itself."
   ]
  },
  {
   "cell_type": "code",
   "execution_count": 13,
   "id": "f74e48da-ecdc-4193-9a0f-dfd089b81a46",
   "metadata": {},
   "outputs": [],
   "source": [
    "def client_fn(cid: str) -> FlowerClient:\n",
    "    # Load model\n",
    "    model = create_keras_model()\n",
    "\n",
    "    # Note: each client gets a different train/test data\n",
    "    client_train_data = train_data[int(cid)]\n",
    "    client_test_data = test_data[int(cid)]\n",
    "\n",
    "    # Create a  single Flower client representing a single organization\n",
    "    return FlowerClient(model, client_train_data, client_test_data)"
   ]
  },
  {
   "cell_type": "markdown",
   "id": "248e57ae-5e5b-445f-8ac3-4ff157f64a39",
   "metadata": {},
   "source": [
    "In order to show averaged evaluations metrics beyond loss, we should define a method to do that; in this case, the accuracy is weighted averaged. "
   ]
  },
  {
   "cell_type": "code",
   "execution_count": 14,
   "id": "d5067ea7-d7ac-4fc7-9789-51d7427350c2",
   "metadata": {},
   "outputs": [],
   "source": [
    "def weighted_average(metrics: List[Tuple[int, Metrics]]) -> Metrics:\n",
    "    # Multiply accuracy of each client by number of examples used\n",
    "    accuracies = [num_examples * m[\"accuracy\"] for num_examples, m in metrics]\n",
    "    examples = [num_examples for num_examples, _ in metrics]\n",
    "\n",
    "    # Aggregate and return custom metric (weighted average)\n",
    "    return {\"accuracy\": sum(accuracies) / sum(examples)}"
   ]
  },
  {
   "cell_type": "markdown",
   "id": "9dd267dc",
   "metadata": {
    "id": "9dd267dc"
   },
   "source": [
    "Define a training strategy with the weighted FedAvg algorithm.\n",
    "\n",
    "Then, start the simulation indicating the method to create clients, the number of clients in the simulation, the number of rounds, and the strategy (i.e., the FedAvg strategy to combine local updates). The simulation covers both the federated model training as well as evaluating the model with each local test data."
   ]
  },
  {
   "cell_type": "code",
   "execution_count": 15,
   "id": "2edf2a09-c842-4cec-a7f5-38fde48a8f7f",
   "metadata": {},
   "outputs": [],
   "source": [
    "# Define the configuration during training/fitting the model. It is used later when defining the FedAvg strategy.\n",
    "def fit_config(server_round: int):\n",
    "    config = {\n",
    "        \"batch_size\": BATCH_SIZE,\n",
    "        \"local_epochs\": NUM_EPOCHS\n",
    "    }\n",
    "    return config\n",
    "\n",
    "# Define the configuration during evaluation. It is used later when defining the FedAvg strategy.\n",
    "def evaluate_config(server_round: int):\n",
    "    return {\"val_steps\": 5}"
   ]
  },
  {
   "cell_type": "code",
   "execution_count": 16,
   "id": "03fd0190-5f5c-484b-82bb-56db0dc638fb",
   "metadata": {},
   "outputs": [
    {
     "name": "stderr",
     "output_type": "stream",
     "text": [
      "INFO flwr 2023-05-10 10:55:01,729 | app.py:142 | Starting Flower simulation, config: ServerConfig(num_rounds=10, round_timeout=None)\n",
      "INFO:flwr:Starting Flower simulation, config: ServerConfig(num_rounds=10, round_timeout=None)\n",
      "2023-05-10 10:55:03,815\tINFO worker.py:1529 -- Started a local Ray instance. View the dashboard at \u001b[1m\u001b[32mhttp://127.0.0.1:8265 \u001b[39m\u001b[22m\n",
      "INFO flwr 2023-05-10 10:55:04,937 | app.py:176 | Flower VCE: Ray initialized with resources: {'node:172.25.8.82': 1.0, 'memory': 8634888192.0, 'object_store_memory': 4317444096.0, 'CPU': 12.0}\n",
      "INFO:flwr:Flower VCE: Ray initialized with resources: {'node:172.25.8.82': 1.0, 'memory': 8634888192.0, 'object_store_memory': 4317444096.0, 'CPU': 12.0}\n",
      "INFO flwr 2023-05-10 10:55:04,939 | server.py:86 | Initializing global parameters\n",
      "INFO:flwr:Initializing global parameters\n",
      "INFO flwr 2023-05-10 10:55:04,939 | server.py:270 | Requesting initial parameters from one random client\n",
      "INFO:flwr:Requesting initial parameters from one random client\n",
      "\u001b[2m\u001b[36m(launch_and_get_parameters pid=38097)\u001b[0m 2023-05-10 10:55:05.715167: W tensorflow/compiler/tf2tensorrt/utils/py_utils.cc:38] TF-TRT Warning: Could not find TensorRT\n",
      "INFO flwr 2023-05-10 10:55:08,936 | server.py:274 | Received initial parameters from one random client\n",
      "INFO:flwr:Received initial parameters from one random client\n",
      "INFO flwr 2023-05-10 10:55:08,937 | server.py:88 | Evaluating initial parameters\n",
      "INFO:flwr:Evaluating initial parameters\n",
      "INFO flwr 2023-05-10 10:55:08,938 | server.py:101 | FL starting\n",
      "INFO:flwr:FL starting\n",
      "DEBUG flwr 2023-05-10 10:55:08,939 | server.py:215 | fit_round 1: strategy sampled 5 clients (out of 5)\n",
      "DEBUG:flwr:fit_round 1: strategy sampled 5 clients (out of 5)\n"
     ]
    },
    {
     "name": "stdout",
     "output_type": "stream",
     "text": [
      "\u001b[2m\u001b[36m(launch_and_fit pid=38097)\u001b[0m Epoch 1/5\n"
     ]
    },
    {
     "name": "stderr",
     "output_type": "stream",
     "text": [
      "\u001b[2m\u001b[36m(launch_and_fit pid=38104)\u001b[0m 2023-05-10 10:55:11.551881: W tensorflow/compiler/tf2tensorrt/utils/py_utils.cc:38] TF-TRT Warning: Could not find TensorRT\n",
      "\u001b[2m\u001b[36m(launch_and_fit pid=38101)\u001b[0m 2023-05-10 10:55:11.565555: W tensorflow/compiler/tf2tensorrt/utils/py_utils.cc:38] TF-TRT Warning: Could not find TensorRT\n",
      "\u001b[2m\u001b[36m(launch_and_fit pid=38098)\u001b[0m 2023-05-10 10:55:11.951587: W tensorflow/compiler/tf2tensorrt/utils/py_utils.cc:38] TF-TRT Warning: Could not find TensorRT\n",
      "\u001b[2m\u001b[36m(launch_and_fit pid=38099)\u001b[0m 2023-05-10 10:55:12.021296: W tensorflow/compiler/tf2tensorrt/utils/py_utils.cc:38] TF-TRT Warning: Could not find TensorRT\n"
     ]
    },
    {
     "name": "stdout",
     "output_type": "stream",
     "text": [
      " 43/160 [=======>......................] - ETA: 0s - loss: 0.6932 - accuracy: 0.5244  \n",
      "118/160 [=====================>........] - ETA: 0s - loss: 0.6807 - accuracy: 0.5814\n",
      "160/160 [==============================] - 1s 1ms/step - loss: 0.6737 - accuracy: 0.6053\n",
      "\u001b[2m\u001b[36m(launch_and_fit pid=38097)\u001b[0m Epoch 2/5\n",
      " 32/160 [=====>........................] - ETA: 0s - loss: 0.6337 - accuracy: 0.7219\n",
      "110/160 [===================>..........] - ETA: 0s - loss: 0.6197 - accuracy: 0.7032\n",
      "160/160 [==============================] - 0s 1ms/step - loss: 0.6169 - accuracy: 0.6963\n",
      "\u001b[2m\u001b[36m(launch_and_fit pid=38097)\u001b[0m Epoch 3/5\n",
      " 43/160 [=======>......................] - ETA: 0s - loss: 0.5954 - accuracy: 0.7047\n",
      "117/160 [====================>.........] - ETA: 0s - loss: 0.5869 - accuracy: 0.7077\n",
      "160/160 [==============================] - 0s 1ms/step - loss: 0.5795 - accuracy: 0.7159\n",
      "\u001b[2m\u001b[36m(launch_and_fit pid=38097)\u001b[0m Epoch 4/5\n",
      " 31/160 [====>.........................] - ETA: 0s - loss: 0.5715 - accuracy: 0.7145\n",
      " 94/160 [================>.............] - ETA: 0s - loss: 0.5638 - accuracy: 0.7165\n",
      "160/160 [==============================] - 0s 2ms/step - loss: 0.5613 - accuracy: 0.7178\n",
      "\u001b[2m\u001b[36m(launch_and_fit pid=38097)\u001b[0m Epoch 5/5\n",
      " 30/160 [====>.........................] - ETA: 0s - loss: 0.5404 - accuracy: 0.7300\n",
      " 65/160 [===========>..................] - ETA: 0s - loss: 0.5500 - accuracy: 0.7362\n",
      "139/160 [=========================>....] - ETA: 0s - loss: 0.5539 - accuracy: 0.7245\n",
      "160/160 [==============================] - 0s 1ms/step - loss: 0.5520 - accuracy: 0.7250\n"
     ]
    },
    {
     "name": "stderr",
     "output_type": "stream",
     "text": [
      "\u001b[2m\u001b[36m(launch_and_fit pid=38104)\u001b[0m 2023-05-10 10:55:13.170043: W tensorflow/tsl/framework/cpu_allocator_impl.cc:83] Allocation of 498570752 exceeds 10% of free system memory.\n",
      "\u001b[2m\u001b[36m(launch_and_fit pid=38101)\u001b[0m 2023-05-10 10:55:13.184109: W tensorflow/tsl/framework/cpu_allocator_impl.cc:83] Allocation of 498570752 exceeds 10% of free system memory.\n",
      "\u001b[2m\u001b[36m(launch_and_fit pid=38098)\u001b[0m 2023-05-10 10:55:13.773500: W tensorflow/tsl/framework/cpu_allocator_impl.cc:83] Allocation of 498570752 exceeds 10% of free system memory.\n",
      "\u001b[2m\u001b[36m(launch_and_fit pid=38099)\u001b[0m 2023-05-10 10:55:13.920770: W tensorflow/tsl/framework/cpu_allocator_impl.cc:83] Allocation of 498570752 exceeds 10% of free system memory.\n",
      "\u001b[2m\u001b[36m(launch_and_fit pid=38104)\u001b[0m 2023-05-10 10:55:15.895741: W tensorflow/tsl/framework/cpu_allocator_impl.cc:83] Allocation of 498570752 exceeds 10% of free system memory.\n"
     ]
    },
    {
     "name": "stdout",
     "output_type": "stream",
     "text": [
      "\u001b[2m\u001b[36m(launch_and_fit pid=38104)\u001b[0m Epoch 1/5\n"
     ]
    },
    {
     "name": "stderr",
     "output_type": "stream",
     "text": [
      "\u001b[2m\u001b[36m(launch_and_fit pid=38098)\u001b[0m 2023-05-10 10:55:16.630176: W tensorflow/tsl/framework/cpu_allocator_impl.cc:83] Allocation of 498570752 exceeds 10% of free system memory.\n",
      "\u001b[2m\u001b[36m(launch_and_fit pid=38101)\u001b[0m 2023-05-10 10:55:17.146499: W tensorflow/tsl/framework/cpu_allocator_impl.cc:83] Allocation of 498570752 exceeds 10% of free system memory.\n"
     ]
    },
    {
     "name": "stdout",
     "output_type": "stream",
     "text": [
      "\u001b[2m\u001b[36m(launch_and_fit pid=38098)\u001b[0m Epoch 1/5\n",
      "  1/160 [..............................] - ETA: 1:58 - loss: 0.7162 - accuracy: 0.4500\n",
      " 44/160 [=======>......................] - ETA: 0s - loss: 0.6982 - accuracy: 0.4693\n",
      " 69/160 [===========>..................] - ETA: 0s - loss: 0.6930 - accuracy: 0.5080\n",
      " 95/160 [================>.............] - ETA: 0s - loss: 0.6891 - accuracy: 0.5274\n",
      "\u001b[2m\u001b[36m(launch_and_fit pid=38101)\u001b[0m Epoch 1/5\n",
      "160/160 [==============================] - 1s 3ms/step - loss: 0.6777 - accuracy: 0.5791\n",
      "\u001b[2m\u001b[36m(launch_and_fit pid=38104)\u001b[0m Epoch 2/5\n",
      "  1/160 [..............................] - ETA: 0s - loss: 0.6486 - accuracy: 0.5500\n",
      " 76/160 [=============>................] - ETA: 0s - loss: 0.6365 - accuracy: 0.6750\n"
     ]
    },
    {
     "name": "stderr",
     "output_type": "stream",
     "text": [
      "\u001b[2m\u001b[36m(launch_and_fit pid=38099)\u001b[0m 2023-05-10 10:55:17.679645: W tensorflow/tsl/framework/cpu_allocator_impl.cc:83] Allocation of 498570752 exceeds 10% of free system memory.\n"
     ]
    },
    {
     "name": "stdout",
     "output_type": "stream",
     "text": [
      "160/160 [==============================] - 0s 1ms/step - loss: 0.6260 - accuracy: 0.6791\n",
      "\u001b[2m\u001b[36m(launch_and_fit pid=38104)\u001b[0m Epoch 3/5\n",
      "  1/160 [..............................] - ETA: 0s - loss: 0.4924 - accuracy: 0.9000\n",
      " 86/160 [===============>..............] - ETA: 0s - loss: 0.5830 - accuracy: 0.7076\n",
      "160/160 [==============================] - 0s 1ms/step - loss: 0.5853 - accuracy: 0.7003\n",
      "\u001b[2m\u001b[36m(launch_and_fit pid=38104)\u001b[0m Epoch 4/5\n",
      " 50/160 [========>.....................] - ETA: 0s - loss: 0.5635 - accuracy: 0.7210\n",
      "\u001b[2m\u001b[36m(launch_and_fit pid=38099)\u001b[0m Epoch 1/5\n",
      "141/160 [=========================>....] - ETA: 0s - loss: 0.5686 - accuracy: 0.7064\n",
      " 40/160 [======>.......................] - ETA: 0s - loss: 0.6949 - accuracy: 0.5000  \n",
      "160/160 [==============================] - 0s 1ms/step - loss: 0.5664 - accuracy: 0.7094\n",
      "\u001b[2m\u001b[36m(launch_and_fit pid=38104)\u001b[0m Epoch 5/5\n",
      " 47/160 [=======>......................] - ETA: 0s - loss: 0.5539 - accuracy: 0.7181\n",
      "118/160 [=====================>........] - ETA: 0s - loss: 0.6845 - accuracy: 0.5585\n",
      "124/160 [======================>.......] - ETA: 0s - loss: 0.5558 - accuracy: 0.7097\n",
      "160/160 [==============================] - 0s 1ms/step - loss: 0.5553 - accuracy: 0.7119\n",
      "160/160 [==============================] - 1s 1ms/step - loss: 0.6784 - accuracy: 0.5825\n",
      "\u001b[2m\u001b[36m(launch_and_fit pid=38101)\u001b[0m Epoch 2/5\n",
      "  1/160 [..............................] - ETA: 0s - loss: 0.6549 - accuracy: 0.6500\n",
      " 56/160 [=========>....................] - ETA: 0s - loss: 0.6422 - accuracy: 0.6723\n",
      "  1/160 [..............................] - ETA: 1:36 - loss: 0.6970 - accuracy: 0.6000\n",
      " 99/160 [=================>............] - ETA: 0s - loss: 0.6370 - accuracy: 0.6732\n",
      " 41/160 [======>.......................] - ETA: 0s - loss: 0.6903 - accuracy: 0.5195\n",
      "136/160 [========================>.....] - ETA: 0s - loss: 0.6281 - accuracy: 0.6827\n",
      " 84/160 [==============>...............] - ETA: 0s - loss: 0.6873 - accuracy: 0.5345\n",
      "160/160 [==============================] - 0s 2ms/step - loss: 0.6236 - accuracy: 0.6872\n",
      "\u001b[2m\u001b[36m(launch_and_fit pid=38101)\u001b[0m Epoch 3/5\n",
      "  1/160 [..............................] - ETA: 0s - loss: 0.6142 - accuracy: 0.7000\n",
      " 46/160 [=======>......................] - ETA: 0s - loss: 0.5803 - accuracy: 0.7196\n",
      "140/160 [=========================>....] - ETA: 0s - loss: 0.6823 - accuracy: 0.5539\n",
      " 83/160 [==============>...............] - ETA: 0s - loss: 0.5848 - accuracy: 0.7078\n",
      "160/160 [==============================] - 1s 2ms/step - loss: 0.6781 - accuracy: 0.5719\n",
      "\u001b[2m\u001b[36m(launch_and_fit pid=38099)\u001b[0m Epoch 2/5\n",
      " 28/160 [====>.........................] - ETA: 0s - loss: 0.6523 - accuracy: 0.6554\n",
      "138/160 [========================>.....] - ETA: 0s - loss: 0.5804 - accuracy: 0.7058\n",
      " 79/160 [=============>................] - ETA: 0s - loss: 0.6383 - accuracy: 0.6709\n",
      "160/160 [==============================] - 0s 2ms/step - loss: 0.5792 - accuracy: 0.7106\n",
      "\u001b[2m\u001b[36m(launch_and_fit pid=38101)\u001b[0m Epoch 4/5\n",
      " 27/160 [====>.........................] - ETA: 0s - loss: 0.5440 - accuracy: 0.7315\n",
      "133/160 [=======================>......] - ETA: 0s - loss: 0.6254 - accuracy: 0.6816\n",
      "101/160 [=================>............] - ETA: 0s - loss: 0.5604 - accuracy: 0.7149\n",
      "160/160 [==============================] - 0s 2ms/step - loss: 0.6222 - accuracy: 0.6853\n",
      "\u001b[2m\u001b[36m(launch_and_fit pid=38099)\u001b[0m Epoch 3/5\n",
      " 39/160 [======>.......................] - ETA: 0s - loss: 0.5804 - accuracy: 0.7333\n",
      "160/160 [==============================] - 0s 2ms/step - loss: 0.5590 - accuracy: 0.7134\n",
      "\u001b[2m\u001b[36m(launch_and_fit pid=38101)\u001b[0m Epoch 5/5\n",
      "  1/160 [..............................] - ETA: 0s - loss: 0.5027 - accuracy: 0.7500\n",
      "111/160 [===================>..........] - ETA: 0s - loss: 0.5852 - accuracy: 0.7104\n",
      " 69/160 [===========>..................] - ETA: 0s - loss: 0.5390 - accuracy: 0.7283\n",
      "160/160 [==============================] - 0s 1ms/step - loss: 0.5801 - accuracy: 0.7125\n",
      "\u001b[2m\u001b[36m(launch_and_fit pid=38099)\u001b[0m Epoch 4/5\n",
      " 36/160 [=====>........................] - ETA: 0s - loss: 0.5642 - accuracy: 0.7167\n",
      "134/160 [========================>.....] - ETA: 0s - loss: 0.5512 - accuracy: 0.7216\n",
      "102/160 [==================>...........] - ETA: 0s - loss: 0.5590 - accuracy: 0.7221\n",
      "160/160 [==============================] - 0s 2ms/step - loss: 0.5485 - accuracy: 0.7228\n",
      "153/160 [===========================>..] - ETA: 0s - loss: 0.5598 - accuracy: 0.7222\n",
      "160/160 [==============================] - 0s 2ms/step - loss: 0.5596 - accuracy: 0.7212\n",
      "\u001b[2m\u001b[36m(launch_and_fit pid=38099)\u001b[0m Epoch 5/5\n",
      " 30/160 [====>.........................] - ETA: 0s - loss: 0.5325 - accuracy: 0.7217\n",
      "108/160 [===================>..........] - ETA: 0s - loss: 0.5447 - accuracy: 0.7250\n",
      "160/160 [==============================] - 0s 1ms/step - loss: 0.5487 - accuracy: 0.7200\n",
      "\u001b[2m\u001b[36m(launch_and_fit pid=38097)\u001b[0m Epoch 1/5\n"
     ]
    },
    {
     "name": "stderr",
     "output_type": "stream",
     "text": [
      "\u001b[2m\u001b[36m(launch_and_fit pid=38099)\u001b[0m 2023-05-10 10:55:25.287305: W tensorflow/tsl/framework/cpu_allocator_impl.cc:83] Allocation of 498570752 exceeds 10% of free system memory.\n",
      "\u001b[2m\u001b[36m(launch_and_fit pid=38099)\u001b[0m 2023-05-10 10:55:26.062821: W tensorflow/tsl/framework/cpu_allocator_impl.cc:83] Allocation of 498570752 exceeds 10% of free system memory.\n"
     ]
    },
    {
     "name": "stdout",
     "output_type": "stream",
     "text": [
      "\u001b[2m\u001b[36m(launch_and_fit pid=38099)\u001b[0m Epoch 1/5\n",
      "  1/160 [..............................] - ETA: 57s - loss: 0.7266 - accuracy: 0.2500\n",
      " 99/160 [=================>............] - ETA: 0s - loss: 0.6840 - accuracy: 0.5576\n",
      "160/160 [==============================] - 1s 1ms/step - loss: 0.6730 - accuracy: 0.5997\n",
      "\u001b[2m\u001b[36m(launch_and_fit pid=38099)\u001b[0m Epoch 2/5\n",
      " 57/160 [=========>....................] - ETA: 0s - loss: 0.6323 - accuracy: 0.6947\n",
      "160/160 [==============================] - 0s 930us/step - loss: 0.6112 - accuracy: 0.7109\n",
      "\u001b[2m\u001b[36m(launch_and_fit pid=38099)\u001b[0m Epoch 3/5\n",
      "  1/160 [..............................] - ETA: 0s - loss: 0.5824 - accuracy: 0.6500\n",
      "108/160 [===================>..........] - ETA: 0s - loss: 0.5656 - accuracy: 0.7287\n",
      "160/160 [==============================] - 0s 970us/step - loss: 0.5635 - accuracy: 0.7266\n",
      "\u001b[2m\u001b[36m(launch_and_fit pid=38099)\u001b[0m Epoch 4/5\n",
      " 56/160 [=========>....................] - ETA: 0s - loss: 0.5400 - accuracy: 0.7259\n",
      "160/160 [==============================] - 0s 927us/step - loss: 0.5421 - accuracy: 0.7306\n",
      "\u001b[2m\u001b[36m(launch_and_fit pid=38099)\u001b[0m Epoch 5/5\n",
      "  1/160 [..............................] - ETA: 0s - loss: 0.5585 - accuracy: 0.7000\n",
      "110/160 [===================>..........] - ETA: 0s - loss: 0.5377 - accuracy: 0.7255\n",
      "160/160 [==============================] - 0s 944us/step - loss: 0.5326 - accuracy: 0.7328\n"
     ]
    },
    {
     "name": "stderr",
     "output_type": "stream",
     "text": [
      "DEBUG flwr 2023-05-10 10:55:28,939 | server.py:229 | fit_round 1 received 5 results and 0 failures\n",
      "DEBUG:flwr:fit_round 1 received 5 results and 0 failures\n",
      "WARNING flwr 2023-05-10 10:55:39,042 | fedavg.py:242 | No fit_metrics_aggregation_fn provided\n",
      "WARNING:flwr:No fit_metrics_aggregation_fn provided\n",
      "DEBUG flwr 2023-05-10 10:55:39,165 | server.py:165 | evaluate_round 1: strategy sampled 5 clients (out of 5)\n",
      "DEBUG:flwr:evaluate_round 1: strategy sampled 5 clients (out of 5)\n",
      "\u001b[2m\u001b[36m(raylet)\u001b[0m Spilled 3341 MiB, 16 objects, write throughput 580 MiB/s. Set RAY_verbose_spill_logs=0 to disable this message.\n",
      "\u001b[2m\u001b[36m(launch_and_evaluate pid=38104)\u001b[0m 2023-05-10 10:55:44.317406: W tensorflow/tsl/framework/cpu_allocator_impl.cc:83] Allocation of 498570752 exceeds 10% of free system memory.\n",
      "\u001b[2m\u001b[36m(launch_and_evaluate pid=38096)\u001b[0m 2023-05-10 10:55:44.725063: W tensorflow/compiler/tf2tensorrt/utils/py_utils.cc:38] TF-TRT Warning: Could not find TensorRT\n",
      "\u001b[2m\u001b[36m(launch_and_evaluate pid=38102)\u001b[0m 2023-05-10 10:55:44.725072: W tensorflow/compiler/tf2tensorrt/utils/py_utils.cc:38] TF-TRT Warning: Could not find TensorRT\n",
      "\u001b[2m\u001b[36m(launch_and_evaluate pid=38104)\u001b[0m 2023-05-10 10:55:45.269786: W tensorflow/tsl/framework/cpu_allocator_impl.cc:83] Allocation of 498570752 exceeds 10% of free system memory.\n",
      "\u001b[2m\u001b[36m(launch_and_evaluate pid=38096)\u001b[0m 2023-05-10 10:55:46.737948: W tensorflow/tsl/framework/cpu_allocator_impl.cc:83] Allocation of 498570752 exceeds 10% of free system memory.\n",
      "\u001b[2m\u001b[36m(launch_and_evaluate pid=38102)\u001b[0m 2023-05-10 10:55:46.740137: W tensorflow/tsl/framework/cpu_allocator_impl.cc:83] Allocation of 498570752 exceeds 10% of free system memory.\n"
     ]
    },
    {
     "name": "stdout",
     "output_type": "stream",
     "text": [
      "1/1 [==============================] - 0s 124ms/step - loss: 0.3749 - accuracy: 0.7778\n"
     ]
    },
    {
     "name": "stderr",
     "output_type": "stream",
     "text": [
      "\u001b[2m\u001b[36m(launch_and_evaluate pid=38104)\u001b[0m 2023-05-10 10:55:47.129932: W tensorflow/tsl/framework/cpu_allocator_impl.cc:83] Allocation of 498570752 exceeds 10% of free system memory.\n",
      "\u001b[2m\u001b[36m(launch_and_evaluate pid=38103)\u001b[0m 2023-05-10 10:55:47.898260: W tensorflow/compiler/tf2tensorrt/utils/py_utils.cc:38] TF-TRT Warning: Could not find TensorRT\n",
      "\u001b[2m\u001b[36m(launch_and_evaluate pid=38103)\u001b[0m 2023-05-10 10:55:50.170048: W tensorflow/tsl/framework/cpu_allocator_impl.cc:83] Allocation of 498570752 exceeds 10% of free system memory.\n",
      "\u001b[2m\u001b[36m(launch_and_evaluate pid=38096)\u001b[0m 2023-05-10 10:55:52.015990: W tensorflow/tsl/framework/cpu_allocator_impl.cc:83] Allocation of 498570752 exceeds 10% of free system memory.\n",
      "\u001b[2m\u001b[36m(launch_and_evaluate pid=38102)\u001b[0m 2023-05-10 10:55:52.018058: W tensorflow/tsl/framework/cpu_allocator_impl.cc:83] Allocation of 498570752 exceeds 10% of free system memory.\n"
     ]
    },
    {
     "name": "stdout",
     "output_type": "stream",
     "text": [
      "1/1 [==============================] - 0s 175ms/step - loss: 0.5731 - accuracy: 0.8333\n",
      "1/1 [==============================] - 0s 188ms/step - loss: 0.4633 - accuracy: 0.7500\n"
     ]
    },
    {
     "name": "stderr",
     "output_type": "stream",
     "text": [
      "\u001b[2m\u001b[36m(launch_and_evaluate pid=38103)\u001b[0m 2023-05-10 10:55:52.690360: W tensorflow/tsl/framework/cpu_allocator_impl.cc:83] Allocation of 498570752 exceeds 10% of free system memory.\n"
     ]
    },
    {
     "name": "stdout",
     "output_type": "stream",
     "text": [
      "1/1 [==============================] - 0s 184ms/step - loss: 0.4120 - accuracy: 0.8571\n"
     ]
    },
    {
     "name": "stderr",
     "output_type": "stream",
     "text": [
      "\u001b[2m\u001b[36m(launch_and_evaluate pid=38103)\u001b[0m 2023-05-10 10:55:54.003656: W tensorflow/tsl/framework/cpu_allocator_impl.cc:83] Allocation of 498570752 exceeds 10% of free system memory.\n",
      "\u001b[2m\u001b[36m(launch_and_evaluate pid=38103)\u001b[0m 2023-05-10 10:55:54.574890: W tensorflow/tsl/framework/cpu_allocator_impl.cc:83] Allocation of 498570752 exceeds 10% of free system memory.\n",
      "DEBUG flwr 2023-05-10 10:55:54,997 | server.py:179 | evaluate_round 1 received 5 results and 0 failures\n",
      "DEBUG:flwr:evaluate_round 1 received 5 results and 0 failures\n",
      "DEBUG flwr 2023-05-10 10:55:54,998 | server.py:215 | fit_round 2: strategy sampled 5 clients (out of 5)\n",
      "DEBUG:flwr:fit_round 2: strategy sampled 5 clients (out of 5)\n"
     ]
    },
    {
     "name": "stdout",
     "output_type": "stream",
     "text": [
      "1/1 [==============================] - 0s 91ms/step - loss: 0.3568 - accuracy: 1.0000\n"
     ]
    },
    {
     "name": "stderr",
     "output_type": "stream",
     "text": [
      "\u001b[2m\u001b[36m(launch_and_fit pid=38103)\u001b[0m 2023-05-10 10:55:56.092552: W tensorflow/tsl/framework/cpu_allocator_impl.cc:83] Allocation of 498570752 exceeds 10% of free system memory.\n",
      "\u001b[2m\u001b[36m(launch_and_fit pid=38096)\u001b[0m 2023-05-10 10:55:57.264857: W tensorflow/tsl/framework/cpu_allocator_impl.cc:83] Allocation of 498570752 exceeds 10% of free system memory.\n",
      "\u001b[2m\u001b[36m(launch_and_fit pid=38102)\u001b[0m 2023-05-10 10:55:57.253250: W tensorflow/tsl/framework/cpu_allocator_impl.cc:83] Allocation of 498570752 exceeds 10% of free system memory.\n"
     ]
    },
    {
     "name": "stdout",
     "output_type": "stream",
     "text": [
      "\u001b[2m\u001b[36m(launch_and_fit pid=38103)\u001b[0m Epoch 1/5\n",
      " 35/160 [=====>........................] - ETA: 0s - loss: 0.5743 - accuracy: 0.6914  \n",
      "123/160 [======================>.......] - ETA: 0s - loss: 0.5588 - accuracy: 0.7187\n",
      "160/160 [==============================] - 1s 1ms/step - loss: 0.5580 - accuracy: 0.7175\n",
      "\u001b[2m\u001b[36m(launch_and_fit pid=38103)\u001b[0m Epoch 2/5\n",
      "  1/160 [..............................] - ETA: 0s - loss: 0.4431 - accuracy: 0.8000\n",
      "108/160 [===================>..........] - ETA: 0s - loss: 0.5539 - accuracy: 0.7157\n",
      "160/160 [==============================] - 0s 1ms/step - loss: 0.5524 - accuracy: 0.7156\n",
      "\u001b[2m\u001b[36m(launch_and_fit pid=38103)\u001b[0m Epoch 3/5\n",
      "  1/160 [..............................] - ETA: 0s - loss: 0.6621 - accuracy: 0.5500\n",
      " 83/160 [==============>...............] - ETA: 0s - loss: 0.5416 - accuracy: 0.7277\n",
      "160/160 [==============================] - 0s 1ms/step - loss: 0.5472 - accuracy: 0.7237\n",
      "\u001b[2m\u001b[36m(launch_and_fit pid=38103)\u001b[0m Epoch 4/5\n",
      "  1/160 [..............................] - ETA: 0s - loss: 0.5651 - accuracy: 0.7000\n",
      " 90/160 [===============>..............] - ETA: 0s - loss: 0.5406 - accuracy: 0.7333\n",
      "160/160 [==============================] - 0s 1ms/step - loss: 0.5430 - accuracy: 0.7278\n",
      "\u001b[2m\u001b[36m(launch_and_fit pid=38103)\u001b[0m Epoch 5/5\n",
      " 33/160 [=====>........................] - ETA: 0s - loss: 0.5514 - accuracy: 0.7288\n",
      "106/160 [==================>...........] - ETA: 0s - loss: 0.5406 - accuracy: 0.7259\n",
      "160/160 [==============================] - 0s 1ms/step - loss: 0.5405 - accuracy: 0.7225\n"
     ]
    },
    {
     "name": "stderr",
     "output_type": "stream",
     "text": [
      "\u001b[2m\u001b[36m(launch_and_fit pid=38102)\u001b[0m 2023-05-10 10:56:01.034554: W tensorflow/tsl/framework/cpu_allocator_impl.cc:83] Allocation of 498570752 exceeds 10% of free system memory.\n",
      "\u001b[2m\u001b[36m(launch_and_fit pid=38096)\u001b[0m 2023-05-10 10:56:01.654858: W tensorflow/tsl/framework/cpu_allocator_impl.cc:83] Allocation of 498570752 exceeds 10% of free system memory.\n"
     ]
    },
    {
     "name": "stdout",
     "output_type": "stream",
     "text": [
      "\u001b[2m\u001b[36m(launch_and_fit pid=38102)\u001b[0m Epoch 1/5\n",
      "\u001b[2m\u001b[36m(launch_and_fit pid=38096)\u001b[0m Epoch 1/5\n"
     ]
    },
    {
     "name": "stderr",
     "output_type": "stream",
     "text": [
      "\u001b[2m\u001b[33m(raylet)\u001b[0m [2023-05-10 10:56:03,698 E 37953 37953] (raylet) node_manager.cc:3097: 7 Workers (tasks / actors) killed due to memory pressure (OOM), 0 Workers crashed due to other reasons at node (ID: aa0acf9ee9e32ddf668348d33a329ec3aa72650aa672c670cc93ed24, IP: 172.25.8.82) over the last time period. To see more information about the Workers killed on this node, use `ray logs raylet.out -ip 172.25.8.82`\n",
      "\u001b[2m\u001b[33m(raylet)\u001b[0m \n",
      "\u001b[2m\u001b[33m(raylet)\u001b[0m Refer to the documentation on how to address the out of memory issue: https://docs.ray.io/en/latest/ray-core/scheduling/ray-oom-prevention.html. Consider provisioning more memory on this node or reducing task parallelism by requesting more CPUs per task. To adjust the kill threshold, set the environment variable `RAY_memory_usage_threshold` when starting Ray. To disable worker killing, set the environment variable `RAY_memory_monitor_refresh_ms` to zero.\n"
     ]
    },
    {
     "name": "stdout",
     "output_type": "stream",
     "text": [
      " 35/160 [=====>........................] - ETA: 0s - loss: 0.5393 - accuracy: 0.7443  \n",
      " 91/160 [================>.............] - ETA: 0s - loss: 0.5515 - accuracy: 0.7302\n",
      "160/160 [==============================] - 2s 2ms/step - loss: 0.5552 - accuracy: 0.7244\n",
      "\u001b[2m\u001b[36m(launch_and_fit pid=38102)\u001b[0m Epoch 2/5\n",
      "  1/160 [..............................] - ETA: 0s - loss: 0.6074 - accuracy: 0.7000\n",
      " 78/160 [=============>................] - ETA: 0s - loss: 0.5467 - accuracy: 0.7269\n",
      "148/160 [==========================>...] - ETA: 0s - loss: 0.5492 - accuracy: 0.7240\n",
      "160/160 [==============================] - 0s 2ms/step - loss: 0.5490 - accuracy: 0.7253\n",
      "\u001b[2m\u001b[36m(launch_and_fit pid=38102)\u001b[0m Epoch 3/5\n",
      " 43/160 [=======>......................] - ETA: 0s - loss: 0.5215 - accuracy: 0.7407\n",
      "160/160 [==============================] - 0s 1ms/step - loss: 0.5447 - accuracy: 0.7256\n",
      "\u001b[2m\u001b[36m(launch_and_fit pid=38102)\u001b[0m Epoch 4/5\n",
      "  1/160 [..............................] - ETA: 0s - loss: 0.3947 - accuracy: 0.8500\n",
      " 87/160 [===============>..............] - ETA: 0s - loss: 0.5275 - accuracy: 0.7466\n",
      "160/160 [==============================] - 0s 1ms/step - loss: 0.5419 - accuracy: 0.7328\n",
      "\u001b[2m\u001b[36m(launch_and_fit pid=38102)\u001b[0m Epoch 5/5\n",
      "  1/160 [..............................] - ETA: 0s - loss: 0.5051 - accuracy: 0.7000\n",
      " 89/160 [===============>..............] - ETA: 0s - loss: 0.5305 - accuracy: 0.7393\n"
     ]
    },
    {
     "name": "stderr",
     "output_type": "stream",
     "text": [
      "\u001b[2m\u001b[36m(raylet)\u001b[0m Spilled 4774 MiB, 24 objects, write throughput 531 MiB/s.\n"
     ]
    },
    {
     "name": "stdout",
     "output_type": "stream",
     "text": [
      "160/160 [==============================] - 0s 1ms/step - loss: 0.5379 - accuracy: 0.7309\n",
      "\u001b[2m\u001b[36m(launch_and_fit pid=38103)\u001b[0m Epoch 1/5\n",
      " 31/160 [====>.........................] - ETA: 0s - loss: 0.5425 - accuracy: 0.7274  \n",
      "113/160 [====================>.........] - ETA: 0s - loss: 0.5384 - accuracy: 0.7305\n",
      "160/160 [==============================] - 1s 1ms/step - loss: 0.5385 - accuracy: 0.7328\n",
      "\u001b[2m\u001b[36m(launch_and_fit pid=38103)\u001b[0m Epoch 2/5\n",
      " 28/160 [====>.........................] - ETA: 0s - loss: 0.5349 - accuracy: 0.7304\n",
      "114/160 [====================>.........] - ETA: 0s - loss: 0.5292 - accuracy: 0.7272\n",
      "160/160 [==============================] - 0s 1ms/step - loss: 0.5289 - accuracy: 0.7337\n",
      "\u001b[2m\u001b[36m(launch_and_fit pid=38103)\u001b[0m Epoch 3/5\n",
      " 51/160 [========>.....................] - ETA: 0s - loss: 0.5150 - accuracy: 0.7431\n",
      "160/160 [==============================] - 0s 1ms/step - loss: 0.5243 - accuracy: 0.7328\n",
      "\u001b[2m\u001b[36m(launch_and_fit pid=38103)\u001b[0m Epoch 4/5\n",
      "  1/160 [..............................] - ETA: 0s - loss: 0.5572 - accuracy: 0.6500\n",
      "103/160 [==================>...........] - ETA: 0s - loss: 0.5119 - accuracy: 0.7451\n",
      "160/160 [==============================] - 0s 1ms/step - loss: 0.5219 - accuracy: 0.7353\n",
      "\u001b[2m\u001b[36m(launch_and_fit pid=38103)\u001b[0m Epoch 5/5\n",
      " 51/160 [========>.....................] - ETA: 0s - loss: 0.5275 - accuracy: 0.7353\n",
      "160/160 [==============================] - 0s 1ms/step - loss: 0.5184 - accuracy: 0.7384\n"
     ]
    },
    {
     "name": "stderr",
     "output_type": "stream",
     "text": [
      "\u001b[2m\u001b[36m(launch_and_fit pid=38105)\u001b[0m 2023-05-10 10:56:07.543591: W tensorflow/compiler/tf2tensorrt/utils/py_utils.cc:38] TF-TRT Warning: Could not find TensorRT\n",
      "\u001b[2m\u001b[36m(launch_and_fit pid=38106)\u001b[0m 2023-05-10 10:56:08.453561: W tensorflow/compiler/tf2tensorrt/utils/py_utils.cc:38] TF-TRT Warning: Could not find TensorRT\n",
      "\u001b[2m\u001b[36m(launch_and_fit pid=38105)\u001b[0m 2023-05-10 10:56:09.992475: W tensorflow/tsl/framework/cpu_allocator_impl.cc:83] Allocation of 498570752 exceeds 10% of free system memory.\n",
      "\u001b[2m\u001b[36m(launch_and_fit pid=38106)\u001b[0m 2023-05-10 10:56:09.992498: W tensorflow/tsl/framework/cpu_allocator_impl.cc:83] Allocation of 498570752 exceeds 10% of free system memory.\n",
      "\u001b[2m\u001b[36m(launch_and_fit pid=38106)\u001b[0m 2023-05-10 10:56:12.341415: W tensorflow/tsl/framework/cpu_allocator_impl.cc:83] Allocation of 498570752 exceeds 10% of free system memory.\n",
      "\u001b[2m\u001b[36m(launch_and_fit pid=38105)\u001b[0m 2023-05-10 10:56:13.265987: W tensorflow/tsl/framework/cpu_allocator_impl.cc:83] Allocation of 498570752 exceeds 10% of free system memory.\n"
     ]
    },
    {
     "name": "stdout",
     "output_type": "stream",
     "text": [
      "\u001b[2m\u001b[36m(launch_and_fit pid=38105)\u001b[0m Epoch 1/5\n",
      " 34/160 [=====>........................] - ETA: 0s - loss: 0.5516 - accuracy: 0.7206  \n",
      "128/160 [=======================>......] - ETA: 0s - loss: 0.5487 - accuracy: 0.7223\n",
      "160/160 [==============================] - 1s 1ms/step - loss: 0.5521 - accuracy: 0.7150\n",
      "\u001b[2m\u001b[36m(launch_and_fit pid=38105)\u001b[0m Epoch 2/5\n",
      " 55/160 [=========>....................] - ETA: 0s - loss: 0.5480 - accuracy: 0.7173\n",
      "109/160 [===================>..........] - ETA: 0s - loss: 0.5445 - accuracy: 0.7179\n",
      "160/160 [==============================] - 0s 954us/step - loss: 0.5457 - accuracy: 0.7203\n",
      "\u001b[2m\u001b[36m(launch_and_fit pid=38105)\u001b[0m Epoch 3/5\n",
      " 55/160 [=========>....................] - ETA: 0s - loss: 0.5536 - accuracy: 0.7227\n",
      "160/160 [==============================] - 0s 927us/step - loss: 0.5397 - accuracy: 0.7294\n",
      "\u001b[2m\u001b[36m(launch_and_fit pid=38105)\u001b[0m Epoch 4/5\n",
      "  1/160 [..............................] - ETA: 0s - loss: 0.4557 - accuracy: 0.7500\n",
      "106/160 [==================>...........] - ETA: 0s - loss: 0.5332 - accuracy: 0.7335\n",
      "160/160 [==============================] - 0s 950us/step - loss: 0.5365 - accuracy: 0.7331\n",
      "\u001b[2m\u001b[36m(launch_and_fit pid=38105)\u001b[0m Epoch 5/5\n",
      " 52/160 [========>.....................] - ETA: 0s - loss: 0.5409 - accuracy: 0.7260\n",
      "160/160 [==============================] - 0s 958us/step - loss: 0.5323 - accuracy: 0.7362\n",
      "\u001b[2m\u001b[36m(launch_and_fit pid=38103)\u001b[0m Epoch 1/5\n",
      " 43/160 [=======>......................] - ETA: 0s - loss: 0.5568 - accuracy: 0.7314  \n",
      "146/160 [==========================>...] - ETA: 0s - loss: 0.5501 - accuracy: 0.7185\n",
      "160/160 [==============================] - 1s 1ms/step - loss: 0.5525 - accuracy: 0.7166\n",
      "\u001b[2m\u001b[36m(launch_and_fit pid=38103)\u001b[0m Epoch 2/5\n",
      " 54/160 [=========>....................] - ETA: 0s - loss: 0.5520 - accuracy: 0.7176\n",
      "160/160 [==============================] - 0s 961us/step - loss: 0.5445 - accuracy: 0.7241\n",
      "\u001b[2m\u001b[36m(launch_and_fit pid=38103)\u001b[0m Epoch 3/5\n",
      "  1/160 [..............................] - ETA: 0s - loss: 0.4435 - accuracy: 0.8500\n",
      " 98/160 [=================>............] - ETA: 0s - loss: 0.5350 - accuracy: 0.7342\n",
      "160/160 [==============================] - 0s 1ms/step - loss: 0.5402 - accuracy: 0.7253\n",
      "\u001b[2m\u001b[36m(launch_and_fit pid=38103)\u001b[0m Epoch 4/5\n",
      " 59/160 [==========>...................] - ETA: 0s - loss: 0.5376 - accuracy: 0.7322\n",
      "160/160 [==============================] - 0s 869us/step - loss: 0.5370 - accuracy: 0.7262\n",
      "\u001b[2m\u001b[36m(launch_and_fit pid=38103)\u001b[0m Epoch 5/5\n",
      "  1/160 [..............................] - ETA: 0s - loss: 0.6127 - accuracy: 0.7000\n",
      "108/160 [===================>..........] - ETA: 0s - loss: 0.5343 - accuracy: 0.7273\n",
      "160/160 [==============================] - 0s 944us/step - loss: 0.5342 - accuracy: 0.7316\n"
     ]
    },
    {
     "name": "stderr",
     "output_type": "stream",
     "text": [
      "DEBUG flwr 2023-05-10 10:56:20,035 | server.py:229 | fit_round 2 received 5 results and 0 failures\n",
      "DEBUG:flwr:fit_round 2 received 5 results and 0 failures\n",
      "DEBUG flwr 2023-05-10 10:56:32,695 | server.py:165 | evaluate_round 2: strategy sampled 5 clients (out of 5)\n",
      "DEBUG:flwr:evaluate_round 2: strategy sampled 5 clients (out of 5)\n",
      "\u001b[2m\u001b[36m(launch_and_evaluate pid=38102)\u001b[0m 2023-05-10 10:56:34.091881: W tensorflow/tsl/framework/cpu_allocator_impl.cc:83] Allocation of 498570752 exceeds 10% of free system memory.\n"
     ]
    },
    {
     "name": "stdout",
     "output_type": "stream",
     "text": [
      "1/1 [==============================] - 0s 299ms/step - loss: 0.4582 - accuracy: 0.7500\n"
     ]
    },
    {
     "name": "stderr",
     "output_type": "stream",
     "text": [
      "\u001b[2m\u001b[36m(launch_and_evaluate pid=38100)\u001b[0m 2023-05-10 10:56:36.726356: W tensorflow/compiler/tf2tensorrt/utils/py_utils.cc:38] TF-TRT Warning: Could not find TensorRT\n",
      "\u001b[2m\u001b[36m(launch_and_evaluate pid=39848)\u001b[0m 2023-05-10 10:56:36.722766: W tensorflow/compiler/tf2tensorrt/utils/py_utils.cc:38] TF-TRT Warning: Could not find TensorRT\n",
      "\u001b[2m\u001b[36m(launch_and_evaluate pid=38100)\u001b[0m 2023-05-10 10:56:38.477722: W tensorflow/tsl/framework/cpu_allocator_impl.cc:83] Allocation of 498570752 exceeds 10% of free system memory.\n",
      "\u001b[2m\u001b[36m(launch_and_evaluate pid=39848)\u001b[0m 2023-05-10 10:56:38.495539: W tensorflow/tsl/framework/cpu_allocator_impl.cc:83] Allocation of 498570752 exceeds 10% of free system memory.\n",
      "\u001b[2m\u001b[36m(launch_and_evaluate pid=38100)\u001b[0m 2023-05-10 10:56:42.927453: W tensorflow/tsl/framework/cpu_allocator_impl.cc:83] Allocation of 498570752 exceeds 10% of free system memory.\n",
      "\u001b[2m\u001b[36m(launch_and_evaluate pid=39848)\u001b[0m 2023-05-10 10:56:42.908305: W tensorflow/tsl/framework/cpu_allocator_impl.cc:83] Allocation of 498570752 exceeds 10% of free system memory.\n"
     ]
    },
    {
     "name": "stdout",
     "output_type": "stream",
     "text": [
      "1/1 [==============================] - 0s 158ms/step - loss: 0.3945 - accuracy: 0.8571\n",
      "1/1 [==============================] - 0s 161ms/step - loss: 0.5734 - accuracy: 0.8333\n",
      "1/1 [==============================] - 0s 157ms/step - loss: 0.3606 - accuracy: 0.7778\n"
     ]
    },
    {
     "name": "stderr",
     "output_type": "stream",
     "text": [
      "DEBUG flwr 2023-05-10 10:56:44,857 | server.py:179 | evaluate_round 2 received 5 results and 0 failures\n",
      "DEBUG:flwr:evaluate_round 2 received 5 results and 0 failures\n",
      "DEBUG flwr 2023-05-10 10:56:44,858 | server.py:215 | fit_round 3: strategy sampled 5 clients (out of 5)\n",
      "DEBUG:flwr:fit_round 3: strategy sampled 5 clients (out of 5)\n"
     ]
    },
    {
     "name": "stdout",
     "output_type": "stream",
     "text": [
      "1/1 [==============================] - 0s 161ms/step - loss: 0.3025 - accuracy: 1.0000\n"
     ]
    },
    {
     "name": "stderr",
     "output_type": "stream",
     "text": [
      "\u001b[2m\u001b[36m(launch_and_fit pid=38100)\u001b[0m 2023-05-10 10:56:46.325486: W tensorflow/tsl/framework/cpu_allocator_impl.cc:83] Allocation of 498570752 exceeds 10% of free system memory.\n",
      "\u001b[2m\u001b[36m(launch_and_fit pid=39848)\u001b[0m 2023-05-10 10:56:48.614023: W tensorflow/tsl/framework/cpu_allocator_impl.cc:83] Allocation of 498570752 exceeds 10% of free system memory.\n"
     ]
    },
    {
     "name": "stdout",
     "output_type": "stream",
     "text": [
      "\u001b[2m\u001b[36m(launch_and_fit pid=38102)\u001b[0m Epoch 1/5\n"
     ]
    },
    {
     "name": "stderr",
     "output_type": "stream",
     "text": [
      "\u001b[2m\u001b[36m(launch_and_fit pid=39847)\u001b[0m 2023-05-10 10:56:52.603590: W tensorflow/compiler/tf2tensorrt/utils/py_utils.cc:38] TF-TRT Warning: Could not find TensorRT\n",
      "\u001b[2m\u001b[36m(launch_and_fit pid=38100)\u001b[0m 2023-05-10 10:56:52.634481: W tensorflow/tsl/framework/cpu_allocator_impl.cc:83] Allocation of 498570752 exceeds 10% of free system memory.\n"
     ]
    },
    {
     "name": "stdout",
     "output_type": "stream",
     "text": [
      "\u001b[2m\u001b[36m(launch_and_fit pid=38100)\u001b[0m Epoch 1/5\n"
     ]
    },
    {
     "name": "stderr",
     "output_type": "stream",
     "text": [
      "\u001b[2m\u001b[36m(launch_and_fit pid=39848)\u001b[0m 2023-05-10 10:56:53.596671: W tensorflow/tsl/framework/cpu_allocator_impl.cc:83] Allocation of 498570752 exceeds 10% of free system memory.\n"
     ]
    },
    {
     "name": "stdout",
     "output_type": "stream",
     "text": [
      "  1/160 [..............................] - ETA: 4:32 - loss: 0.3569 - accuracy: 0.9500\n",
      "\u001b[2m\u001b[36m(launch_and_fit pid=39848)\u001b[0m Epoch 1/5\n",
      " 50/160 [========>.....................] - ETA: 0s - loss: 0.5542 - accuracy: 0.7260\n",
      "111/160 [===================>..........] - ETA: 0s - loss: 0.5540 - accuracy: 0.7180\n",
      "160/160 [==============================] - 2s 2ms/step - loss: 0.5472 - accuracy: 0.7259\n",
      "\u001b[2m\u001b[36m(launch_and_fit pid=38102)\u001b[0m Epoch 2/5\n",
      " 33/160 [=====>........................] - ETA: 0s - loss: 0.5393 - accuracy: 0.7318\n",
      " 94/160 [================>.............] - ETA: 0s - loss: 0.5465 - accuracy: 0.7319\n",
      "143/160 [=========================>....] - ETA: 0s - loss: 0.5434 - accuracy: 0.7304\n",
      "160/160 [==============================] - 0s 2ms/step - loss: 0.5421 - accuracy: 0.7309\n",
      "\u001b[2m\u001b[36m(launch_and_fit pid=38102)\u001b[0m Epoch 3/5\n",
      " 27/160 [====>.........................] - ETA: 0s - loss: 0.4940 - accuracy: 0.7704\n",
      " 63/160 [==========>...................] - ETA: 0s - loss: 0.5269 - accuracy: 0.7405\n",
      " 25/160 [===>..........................] - ETA: 0s - loss: 0.5067 - accuracy: 0.7540  \n",
      "103/160 [==================>...........] - ETA: 0s - loss: 0.5320 - accuracy: 0.7335\n",
      " 78/160 [=============>................] - ETA: 0s - loss: 0.5393 - accuracy: 0.7224\n",
      "160/160 [==============================] - 0s 2ms/step - loss: 0.5390 - accuracy: 0.7306\n",
      "\u001b[2m\u001b[36m(launch_and_fit pid=38102)\u001b[0m Epoch 4/5\n",
      "  1/160 [..............................] - ETA: 0s - loss: 0.4691 - accuracy: 0.9000\n",
      "137/160 [========================>.....] - ETA: 0s - loss: 0.5443 - accuracy: 0.7197\n",
      " 80/160 [==============>...............] - ETA: 0s - loss: 0.5262 - accuracy: 0.7412\n",
      "160/160 [==============================] - 1s 2ms/step - loss: 0.5421 - accuracy: 0.7228\n",
      "\u001b[2m\u001b[36m(launch_and_fit pid=38100)\u001b[0m Epoch 2/5\n",
      " 39/160 [======>.......................] - ETA: 0s - loss: 0.5547 - accuracy: 0.7269\n",
      "  1/160 [..............................] - ETA: 2:49 - loss: 0.4856 - accuracy: 0.8000\n",
      "140/160 [=========================>....] - ETA: 0s - loss: 0.5404 - accuracy: 0.7271\n",
      "100/160 [=================>............] - ETA: 0s - loss: 0.5363 - accuracy: 0.7310\n",
      " 59/160 [==========>...................] - ETA: 0s - loss: 0.5226 - accuracy: 0.7415\n"
     ]
    },
    {
     "name": "stderr",
     "output_type": "stream",
     "text": [
      "\u001b[2m\u001b[36m(launch_and_fit pid=40165)\u001b[0m 2023-05-10 10:56:55.101714: W tensorflow/compiler/tf2tensorrt/utils/py_utils.cc:38] TF-TRT Warning: Could not find TensorRT\n"
     ]
    },
    {
     "name": "stdout",
     "output_type": "stream",
     "text": [
      "160/160 [==============================] - 0s 1ms/step - loss: 0.5359 - accuracy: 0.7322\n",
      "\u001b[2m\u001b[36m(launch_and_fit pid=38102)\u001b[0m Epoch 5/5\n",
      " 35/160 [=====>........................] - ETA: 0s - loss: 0.5388 - accuracy: 0.7300\n",
      "160/160 [==============================] - 0s 2ms/step - loss: 0.5379 - accuracy: 0.7247\n",
      "\u001b[2m\u001b[36m(launch_and_fit pid=38100)\u001b[0m Epoch 3/5\n",
      "  1/160 [..............................] - ETA: 0s - loss: 0.2906 - accuracy: 0.9500\n",
      "127/160 [======================>.......] - ETA: 0s - loss: 0.5283 - accuracy: 0.7291\n",
      " 85/160 [==============>...............] - ETA: 0s - loss: 0.5362 - accuracy: 0.7335\n",
      " 51/160 [========>.....................] - ETA: 0s - loss: 0.5143 - accuracy: 0.7402\n",
      "160/160 [==============================] - 1s 2ms/step - loss: 0.5262 - accuracy: 0.7362\n",
      "\u001b[2m\u001b[36m(launch_and_fit pid=39848)\u001b[0m Epoch 2/5\n",
      " 29/160 [====>.........................] - ETA: 0s - loss: 0.5297 - accuracy: 0.7172\n",
      "114/160 [====================>.........] - ETA: 0s - loss: 0.5315 - accuracy: 0.7364\n",
      " 79/160 [=============>................] - ETA: 0s - loss: 0.5221 - accuracy: 0.7335\n",
      "160/160 [==============================] - 0s 2ms/step - loss: 0.5328 - accuracy: 0.7337\n",
      "146/160 [==========================>...] - ETA: 0s - loss: 0.5323 - accuracy: 0.7267\n",
      " 96/160 [=================>............] - ETA: 0s - loss: 0.5171 - accuracy: 0.7359\n",
      "160/160 [==============================] - 0s 2ms/step - loss: 0.5351 - accuracy: 0.7259\n",
      "\u001b[2m\u001b[36m(launch_and_fit pid=38100)\u001b[0m Epoch 4/5\n",
      " 38/160 [======>.......................] - ETA: 0s - loss: 0.5497 - accuracy: 0.7184\n",
      "160/160 [==============================] - 0s 2ms/step - loss: 0.5211 - accuracy: 0.7366\n",
      "\u001b[2m\u001b[36m(launch_and_fit pid=39848)\u001b[0m Epoch 3/5\n",
      "  1/160 [..............................] - ETA: 0s - loss: 0.5591 - accuracy: 0.6500\n",
      "111/160 [===================>..........] - ETA: 0s - loss: 0.5256 - accuracy: 0.7297\n",
      " 75/160 [=============>................] - ETA: 0s - loss: 0.5158 - accuracy: 0.7400\n",
      "160/160 [==============================] - 0s 2ms/step - loss: 0.5320 - accuracy: 0.7319\n",
      "\u001b[2m\u001b[36m(launch_and_fit pid=38100)\u001b[0m Epoch 5/5\n",
      "  1/160 [..............................] - ETA: 0s - loss: 0.5832 - accuracy: 0.7500\n",
      "126/160 [======================>.......] - ETA: 0s - loss: 0.5190 - accuracy: 0.7413\n",
      " 59/160 [==========>...................] - ETA: 0s - loss: 0.5374 - accuracy: 0.7246\n",
      "160/160 [==============================] - 0s 2ms/step - loss: 0.5174 - accuracy: 0.7394\n",
      "\u001b[2m\u001b[36m(launch_and_fit pid=39848)\u001b[0m Epoch 4/5\n",
      " 39/160 [======>.......................] - ETA: 0s - loss: 0.5079 - accuracy: 0.7449\n",
      "104/160 [==================>...........] - ETA: 0s - loss: 0.5266 - accuracy: 0.7293\n",
      " 89/160 [===============>..............] - ETA: 0s - loss: 0.5129 - accuracy: 0.7478\n",
      "160/160 [==============================] - 0s 2ms/step - loss: 0.5282 - accuracy: 0.7322\n",
      "151/160 [===========================>..] - ETA: 0s - loss: 0.5156 - accuracy: 0.7430\n",
      "160/160 [==============================] - 0s 2ms/step - loss: 0.5164 - accuracy: 0.7400\n",
      "\u001b[2m\u001b[36m(launch_and_fit pid=39848)\u001b[0m Epoch 5/5\n",
      " 22/160 [===>..........................] - ETA: 0s - loss: 0.5228 - accuracy: 0.7477\n",
      " 87/160 [===============>..............] - ETA: 0s - loss: 0.5236 - accuracy: 0.7483\n",
      "160/160 [==============================] - 0s 2ms/step - loss: 0.5137 - accuracy: 0.7431\n"
     ]
    },
    {
     "name": "stderr",
     "output_type": "stream",
     "text": [
      "\u001b[2m\u001b[33m(raylet)\u001b[0m [2023-05-10 10:57:03,699 E 37953 37953] (raylet) node_manager.cc:3097: 7 Workers (tasks / actors) killed due to memory pressure (OOM), 0 Workers crashed due to other reasons at node (ID: aa0acf9ee9e32ddf668348d33a329ec3aa72650aa672c670cc93ed24, IP: 172.25.8.82) over the last time period. To see more information about the Workers killed on this node, use `ray logs raylet.out -ip 172.25.8.82`\n",
      "\u001b[2m\u001b[33m(raylet)\u001b[0m \n",
      "\u001b[2m\u001b[33m(raylet)\u001b[0m Refer to the documentation on how to address the out of memory issue: https://docs.ray.io/en/latest/ray-core/scheduling/ray-oom-prevention.html. Consider provisioning more memory on this node or reducing task parallelism by requesting more CPUs per task. To adjust the kill threshold, set the environment variable `RAY_memory_usage_threshold` when starting Ray. To disable worker killing, set the environment variable `RAY_memory_monitor_refresh_ms` to zero.\n",
      "\u001b[2m\u001b[36m(launch_and_fit pid=38100)\u001b[0m 2023-05-10 10:57:05.291999: W tensorflow/tsl/framework/cpu_allocator_impl.cc:83] Allocation of 498570752 exceeds 10% of free system memory.\n",
      "\u001b[2m\u001b[36m(launch_and_fit pid=40568)\u001b[0m 2023-05-10 10:57:07.837104: W tensorflow/compiler/tf2tensorrt/utils/py_utils.cc:38] TF-TRT Warning: Could not find TensorRT\n",
      "\u001b[2m\u001b[36m(raylet)\u001b[0m Spilled 9065 MiB, 41 objects, write throughput 441 MiB/s.\n"
     ]
    },
    {
     "name": "stdout",
     "output_type": "stream",
     "text": [
      "\u001b[2m\u001b[36m(launch_and_fit pid=38102)\u001b[0m Epoch 1/5\n",
      "\u001b[2m\u001b[36m(launch_and_fit pid=38100)\u001b[0m Epoch 1/5\n",
      "  1/160 [..............................] - ETA: 1:17 - loss: 0.5469 - accuracy: 0.6500\n",
      " 25/160 [===>..........................] - ETA: 0s - loss: 0.5243 - accuracy: 0.7420  \n",
      " 62/160 [==========>...................] - ETA: 0s - loss: 0.5428 - accuracy: 0.7258\n",
      " 86/160 [===============>..............] - ETA: 0s - loss: 0.5376 - accuracy: 0.7302\n",
      "125/160 [======================>.......] - ETA: 0s - loss: 0.5430 - accuracy: 0.7236\n",
      "160/160 [==============================] - 1s 2ms/step - loss: 0.5408 - accuracy: 0.7281\n",
      "\u001b[2m\u001b[36m(launch_and_fit pid=38102)\u001b[0m Epoch 2/5\n",
      "  1/160 [..............................] - ETA: 0s - loss: 0.4634 - accuracy: 0.8000\n",
      "160/160 [==============================] - 1s 2ms/step - loss: 0.5488 - accuracy: 0.7191\n",
      "\u001b[2m\u001b[36m(launch_and_fit pid=38100)\u001b[0m Epoch 2/5\n",
      "  1/160 [..............................] - ETA: 0s - loss: 0.5982 - accuracy: 0.7000\n",
      " 59/160 [==========>...................] - ETA: 0s - loss: 0.5363 - accuracy: 0.7322\n",
      " 68/160 [===========>..................] - ETA: 0s - loss: 0.5308 - accuracy: 0.7441\n",
      " 98/160 [=================>............] - ETA: 0s - loss: 0.5362 - accuracy: 0.7296\n",
      "113/160 [====================>.........] - ETA: 0s - loss: 0.5367 - accuracy: 0.7319\n",
      "153/160 [===========================>..] - ETA: 0s - loss: 0.5436 - accuracy: 0.7190\n"
     ]
    },
    {
     "name": "stderr",
     "output_type": "stream",
     "text": [
      "\u001b[2m\u001b[36m(launch_and_fit pid=40568)\u001b[0m 2023-05-10 10:57:10.605063: W tensorflow/tsl/framework/cpu_allocator_impl.cc:83] Allocation of 498570752 exceeds 10% of free system memory.\n"
     ]
    },
    {
     "name": "stdout",
     "output_type": "stream",
     "text": [
      "160/160 [==============================] - 0s 2ms/step - loss: 0.5362 - accuracy: 0.7294\n",
      "\u001b[2m\u001b[36m(launch_and_fit pid=38102)\u001b[0m Epoch 3/5\n",
      "  1/160 [..............................] - ETA: 0s - loss: 0.6362 - accuracy: 0.6500\n",
      "160/160 [==============================] - 0s 2ms/step - loss: 0.5445 - accuracy: 0.7203\n",
      "\u001b[2m\u001b[36m(launch_and_fit pid=38100)\u001b[0m Epoch 3/5\n",
      " 26/160 [===>..........................] - ETA: 0s - loss: 0.5548 - accuracy: 0.7173\n",
      " 45/160 [=======>......................] - ETA: 0s - loss: 0.5418 - accuracy: 0.7178\n",
      " 67/160 [===========>..................] - ETA: 0s - loss: 0.5499 - accuracy: 0.7179\n",
      "105/160 [==================>...........] - ETA: 0s - loss: 0.5335 - accuracy: 0.7338\n",
      "160/160 [==============================] - 0s 2ms/step - loss: 0.5399 - accuracy: 0.7241\n",
      "\u001b[2m\u001b[36m(launch_and_fit pid=38100)\u001b[0m Epoch 4/5\n",
      "  1/160 [..............................] - ETA: 0s - loss: 0.3038 - accuracy: 0.9500\n",
      "160/160 [==============================] - 0s 2ms/step - loss: 0.5340 - accuracy: 0.7337\n",
      "\u001b[2m\u001b[36m(launch_and_fit pid=38102)\u001b[0m Epoch 4/5\n",
      "  1/160 [..............................] - ETA: 0s - loss: 0.5503 - accuracy: 0.6500\n",
      " 70/160 [============>.................] - ETA: 0s - loss: 0.5430 - accuracy: 0.7157\n",
      " 36/160 [=====>........................] - ETA: 0s - loss: 0.4971 - accuracy: 0.7583\n",
      "120/160 [=====================>........] - ETA: 0s - loss: 0.5346 - accuracy: 0.7354\n",
      "160/160 [==============================] - 0s 1ms/step - loss: 0.5374 - accuracy: 0.7247\n",
      "\u001b[2m\u001b[36m(launch_and_fit pid=38100)\u001b[0m Epoch 5/5\n",
      "  1/160 [..............................] - ETA: 0s - loss: 0.5758 - accuracy: 0.6500\n",
      "160/160 [==============================] - 0s 1ms/step - loss: 0.5306 - accuracy: 0.7369\n",
      "\u001b[2m\u001b[36m(launch_and_fit pid=38102)\u001b[0m Epoch 5/5\n",
      " 48/160 [========>.....................] - ETA: 0s - loss: 0.5163 - accuracy: 0.7437\n",
      " 95/160 [================>.............] - ETA: 0s - loss: 0.5405 - accuracy: 0.7211\n",
      "140/160 [=========================>....] - ETA: 0s - loss: 0.5255 - accuracy: 0.7404\n",
      "160/160 [==============================] - 0s 1ms/step - loss: 0.5351 - accuracy: 0.7262\n",
      "160/160 [==============================] - 0s 1ms/step - loss: 0.5273 - accuracy: 0.7391\n"
     ]
    },
    {
     "name": "stderr",
     "output_type": "stream",
     "text": [
      "\u001b[2m\u001b[36m(launch_and_fit pid=40568)\u001b[0m 2023-05-10 10:57:12.410605: W tensorflow/tsl/framework/cpu_allocator_impl.cc:83] Allocation of 498570752 exceeds 10% of free system memory.\n"
     ]
    },
    {
     "name": "stdout",
     "output_type": "stream",
     "text": [
      "\u001b[2m\u001b[36m(launch_and_fit pid=40568)\u001b[0m Epoch 1/5\n",
      " 42/160 [======>.......................] - ETA: 0s - loss: 0.5236 - accuracy: 0.7274  \n",
      "160/160 [==============================] - 1s 1ms/step - loss: 0.5285 - accuracy: 0.7369\n",
      "\u001b[2m\u001b[36m(launch_and_fit pid=40568)\u001b[0m Epoch 2/5\n",
      "  1/160 [..............................] - ETA: 0s - loss: 0.3972 - accuracy: 0.8000\n",
      " 90/160 [===============>..............] - ETA: 0s - loss: 0.5201 - accuracy: 0.7322\n",
      "160/160 [==============================] - 0s 1ms/step - loss: 0.5224 - accuracy: 0.7372\n",
      "\u001b[2m\u001b[36m(launch_and_fit pid=40568)\u001b[0m Epoch 3/5\n",
      "  1/160 [..............................] - ETA: 0s - loss: 0.4965 - accuracy: 0.6500\n",
      "100/160 [=================>............] - ETA: 0s - loss: 0.5111 - accuracy: 0.7500\n",
      "160/160 [==============================] - 0s 998us/step - loss: 0.5188 - accuracy: 0.7409\n",
      "\u001b[2m\u001b[36m(launch_and_fit pid=40568)\u001b[0m Epoch 4/5\n",
      " 55/160 [=========>....................] - ETA: 0s - loss: 0.5097 - accuracy: 0.7418\n",
      "160/160 [==============================] - 0s 950us/step - loss: 0.5157 - accuracy: 0.7381\n",
      "\u001b[2m\u001b[36m(launch_and_fit pid=40568)\u001b[0m Epoch 5/5\n",
      "  1/160 [..............................] - ETA: 0s - loss: 0.5005 - accuracy: 0.7500\n",
      "110/160 [===================>..........] - ETA: 0s - loss: 0.5223 - accuracy: 0.7345\n",
      "160/160 [==============================] - 0s 943us/step - loss: 0.5133 - accuracy: 0.7419\n"
     ]
    },
    {
     "name": "stderr",
     "output_type": "stream",
     "text": [
      "DEBUG flwr 2023-05-10 10:57:15,657 | server.py:229 | fit_round 3 received 5 results and 0 failures\n",
      "DEBUG:flwr:fit_round 3 received 5 results and 0 failures\n",
      "DEBUG flwr 2023-05-10 10:57:29,536 | server.py:165 | evaluate_round 3: strategy sampled 5 clients (out of 5)\n",
      "DEBUG:flwr:evaluate_round 3: strategy sampled 5 clients (out of 5)\n",
      "\u001b[2m\u001b[36m(launch_and_evaluate pid=40773)\u001b[0m 2023-05-10 10:57:33.944090: W tensorflow/compiler/tf2tensorrt/utils/py_utils.cc:38] TF-TRT Warning: Could not find TensorRT\n",
      "\u001b[2m\u001b[36m(launch_and_evaluate pid=40772)\u001b[0m 2023-05-10 10:57:33.944093: W tensorflow/compiler/tf2tensorrt/utils/py_utils.cc:38] TF-TRT Warning: Could not find TensorRT\n",
      "\u001b[2m\u001b[36m(launch_and_evaluate pid=40796)\u001b[0m 2023-05-10 10:57:33.951634: W tensorflow/compiler/tf2tensorrt/utils/py_utils.cc:38] TF-TRT Warning: Could not find TensorRT\n",
      "\u001b[2m\u001b[36m(launch_and_evaluate pid=40773)\u001b[0m 2023-05-10 10:57:36.168096: W tensorflow/tsl/framework/cpu_allocator_impl.cc:83] Allocation of 498570752 exceeds 10% of free system memory.\n",
      "\u001b[2m\u001b[36m(launch_and_evaluate pid=40772)\u001b[0m 2023-05-10 10:57:36.196439: W tensorflow/tsl/framework/cpu_allocator_impl.cc:83] Allocation of 498570752 exceeds 10% of free system memory.\n",
      "\u001b[2m\u001b[36m(launch_and_evaluate pid=40796)\u001b[0m 2023-05-10 10:57:36.200046: W tensorflow/tsl/framework/cpu_allocator_impl.cc:83] Allocation of 498570752 exceeds 10% of free system memory.\n",
      "\u001b[2m\u001b[36m(launch_and_evaluate pid=40929)\u001b[0m 2023-05-10 10:57:36.874111: W tensorflow/compiler/tf2tensorrt/utils/py_utils.cc:38] TF-TRT Warning: Could not find TensorRT\n",
      "\u001b[2m\u001b[36m(launch_and_evaluate pid=40928)\u001b[0m 2023-05-10 10:57:38.196661: W tensorflow/compiler/tf2tensorrt/utils/py_utils.cc:38] TF-TRT Warning: Could not find TensorRT\n",
      "\u001b[2m\u001b[36m(launch_and_evaluate pid=40929)\u001b[0m 2023-05-10 10:57:38.915429: W tensorflow/tsl/framework/cpu_allocator_impl.cc:83] Allocation of 498570752 exceeds 10% of free system memory.\n",
      "\u001b[2m\u001b[36m(launch_and_evaluate pid=40928)\u001b[0m 2023-05-10 10:57:41.115056: W tensorflow/tsl/framework/cpu_allocator_impl.cc:83] Allocation of 498570752 exceeds 10% of free system memory.\n",
      "\u001b[2m\u001b[36m(launch_and_evaluate pid=40773)\u001b[0m 2023-05-10 10:57:42.047407: W tensorflow/tsl/framework/cpu_allocator_impl.cc:83] Allocation of 498570752 exceeds 10% of free system memory.\n",
      "\u001b[2m\u001b[36m(launch_and_evaluate pid=40772)\u001b[0m 2023-05-10 10:57:42.051473: W tensorflow/tsl/framework/cpu_allocator_impl.cc:83] Allocation of 498570752 exceeds 10% of free system memory.\n",
      "\u001b[2m\u001b[36m(launch_and_evaluate pid=40796)\u001b[0m 2023-05-10 10:57:42.061862: W tensorflow/tsl/framework/cpu_allocator_impl.cc:83] Allocation of 498570752 exceeds 10% of free system memory.\n"
     ]
    },
    {
     "name": "stdout",
     "output_type": "stream",
     "text": [
      "1/1 [==============================] - 0s 204ms/step - loss: 0.4874 - accuracy: 0.7500\n",
      "1/1 [==============================] - 0s 206ms/step - loss: 0.3929 - accuracy: 0.8571\n",
      "1/1 [==============================] - 0s 205ms/step - loss: 0.2865 - accuracy: 1.0000\n"
     ]
    },
    {
     "name": "stderr",
     "output_type": "stream",
     "text": [
      "\u001b[2m\u001b[36m(launch_and_evaluate pid=40772)\u001b[0m 2023-05-10 10:57:44.244797: W tensorflow/tsl/framework/cpu_allocator_impl.cc:83] Allocation of 498570752 exceeds 10% of free system memory.\n",
      "\u001b[2m\u001b[36m(launch_and_evaluate pid=40772)\u001b[0m 2023-05-10 10:57:44.977175: W tensorflow/tsl/framework/cpu_allocator_impl.cc:83] Allocation of 498570752 exceeds 10% of free system memory.\n",
      "\u001b[2m\u001b[36m(launch_and_evaluate pid=40773)\u001b[0m 2023-05-10 10:57:45.264767: W tensorflow/tsl/framework/cpu_allocator_impl.cc:83] Allocation of 498570752 exceeds 10% of free system memory.\n"
     ]
    },
    {
     "name": "stdout",
     "output_type": "stream",
     "text": [
      "1/1 [==============================] - 0s 102ms/step - loss: 0.3471 - accuracy: 0.7778\n"
     ]
    },
    {
     "name": "stderr",
     "output_type": "stream",
     "text": [
      "\u001b[2m\u001b[36m(launch_and_evaluate pid=40773)\u001b[0m 2023-05-10 10:57:45.849540: W tensorflow/tsl/framework/cpu_allocator_impl.cc:83] Allocation of 498570752 exceeds 10% of free system memory.\n",
      "DEBUG flwr 2023-05-10 10:57:46,282 | server.py:179 | evaluate_round 3 received 5 results and 0 failures\n",
      "DEBUG:flwr:evaluate_round 3 received 5 results and 0 failures\n",
      "DEBUG flwr 2023-05-10 10:57:46,287 | server.py:215 | fit_round 4: strategy sampled 5 clients (out of 5)\n",
      "DEBUG:flwr:fit_round 4: strategy sampled 5 clients (out of 5)\n"
     ]
    },
    {
     "name": "stdout",
     "output_type": "stream",
     "text": [
      "1/1 [==============================] - 0s 87ms/step - loss: 0.5756 - accuracy: 0.8333\n"
     ]
    },
    {
     "name": "stderr",
     "output_type": "stream",
     "text": [
      "\u001b[2m\u001b[36m(launch_and_fit pid=40773)\u001b[0m 2023-05-10 10:57:48.043983: W tensorflow/tsl/framework/cpu_allocator_impl.cc:83] Allocation of 498570752 exceeds 10% of free system memory.\n",
      "\u001b[2m\u001b[36m(launch_and_fit pid=40796)\u001b[0m 2023-05-10 10:57:48.610079: W tensorflow/tsl/framework/cpu_allocator_impl.cc:83] Allocation of 498570752 exceeds 10% of free system memory.\n",
      "\u001b[2m\u001b[36m(launch_and_fit pid=40772)\u001b[0m 2023-05-10 10:57:48.689304: W tensorflow/tsl/framework/cpu_allocator_impl.cc:83] Allocation of 498570752 exceeds 10% of free system memory.\n"
     ]
    },
    {
     "name": "stdout",
     "output_type": "stream",
     "text": [
      "\u001b[2m\u001b[36m(launch_and_fit pid=40773)\u001b[0m Epoch 1/5\n",
      " 37/160 [=====>........................] - ETA: 0s - loss: 0.5707 - accuracy: 0.6986  \n",
      "105/160 [==================>...........] - ETA: 0s - loss: 0.5463 - accuracy: 0.7224\n",
      "160/160 [==============================] - 1s 1ms/step - loss: 0.5362 - accuracy: 0.7316\n",
      "\u001b[2m\u001b[36m(launch_and_fit pid=40773)\u001b[0m Epoch 2/5\n",
      " 42/160 [======>.......................] - ETA: 0s - loss: 0.5348 - accuracy: 0.7369\n",
      "122/160 [=====================>........] - ETA: 0s - loss: 0.5321 - accuracy: 0.7402\n",
      "160/160 [==============================] - 0s 1ms/step - loss: 0.5323 - accuracy: 0.7366\n",
      "\u001b[2m\u001b[36m(launch_and_fit pid=40773)\u001b[0m Epoch 3/5\n",
      " 59/160 [==========>...................] - ETA: 0s - loss: 0.5293 - accuracy: 0.7297\n",
      "124/160 [======================>.......] - ETA: 0s - loss: 0.5287 - accuracy: 0.7371\n",
      "160/160 [==============================] - 0s 1ms/step - loss: 0.5282 - accuracy: 0.7387\n",
      "\u001b[2m\u001b[36m(launch_and_fit pid=40773)\u001b[0m Epoch 4/5\n",
      " 32/160 [=====>........................] - ETA: 0s - loss: 0.5562 - accuracy: 0.7188\n",
      " 89/160 [===============>..............] - ETA: 0s - loss: 0.5321 - accuracy: 0.7410\n",
      "160/160 [==============================] - 0s 2ms/step - loss: 0.5260 - accuracy: 0.7431\n",
      "\u001b[2m\u001b[36m(launch_and_fit pid=40773)\u001b[0m Epoch 5/5\n",
      "  1/160 [..............................] - ETA: 0s - loss: 0.5179 - accuracy: 0.6500\n",
      " 82/160 [==============>...............] - ETA: 0s - loss: 0.5260 - accuracy: 0.7409\n"
     ]
    },
    {
     "name": "stderr",
     "output_type": "stream",
     "text": [
      "\u001b[2m\u001b[36m(launch_and_fit pid=40796)\u001b[0m 2023-05-10 10:57:52.096063: W tensorflow/tsl/framework/cpu_allocator_impl.cc:83] Allocation of 498570752 exceeds 10% of free system memory.\n"
     ]
    },
    {
     "name": "stdout",
     "output_type": "stream",
     "text": [
      "160/160 [==============================] - 0s 1ms/step - loss: 0.5239 - accuracy: 0.7450\n"
     ]
    },
    {
     "name": "stderr",
     "output_type": "stream",
     "text": [
      "\u001b[2m\u001b[36m(launch_and_fit pid=41355)\u001b[0m 2023-05-10 10:57:52.532706: W tensorflow/compiler/tf2tensorrt/utils/py_utils.cc:38] TF-TRT Warning: Could not find TensorRT\n",
      "\u001b[2m\u001b[36m(launch_and_fit pid=41332)\u001b[0m 2023-05-10 10:57:52.532761: W tensorflow/compiler/tf2tensorrt/utils/py_utils.cc:38] TF-TRT Warning: Could not find TensorRT\n"
     ]
    },
    {
     "name": "stdout",
     "output_type": "stream",
     "text": [
      "\u001b[2m\u001b[36m(launch_and_fit pid=40796)\u001b[0m Epoch 1/5\n",
      "\u001b[2m\u001b[36m(launch_and_fit pid=40772)\u001b[0m Epoch 1/5\n",
      " 39/160 [======>.......................] - ETA: 0s - loss: 0.5587 - accuracy: 0.7038  \n",
      "116/160 [====================>.........] - ETA: 0s - loss: 0.5243 - accuracy: 0.7409\n",
      "160/160 [==============================] - 1s 1ms/step - loss: 0.5227 - accuracy: 0.7400\n",
      "\u001b[2m\u001b[36m(launch_and_fit pid=40796)\u001b[0m Epoch 2/5\n",
      "  1/160 [..............................] - ETA: 0s - loss: 0.5116 - accuracy: 0.7000\n",
      " 39/160 [======>.......................] - ETA: 0s - loss: 0.5241 - accuracy: 0.7372\n",
      " 98/160 [=================>............] - ETA: 0s - loss: 0.5112 - accuracy: 0.7439\n",
      " 29/160 [====>.........................] - ETA: 0s - loss: 0.5429 - accuracy: 0.7397  \n",
      "160/160 [==============================] - 0s 2ms/step - loss: 0.5176 - accuracy: 0.7403\n",
      "\u001b[2m\u001b[36m(launch_and_fit pid=40796)\u001b[0m Epoch 3/5\n",
      "  1/160 [..............................] - ETA: 0s - loss: 0.3366 - accuracy: 0.9500\n",
      " 76/160 [=============>................] - ETA: 0s - loss: 0.5368 - accuracy: 0.7414\n",
      " 56/160 [=========>....................] - ETA: 0s - loss: 0.5262 - accuracy: 0.7357\n",
      "142/160 [=========================>....] - ETA: 0s - loss: 0.5404 - accuracy: 0.7306\n",
      "125/160 [======================>.......] - ETA: 0s - loss: 0.5220 - accuracy: 0.7380\n",
      "160/160 [==============================] - 1s 2ms/step - loss: 0.5434 - accuracy: 0.7284\n",
      "\u001b[2m\u001b[36m(launch_and_fit pid=40772)\u001b[0m Epoch 2/5\n",
      " 38/160 [======>.......................] - ETA: 0s - loss: 0.5431 - accuracy: 0.7382\n",
      "160/160 [==============================] - 0s 2ms/step - loss: 0.5139 - accuracy: 0.7456\n",
      "\u001b[2m\u001b[36m(launch_and_fit pid=40796)\u001b[0m Epoch 4/5\n",
      " 37/160 [=====>........................] - ETA: 0s - loss: 0.4933 - accuracy: 0.7662\n",
      "108/160 [===================>..........] - ETA: 0s - loss: 0.5374 - accuracy: 0.7319\n",
      "105/160 [==================>...........] - ETA: 0s - loss: 0.5043 - accuracy: 0.7500\n",
      "160/160 [==============================] - 0s 2ms/step - loss: 0.5379 - accuracy: 0.7287\n",
      "\u001b[2m\u001b[36m(launch_and_fit pid=40772)\u001b[0m Epoch 3/5\n",
      " 40/160 [======>.......................] - ETA: 0s - loss: 0.5312 - accuracy: 0.7437\n",
      "160/160 [==============================] - 0s 2ms/step - loss: 0.5108 - accuracy: 0.7450\n",
      "\u001b[2m\u001b[36m(launch_and_fit pid=40796)\u001b[0m Epoch 5/5\n",
      "  1/160 [..............................] - ETA: 0s - loss: 0.3795 - accuracy: 0.7500\n",
      "113/160 [====================>.........] - ETA: 0s - loss: 0.5301 - accuracy: 0.7354\n",
      " 75/160 [=============>................] - ETA: 0s - loss: 0.5170 - accuracy: 0.7380\n",
      "110/160 [===================>..........] - ETA: 0s - loss: 0.5106 - accuracy: 0.7455\n",
      "160/160 [==============================] - 0s 1ms/step - loss: 0.5338 - accuracy: 0.7347\n",
      "\u001b[2m\u001b[36m(launch_and_fit pid=40772)\u001b[0m Epoch 4/5\n",
      "  1/160 [..............................] - ETA: 0s - loss: 0.5984 - accuracy: 0.7000\n",
      "160/160 [==============================] - 0s 1ms/step - loss: 0.5094 - accuracy: 0.7437\n",
      " 36/160 [=====>........................] - ETA: 0s - loss: 0.5401 - accuracy: 0.7333\n",
      "103/160 [==================>...........] - ETA: 0s - loss: 0.5322 - accuracy: 0.7383\n",
      "160/160 [==============================] - 0s 2ms/step - loss: 0.5328 - accuracy: 0.7337\n",
      "\u001b[2m\u001b[36m(launch_and_fit pid=40772)\u001b[0m Epoch 5/5\n",
      "  1/160 [..............................] - ETA: 0s - loss: 0.4247 - accuracy: 0.8500\n",
      " 59/160 [==========>...................] - ETA: 0s - loss: 0.5271 - accuracy: 0.7415\n",
      "121/160 [=====================>........] - ETA: 0s - loss: 0.5279 - accuracy: 0.7442\n",
      "160/160 [==============================] - 0s 2ms/step - loss: 0.5297 - accuracy: 0.7403\n"
     ]
    },
    {
     "name": "stderr",
     "output_type": "stream",
     "text": [
      "\u001b[2m\u001b[36m(launch_and_fit pid=41331)\u001b[0m 2023-05-10 10:57:57.144729: W tensorflow/compiler/tf2tensorrt/utils/py_utils.cc:38] TF-TRT Warning: Could not find TensorRT\n",
      "\u001b[2m\u001b[33m(raylet)\u001b[0m [2023-05-10 10:58:03,700 E 37953 37953] (raylet) node_manager.cc:3097: 9 Workers (tasks / actors) killed due to memory pressure (OOM), 0 Workers crashed due to other reasons at node (ID: aa0acf9ee9e32ddf668348d33a329ec3aa72650aa672c670cc93ed24, IP: 172.25.8.82) over the last time period. To see more information about the Workers killed on this node, use `ray logs raylet.out -ip 172.25.8.82`\n",
      "\u001b[2m\u001b[33m(raylet)\u001b[0m \n",
      "\u001b[2m\u001b[33m(raylet)\u001b[0m Refer to the documentation on how to address the out of memory issue: https://docs.ray.io/en/latest/ray-core/scheduling/ray-oom-prevention.html. Consider provisioning more memory on this node or reducing task parallelism by requesting more CPUs per task. To adjust the kill threshold, set the environment variable `RAY_memory_usage_threshold` when starting Ray. To disable worker killing, set the environment variable `RAY_memory_monitor_refresh_ms` to zero.\n",
      "\u001b[2m\u001b[36m(launch_and_fit pid=40796)\u001b[0m 2023-05-10 10:58:04.754203: W tensorflow/tsl/framework/cpu_allocator_impl.cc:83] Allocation of 498570752 exceeds 10% of free system memory.\n"
     ]
    },
    {
     "name": "stdout",
     "output_type": "stream",
     "text": [
      "\u001b[2m\u001b[36m(launch_and_fit pid=40796)\u001b[0m Epoch 1/5\n",
      "  1/160 [..............................] - ETA: 1:11 - loss: 0.4511 - accuracy: 0.7000\n",
      " 74/160 [============>.................] - ETA: 0s - loss: 0.5370 - accuracy: 0.7243\n",
      "160/160 [==============================] - 1s 1ms/step - loss: 0.5438 - accuracy: 0.7216\n",
      "\u001b[2m\u001b[36m(launch_and_fit pid=40796)\u001b[0m Epoch 2/5\n",
      " 55/160 [=========>....................] - ETA: 0s - loss: 0.5303 - accuracy: 0.7282\n",
      "158/160 [============================>.] - ETA: 0s - loss: 0.5396 - accuracy: 0.7250\n",
      "160/160 [==============================] - 0s 985us/step - loss: 0.5392 - accuracy: 0.7247\n",
      "\u001b[2m\u001b[36m(launch_and_fit pid=40796)\u001b[0m Epoch 3/5\n",
      "  1/160 [..............................] - ETA: 0s - loss: 0.3236 - accuracy: 0.8500\n",
      "109/160 [===================>..........] - ETA: 0s - loss: 0.5342 - accuracy: 0.7294\n",
      "160/160 [==============================] - 0s 945us/step - loss: 0.5367 - accuracy: 0.7241\n",
      "\u001b[2m\u001b[36m(launch_and_fit pid=40796)\u001b[0m Epoch 4/5\n",
      " 42/160 [======>.......................] - ETA: 0s - loss: 0.5391 - accuracy: 0.7119\n",
      "128/160 [=======================>......] - ETA: 0s - loss: 0.5329 - accuracy: 0.7234\n",
      "160/160 [==============================] - 0s 1ms/step - loss: 0.5333 - accuracy: 0.7234\n",
      "\u001b[2m\u001b[36m(launch_and_fit pid=40796)\u001b[0m Epoch 5/5\n",
      " 56/160 [=========>....................] - ETA: 0s - loss: 0.5212 - accuracy: 0.7241\n",
      "160/160 [==============================] - 0s 920us/step - loss: 0.5307 - accuracy: 0.7256\n",
      "\u001b[2m\u001b[36m(launch_and_fit pid=40772)\u001b[0m Epoch 1/5\n",
      " 49/160 [========>.....................] - ETA: 0s - loss: 0.5544 - accuracy: 0.7133  \n",
      "160/160 [==============================] - 1s 1ms/step - loss: 0.5408 - accuracy: 0.7222\n",
      "\u001b[2m\u001b[36m(launch_and_fit pid=40772)\u001b[0m Epoch 2/5\n",
      "  1/160 [..............................] - ETA: 0s - loss: 0.3357 - accuracy: 0.9000\n",
      "112/160 [====================>.........] - ETA: 0s - loss: 0.5254 - accuracy: 0.7402\n",
      "160/160 [==============================] - 0s 910us/step - loss: 0.5344 - accuracy: 0.7287\n",
      "\u001b[2m\u001b[36m(launch_and_fit pid=40772)\u001b[0m Epoch 3/5\n",
      " 57/160 [=========>....................] - ETA: 0s - loss: 0.5416 - accuracy: 0.7132\n",
      "160/160 [==============================] - 0s 923us/step - loss: 0.5304 - accuracy: 0.7309\n",
      "\u001b[2m\u001b[36m(launch_and_fit pid=40772)\u001b[0m Epoch 4/5\n",
      "  1/160 [..............................] - ETA: 0s - loss: 0.6440 - accuracy: 0.6500\n",
      "112/160 [====================>.........] - ETA: 0s - loss: 0.5313 - accuracy: 0.7205\n",
      "160/160 [==============================] - 0s 933us/step - loss: 0.5287 - accuracy: 0.7250\n",
      "\u001b[2m\u001b[36m(launch_and_fit pid=40772)\u001b[0m Epoch 5/5\n",
      " 57/160 [=========>....................] - ETA: 0s - loss: 0.5261 - accuracy: 0.7368\n",
      "160/160 [==============================] - 0s 907us/step - loss: 0.5265 - accuracy: 0.7334\n"
     ]
    },
    {
     "name": "stderr",
     "output_type": "stream",
     "text": [
      "DEBUG flwr 2023-05-10 10:58:11,966 | server.py:229 | fit_round 4 received 5 results and 0 failures\n",
      "DEBUG:flwr:fit_round 4 received 5 results and 0 failures\n",
      "DEBUG flwr 2023-05-10 10:58:22,350 | server.py:165 | evaluate_round 4: strategy sampled 5 clients (out of 5)\n",
      "DEBUG:flwr:evaluate_round 4: strategy sampled 5 clients (out of 5)\n"
     ]
    },
    {
     "name": "stdout",
     "output_type": "stream",
     "text": [
      "1/1 [==============================] - ETA: 0s - loss: 0.5678 - accuracy: 0.8333\n",
      "1/1 [==============================] - 0s 154ms/step - loss: 0.5678 - accuracy: 0.8333\n"
     ]
    },
    {
     "name": "stderr",
     "output_type": "stream",
     "text": [
      "\u001b[2m\u001b[36m(launch_and_evaluate pid=41731)\u001b[0m 2023-05-10 10:58:25.812636: W tensorflow/compiler/tf2tensorrt/utils/py_utils.cc:38] TF-TRT Warning: Could not find TensorRT\n",
      "\u001b[2m\u001b[36m(launch_and_evaluate pid=41814)\u001b[0m 2023-05-10 10:58:25.812642: W tensorflow/compiler/tf2tensorrt/utils/py_utils.cc:38] TF-TRT Warning: Could not find TensorRT\n",
      "\u001b[2m\u001b[36m(launch_and_evaluate pid=41731)\u001b[0m 2023-05-10 10:58:27.917554: W tensorflow/tsl/framework/cpu_allocator_impl.cc:83] Allocation of 498570752 exceeds 10% of free system memory.\n",
      "\u001b[2m\u001b[36m(launch_and_evaluate pid=41814)\u001b[0m 2023-05-10 10:58:27.913680: W tensorflow/tsl/framework/cpu_allocator_impl.cc:83] Allocation of 498570752 exceeds 10% of free system memory.\n"
     ]
    },
    {
     "name": "stdout",
     "output_type": "stream",
     "text": [
      "1/1 [==============================] - 0s 182ms/step - loss: 0.5060 - accuracy: 0.7500\n"
     ]
    },
    {
     "name": "stderr",
     "output_type": "stream",
     "text": [
      "\u001b[2m\u001b[36m(launch_and_evaluate pid=41730)\u001b[0m 2023-05-10 10:58:29.439406: W tensorflow/compiler/tf2tensorrt/utils/py_utils.cc:38] TF-TRT Warning: Could not find TensorRT\n",
      "\u001b[2m\u001b[36m(launch_and_evaluate pid=41814)\u001b[0m 2023-05-10 10:58:29.674518: W tensorflow/tsl/framework/cpu_allocator_impl.cc:83] Allocation of 498570752 exceeds 10% of free system memory.\n",
      "\u001b[2m\u001b[36m(launch_and_evaluate pid=41731)\u001b[0m 2023-05-10 10:58:29.829122: W tensorflow/tsl/framework/cpu_allocator_impl.cc:83] Allocation of 498570752 exceeds 10% of free system memory.\n"
     ]
    },
    {
     "name": "stdout",
     "output_type": "stream",
     "text": [
      "1/1 [==============================] - 0s 298ms/step - loss: 0.3917 - accuracy: 0.8571\n",
      "1/1 [==============================] - ETA: 0s - loss: 0.3445 - accuracy: 0.7778\n",
      "1/1 [==============================] - 0s 228ms/step - loss: 0.3445 - accuracy: 0.7778\n"
     ]
    },
    {
     "name": "stderr",
     "output_type": "stream",
     "text": [
      "\u001b[2m\u001b[36m(launch_and_evaluate pid=41730)\u001b[0m 2023-05-10 10:58:31.278770: W tensorflow/tsl/framework/cpu_allocator_impl.cc:83] Allocation of 498570752 exceeds 10% of free system memory.\n",
      "\u001b[2m\u001b[36m(launch_and_evaluate pid=41730)\u001b[0m 2023-05-10 10:58:32.342003: W tensorflow/tsl/framework/cpu_allocator_impl.cc:83] Allocation of 498570752 exceeds 10% of free system memory.\n",
      "DEBUG flwr 2023-05-10 10:58:32,817 | server.py:179 | evaluate_round 4 received 5 results and 0 failures\n",
      "DEBUG:flwr:evaluate_round 4 received 5 results and 0 failures\n",
      "DEBUG flwr 2023-05-10 10:58:32,818 | server.py:215 | fit_round 5: strategy sampled 5 clients (out of 5)\n",
      "DEBUG:flwr:fit_round 5: strategy sampled 5 clients (out of 5)\n"
     ]
    },
    {
     "name": "stdout",
     "output_type": "stream",
     "text": [
      "1/1 [==============================] - 0s 126ms/step - loss: 0.2768 - accuracy: 1.0000\n"
     ]
    },
    {
     "name": "stderr",
     "output_type": "stream",
     "text": [
      "\u001b[2m\u001b[36m(launch_and_fit pid=41730)\u001b[0m 2023-05-10 10:58:33.871447: W tensorflow/tsl/framework/cpu_allocator_impl.cc:83] Allocation of 498570752 exceeds 10% of free system memory.\n",
      "\u001b[2m\u001b[36m(launch_and_fit pid=41731)\u001b[0m 2023-05-10 10:58:35.173202: W tensorflow/tsl/framework/cpu_allocator_impl.cc:83] Allocation of 498570752 exceeds 10% of free system memory.\n",
      "\u001b[2m\u001b[36m(launch_and_fit pid=41814)\u001b[0m 2023-05-10 10:58:37.517439: W tensorflow/tsl/framework/cpu_allocator_impl.cc:83] Allocation of 498570752 exceeds 10% of free system memory.\n",
      "\u001b[2m\u001b[36m(launch_and_fit pid=41730)\u001b[0m 2023-05-10 10:58:39.208048: W tensorflow/tsl/framework/cpu_allocator_impl.cc:83] Allocation of 498570752 exceeds 10% of free system memory.\n",
      "\u001b[2m\u001b[36m(launch_and_fit pid=41731)\u001b[0m 2023-05-10 10:58:39.693377: W tensorflow/tsl/framework/cpu_allocator_impl.cc:83] Allocation of 498570752 exceeds 10% of free system memory.\n"
     ]
    },
    {
     "name": "stdout",
     "output_type": "stream",
     "text": [
      "\u001b[2m\u001b[36m(launch_and_fit pid=41730)\u001b[0m Epoch 1/5\n",
      "\u001b[2m\u001b[36m(launch_and_fit pid=41731)\u001b[0m Epoch 1/5\n"
     ]
    },
    {
     "name": "stderr",
     "output_type": "stream",
     "text": [
      "\u001b[2m\u001b[36m(launch_and_fit pid=41814)\u001b[0m 2023-05-10 10:58:40.579117: W tensorflow/tsl/framework/cpu_allocator_impl.cc:83] Allocation of 498570752 exceeds 10% of free system memory.\n"
     ]
    },
    {
     "name": "stdout",
     "output_type": "stream",
     "text": [
      "  1/160 [..............................] - ETA: 2:31 - loss: 0.5152 - accuracy: 0.7500\n",
      " 83/160 [==============>...............] - ETA: 0s - loss: 0.5453 - accuracy: 0.7114\n",
      "  1/160 [..............................] - ETA: 1:32 - loss: 0.4898 - accuracy: 0.7000\n",
      "160/160 [==============================] - 1s 1ms/step - loss: 0.5371 - accuracy: 0.7222\n",
      "\u001b[2m\u001b[36m(launch_and_fit pid=41730)\u001b[0m Epoch 2/5\n",
      "  1/160 [..............................] - ETA: 0s - loss: 0.5528 - accuracy: 0.7500\n",
      " 72/160 [============>.................] - ETA: 0s - loss: 0.5265 - accuracy: 0.7472\n",
      " 76/160 [=============>................] - ETA: 0s - loss: 0.5356 - accuracy: 0.7197\n",
      "107/160 [===================>..........] - ETA: 0s - loss: 0.5390 - accuracy: 0.7224\n",
      "160/160 [==============================] - 1s 1ms/step - loss: 0.5322 - accuracy: 0.7381\n",
      "\u001b[2m\u001b[36m(launch_and_fit pid=41814)\u001b[0m Epoch 1/5\n",
      "160/160 [==============================] - 0s 1ms/step - loss: 0.5311 - accuracy: 0.7281\n",
      "\u001b[2m\u001b[36m(launch_and_fit pid=41730)\u001b[0m Epoch 3/5\n",
      "  1/160 [..............................] - ETA: 0s - loss: 0.4183 - accuracy: 0.8000\n",
      "\u001b[2m\u001b[36m(launch_and_fit pid=41731)\u001b[0m Epoch 2/5\n",
      "  1/160 [..............................] - ETA: 0s - loss: 0.6231 - accuracy: 0.7500\n",
      " 74/160 [============>.................] - ETA: 0s - loss: 0.5252 - accuracy: 0.7331\n",
      " 70/160 [============>.................] - ETA: 0s - loss: 0.5118 - accuracy: 0.7457\n",
      "148/160 [==========================>...] - ETA: 0s - loss: 0.5283 - accuracy: 0.7395\n",
      "160/160 [==============================] - 0s 1ms/step - loss: 0.5268 - accuracy: 0.7300\n",
      "\u001b[2m\u001b[36m(launch_and_fit pid=41730)\u001b[0m Epoch 4/5\n",
      "  1/160 [..............................] - ETA: 0s - loss: 0.6724 - accuracy: 0.6000\n",
      "160/160 [==============================] - 0s 1ms/step - loss: 0.5285 - accuracy: 0.7400\n",
      "\u001b[2m\u001b[36m(launch_and_fit pid=41731)\u001b[0m Epoch 3/5\n",
      " 38/160 [======>.......................] - ETA: 0s - loss: 0.4962 - accuracy: 0.7592\n",
      " 74/160 [============>.................] - ETA: 0s - loss: 0.5327 - accuracy: 0.7311\n",
      "110/160 [===================>..........] - ETA: 0s - loss: 0.5229 - accuracy: 0.7436\n",
      "160/160 [==============================] - 0s 1ms/step - loss: 0.5247 - accuracy: 0.7347\n",
      "\u001b[2m\u001b[36m(launch_and_fit pid=41730)\u001b[0m Epoch 5/5\n",
      "  1/160 [..............................] - ETA: 0s - loss: 0.4095 - accuracy: 0.8500\n",
      "160/160 [==============================] - 0s 1ms/step - loss: 0.5253 - accuracy: 0.7412\n",
      "\u001b[2m\u001b[36m(launch_and_fit pid=41731)\u001b[0m Epoch 4/5\n",
      " 38/160 [======>.......................] - ETA: 0s - loss: 0.5046 - accuracy: 0.7592\n",
      " 71/160 [============>.................] - ETA: 0s - loss: 0.5081 - accuracy: 0.7493\n",
      "112/160 [====================>.........] - ETA: 0s - loss: 0.5167 - accuracy: 0.7491\n",
      "145/160 [==========================>...] - ETA: 0s - loss: 0.5146 - accuracy: 0.7438\n",
      "160/160 [==============================] - 0s 1ms/step - loss: 0.5219 - accuracy: 0.7459\n",
      "\u001b[2m\u001b[36m(launch_and_fit pid=41731)\u001b[0m Epoch 5/5\n",
      " 30/160 [====>.........................] - ETA: 0s - loss: 0.5176 - accuracy: 0.7633\n",
      " 29/160 [====>.........................] - ETA: 0s - loss: 0.5572 - accuracy: 0.7121  \n",
      "160/160 [==============================] - 0s 1ms/step - loss: 0.5214 - accuracy: 0.7378\n",
      " 78/160 [=============>................] - ETA: 0s - loss: 0.5243 - accuracy: 0.7481\n",
      " 82/160 [==============>...............] - ETA: 0s - loss: 0.5455 - accuracy: 0.7152\n",
      "131/160 [=======================>......] - ETA: 0s - loss: 0.5237 - accuracy: 0.7473\n",
      "156/160 [============================>.] - ETA: 0s - loss: 0.5411 - accuracy: 0.7221\n",
      "160/160 [==============================] - 0s 2ms/step - loss: 0.5192 - accuracy: 0.7475\n",
      "160/160 [==============================] - 1s 2ms/step - loss: 0.5409 - accuracy: 0.7228\n",
      "\u001b[2m\u001b[36m(launch_and_fit pid=41814)\u001b[0m Epoch 2/5\n",
      " 29/160 [====>.........................] - ETA: 0s - loss: 0.5118 - accuracy: 0.7293\n",
      " 83/160 [==============>...............] - ETA: 0s - loss: 0.5273 - accuracy: 0.7295\n",
      "108/160 [===================>..........] - ETA: 0s - loss: 0.5265 - accuracy: 0.7296\n",
      "160/160 [==============================] - 0s 2ms/step - loss: 0.5369 - accuracy: 0.7266\n",
      "\u001b[2m\u001b[36m(launch_and_fit pid=41814)\u001b[0m Epoch 3/5\n",
      "  1/160 [..............................] - ETA: 0s - loss: 0.6221 - accuracy: 0.6000\n",
      " 65/160 [===========>..................] - ETA: 0s - loss: 0.5336 - accuracy: 0.7292\n"
     ]
    },
    {
     "name": "stderr",
     "output_type": "stream",
     "text": [
      "\u001b[2m\u001b[36m(launch_and_fit pid=42144)\u001b[0m 2023-05-10 10:58:42.330016: W tensorflow/compiler/tf2tensorrt/utils/py_utils.cc:38] TF-TRT Warning: Could not find TensorRT\n",
      "\u001b[2m\u001b[36m(launch_and_fit pid=42143)\u001b[0m 2023-05-10 10:58:42.433077: W tensorflow/compiler/tf2tensorrt/utils/py_utils.cc:38] TF-TRT Warning: Could not find TensorRT\n"
     ]
    },
    {
     "name": "stdout",
     "output_type": "stream",
     "text": [
      "160/160 [==============================] - 0s 1ms/step - loss: 0.5332 - accuracy: 0.7250\n",
      "\u001b[2m\u001b[36m(launch_and_fit pid=41814)\u001b[0m Epoch 4/5\n",
      "  1/160 [..............................] - ETA: 0s - loss: 0.5859 - accuracy: 0.7000\n",
      " 85/160 [==============>...............] - ETA: 0s - loss: 0.5204 - accuracy: 0.7306\n",
      "160/160 [==============================] - 0s 1ms/step - loss: 0.5301 - accuracy: 0.7281\n",
      "\u001b[2m\u001b[36m(launch_and_fit pid=41814)\u001b[0m Epoch 5/5\n",
      "  1/160 [..............................] - ETA: 0s - loss: 0.3277 - accuracy: 0.9000\n",
      " 65/160 [===========>..................] - ETA: 0s - loss: 0.5244 - accuracy: 0.7338\n",
      "130/160 [=======================>......] - ETA: 0s - loss: 0.5246 - accuracy: 0.7315\n",
      "160/160 [==============================] - 0s 2ms/step - loss: 0.5271 - accuracy: 0.7291\n"
     ]
    },
    {
     "name": "stderr",
     "output_type": "stream",
     "text": [
      "\u001b[2m\u001b[36m(launch_and_fit pid=41731)\u001b[0m 2023-05-10 10:58:52.787256: W tensorflow/tsl/framework/cpu_allocator_impl.cc:83] Allocation of 498570752 exceeds 10% of free system memory.\n",
      "\u001b[2m\u001b[36m(launch_and_fit pid=41730)\u001b[0m 2023-05-10 10:58:56.314884: W tensorflow/tsl/framework/cpu_allocator_impl.cc:83] Allocation of 498570752 exceeds 10% of free system memory.\n"
     ]
    },
    {
     "name": "stdout",
     "output_type": "stream",
     "text": [
      "\u001b[2m\u001b[36m(launch_and_fit pid=41731)\u001b[0m Epoch 1/5\n",
      " 43/160 [=======>......................] - ETA: 0s - loss: 0.5580 - accuracy: 0.7244  \n",
      "\u001b[2m\u001b[36m(launch_and_fit pid=41730)\u001b[0m Epoch 1/5\n",
      "160/160 [==============================] - 1s 1ms/step - loss: 0.5395 - accuracy: 0.7294\n",
      "\u001b[2m\u001b[36m(launch_and_fit pid=41731)\u001b[0m Epoch 2/5\n",
      "  1/160 [..............................] - ETA: 0s - loss: 0.7130 - accuracy: 0.6000\n",
      " 92/160 [================>.............] - ETA: 0s - loss: 0.5506 - accuracy: 0.7223\n",
      "160/160 [==============================] - 0s 1ms/step - loss: 0.5358 - accuracy: 0.7312\n",
      "\u001b[2m\u001b[36m(launch_and_fit pid=41731)\u001b[0m Epoch 3/5\n",
      "  1/160 [..............................] - ETA: 0s - loss: 0.7562 - accuracy: 0.5000\n"
     ]
    },
    {
     "name": "stderr",
     "output_type": "stream",
     "text": [
      "\u001b[2m\u001b[36m(launch_and_fit pid=42353)\u001b[0m 2023-05-10 10:58:58.775457: W tensorflow/compiler/tf2tensorrt/utils/py_utils.cc:38] TF-TRT Warning: Could not find TensorRT\n"
     ]
    },
    {
     "name": "stdout",
     "output_type": "stream",
     "text": [
      " 70/160 [============>.................] - ETA: 0s - loss: 0.5350 - accuracy: 0.7321\n",
      "110/160 [===================>..........] - ETA: 0s - loss: 0.5355 - accuracy: 0.7341\n",
      "160/160 [==============================] - 0s 1ms/step - loss: 0.5322 - accuracy: 0.7334\n",
      "\u001b[2m\u001b[36m(launch_and_fit pid=41731)\u001b[0m Epoch 4/5\n",
      "  1/160 [..............................] - ETA: 0s - loss: 0.5467 - accuracy: 0.6000\n",
      "  1/160 [..............................] - ETA: 1:26 - loss: 0.4704 - accuracy: 0.8000\n",
      " 83/160 [==============>...............] - ETA: 0s - loss: 0.5273 - accuracy: 0.7319\n",
      " 81/160 [==============>...............] - ETA: 0s - loss: 0.5262 - accuracy: 0.7444\n",
      "120/160 [=====================>........] - ETA: 0s - loss: 0.5228 - accuracy: 0.7346\n",
      "160/160 [==============================] - 0s 1ms/step - loss: 0.5294 - accuracy: 0.7319\n",
      "\u001b[2m\u001b[36m(launch_and_fit pid=41731)\u001b[0m Epoch 5/5\n",
      " 47/160 [=======>......................] - ETA: 0s - loss: 0.4978 - accuracy: 0.7596\n",
      "160/160 [==============================] - 1s 1ms/step - loss: 0.5192 - accuracy: 0.7431\n",
      "\u001b[2m\u001b[36m(launch_and_fit pid=41730)\u001b[0m Epoch 2/5\n",
      "  1/160 [..............................] - ETA: 0s - loss: 0.4127 - accuracy: 0.8000\n",
      "138/160 [========================>.....] - ETA: 0s - loss: 0.5250 - accuracy: 0.7337\n",
      " 90/160 [===============>..............] - ETA: 0s - loss: 0.5137 - accuracy: 0.7478\n",
      "160/160 [==============================] - 0s 1ms/step - loss: 0.5274 - accuracy: 0.7378\n",
      "160/160 [==============================] - 0s 1ms/step - loss: 0.5138 - accuracy: 0.7416\n",
      "\u001b[2m\u001b[36m(launch_and_fit pid=41730)\u001b[0m Epoch 3/5\n",
      " 38/160 [======>.......................] - ETA: 0s - loss: 0.5022 - accuracy: 0.7500\n",
      "120/160 [=====================>........] - ETA: 0s - loss: 0.5123 - accuracy: 0.7437\n",
      "160/160 [==============================] - 0s 1ms/step - loss: 0.5111 - accuracy: 0.7447\n",
      "\u001b[2m\u001b[36m(launch_and_fit pid=41730)\u001b[0m Epoch 4/5\n",
      " 42/160 [======>.......................] - ETA: 0s - loss: 0.4944 - accuracy: 0.7488\n",
      "122/160 [=====================>........] - ETA: 0s - loss: 0.5062 - accuracy: 0.7496\n",
      "160/160 [==============================] - 0s 1ms/step - loss: 0.5082 - accuracy: 0.7487\n",
      "\u001b[2m\u001b[36m(launch_and_fit pid=41730)\u001b[0m Epoch 5/5\n",
      " 37/160 [=====>........................] - ETA: 0s - loss: 0.5005 - accuracy: 0.7514\n",
      "132/160 [=======================>......] - ETA: 0s - loss: 0.5059 - accuracy: 0.7436\n",
      "160/160 [==============================] - 0s 1ms/step - loss: 0.5071 - accuracy: 0.7441\n"
     ]
    },
    {
     "name": "stderr",
     "output_type": "stream",
     "text": [
      "\u001b[2m\u001b[36m(launch_and_fit pid=42353)\u001b[0m 2023-05-10 10:59:00.726921: W tensorflow/tsl/framework/cpu_allocator_impl.cc:83] Allocation of 498570752 exceeds 10% of free system memory.\n",
      "\u001b[2m\u001b[36m(launch_and_fit pid=42353)\u001b[0m 2023-05-10 10:59:02.161283: W tensorflow/tsl/framework/cpu_allocator_impl.cc:83] Allocation of 498570752 exceeds 10% of free system memory.\n"
     ]
    },
    {
     "name": "stdout",
     "output_type": "stream",
     "text": [
      "\u001b[2m\u001b[36m(launch_and_fit pid=42353)\u001b[0m Epoch 1/5\n",
      " 52/160 [========>.....................] - ETA: 0s - loss: 0.5526 - accuracy: 0.7231  \n",
      "160/160 [==============================] - 1s 966us/step - loss: 0.5416 - accuracy: 0.7231\n",
      "\u001b[2m\u001b[36m(launch_and_fit pid=42353)\u001b[0m Epoch 2/5\n",
      "  1/160 [..............................] - ETA: 0s - loss: 0.4338 - accuracy: 0.7500\n",
      "110/160 [===================>..........] - ETA: 0s - loss: 0.5360 - accuracy: 0.7186\n",
      "160/160 [==============================] - 0s 976us/step - loss: 0.5344 - accuracy: 0.7203\n",
      "\u001b[2m\u001b[36m(launch_and_fit pid=42353)\u001b[0m Epoch 3/5\n",
      " 54/160 [=========>....................] - ETA: 0s - loss: 0.5369 - accuracy: 0.7278\n",
      "108/160 [===================>..........] - ETA: 0s - loss: 0.5326 - accuracy: 0.7301\n",
      "160/160 [==============================] - 0s 931us/step - loss: 0.5331 - accuracy: 0.7281\n",
      "\u001b[2m\u001b[36m(launch_and_fit pid=42353)\u001b[0m Epoch 4/5\n",
      " 56/160 [=========>....................] - ETA: 0s - loss: 0.5230 - accuracy: 0.7366\n",
      "160/160 [==============================] - 0s 930us/step - loss: 0.5304 - accuracy: 0.7244\n",
      "\u001b[2m\u001b[36m(launch_and_fit pid=42353)\u001b[0m Epoch 5/5\n",
      "  1/160 [..............................] - ETA: 0s - loss: 0.6360 - accuracy: 0.7000\n"
     ]
    },
    {
     "name": "stderr",
     "output_type": "stream",
     "text": [
      "\u001b[2m\u001b[33m(raylet)\u001b[0m [2023-05-10 10:59:03,702 E 37953 37953] (raylet) node_manager.cc:3097: 5 Workers (tasks / actors) killed due to memory pressure (OOM), 0 Workers crashed due to other reasons at node (ID: aa0acf9ee9e32ddf668348d33a329ec3aa72650aa672c670cc93ed24, IP: 172.25.8.82) over the last time period. To see more information about the Workers killed on this node, use `ray logs raylet.out -ip 172.25.8.82`\n",
      "\u001b[2m\u001b[33m(raylet)\u001b[0m \n",
      "\u001b[2m\u001b[33m(raylet)\u001b[0m Refer to the documentation on how to address the out of memory issue: https://docs.ray.io/en/latest/ray-core/scheduling/ray-oom-prevention.html. Consider provisioning more memory on this node or reducing task parallelism by requesting more CPUs per task. To adjust the kill threshold, set the environment variable `RAY_memory_usage_threshold` when starting Ray. To disable worker killing, set the environment variable `RAY_memory_monitor_refresh_ms` to zero.\n"
     ]
    },
    {
     "name": "stdout",
     "output_type": "stream",
     "text": [
      "114/160 [====================>.........] - ETA: 0s - loss: 0.5321 - accuracy: 0.7219\n",
      "160/160 [==============================] - 0s 924us/step - loss: 0.5270 - accuracy: 0.7275\n"
     ]
    },
    {
     "name": "stderr",
     "output_type": "stream",
     "text": [
      "DEBUG flwr 2023-05-10 10:59:05,201 | server.py:229 | fit_round 5 received 5 results and 0 failures\n",
      "DEBUG:flwr:fit_round 5 received 5 results and 0 failures\n",
      "DEBUG flwr 2023-05-10 10:59:17,320 | server.py:165 | evaluate_round 5: strategy sampled 5 clients (out of 5)\n",
      "DEBUG:flwr:evaluate_round 5: strategy sampled 5 clients (out of 5)\n",
      "\u001b[2m\u001b[36m(raylet)\u001b[0m Spilled 16700 MiB, 76 objects, write throughput 416 MiB/s.\n",
      "\u001b[2m\u001b[36m(launch_and_evaluate pid=42548)\u001b[0m 2023-05-10 10:59:20.903814: W tensorflow/compiler/tf2tensorrt/utils/py_utils.cc:38] TF-TRT Warning: Could not find TensorRT\n",
      "\u001b[2m\u001b[36m(launch_and_evaluate pid=42549)\u001b[0m 2023-05-10 10:59:20.903940: W tensorflow/compiler/tf2tensorrt/utils/py_utils.cc:38] TF-TRT Warning: Could not find TensorRT\n",
      "\u001b[2m\u001b[36m(launch_and_evaluate pid=42583)\u001b[0m 2023-05-10 10:59:20.916386: W tensorflow/compiler/tf2tensorrt/utils/py_utils.cc:38] TF-TRT Warning: Could not find TensorRT\n",
      "\u001b[2m\u001b[36m(launch_and_evaluate pid=42547)\u001b[0m 2023-05-10 10:59:21.801766: W tensorflow/compiler/tf2tensorrt/utils/py_utils.cc:38] TF-TRT Warning: Could not find TensorRT\n",
      "\u001b[2m\u001b[36m(launch_and_evaluate pid=42751)\u001b[0m 2023-05-10 10:59:22.621392: W tensorflow/compiler/tf2tensorrt/utils/py_utils.cc:38] TF-TRT Warning: Could not find TensorRT\n",
      "\u001b[2m\u001b[36m(launch_and_evaluate pid=42548)\u001b[0m 2023-05-10 10:59:23.703594: W tensorflow/tsl/framework/cpu_allocator_impl.cc:83] Allocation of 498570752 exceeds 10% of free system memory.\n",
      "\u001b[2m\u001b[36m(launch_and_evaluate pid=42549)\u001b[0m 2023-05-10 10:59:23.713381: W tensorflow/tsl/framework/cpu_allocator_impl.cc:83] Allocation of 498570752 exceeds 10% of free system memory.\n",
      "\u001b[2m\u001b[36m(launch_and_evaluate pid=42583)\u001b[0m 2023-05-10 10:59:23.707757: W tensorflow/tsl/framework/cpu_allocator_impl.cc:83] Allocation of 498570752 exceeds 10% of free system memory.\n",
      "\u001b[2m\u001b[36m(launch_and_evaluate pid=42547)\u001b[0m 2023-05-10 10:59:23.701662: W tensorflow/tsl/framework/cpu_allocator_impl.cc:83] Allocation of 498570752 exceeds 10% of free system memory.\n",
      "\u001b[2m\u001b[36m(launch_and_evaluate pid=42751)\u001b[0m 2023-05-10 10:59:25.829606: W tensorflow/tsl/framework/cpu_allocator_impl.cc:83] Allocation of 498570752 exceeds 10% of free system memory.\n",
      "\u001b[2m\u001b[36m(launch_and_evaluate pid=42583)\u001b[0m 2023-05-10 10:59:30.369158: W tensorflow/tsl/framework/cpu_allocator_impl.cc:83] Allocation of 498570752 exceeds 10% of free system memory.\n",
      "\u001b[2m\u001b[36m(launch_and_evaluate pid=42548)\u001b[0m 2023-05-10 10:59:30.442437: W tensorflow/tsl/framework/cpu_allocator_impl.cc:83] Allocation of 498570752 exceeds 10% of free system memory.\n",
      "\u001b[2m\u001b[36m(launch_and_evaluate pid=42549)\u001b[0m 2023-05-10 10:59:30.455909: W tensorflow/tsl/framework/cpu_allocator_impl.cc:83] Allocation of 498570752 exceeds 10% of free system memory.\n",
      "\u001b[2m\u001b[36m(launch_and_evaluate pid=42547)\u001b[0m 2023-05-10 10:59:30.448830: W tensorflow/tsl/framework/cpu_allocator_impl.cc:83] Allocation of 498570752 exceeds 10% of free system memory.\n"
     ]
    },
    {
     "name": "stdout",
     "output_type": "stream",
     "text": [
      "1/1 [==============================] - 0s 216ms/step - loss: 0.5266 - accuracy: 0.7500\n",
      "1/1 [==============================] - 0s 216ms/step - loss: 0.2754 - accuracy: 1.0000\n",
      "1/1 [==============================] - 0s 216ms/step - loss: 0.3243 - accuracy: 0.8889\n"
     ]
    },
    {
     "name": "stderr",
     "output_type": "stream",
     "text": [
      "\u001b[2m\u001b[36m(launch_and_evaluate pid=42549)\u001b[0m 2023-05-10 10:59:33.172071: W tensorflow/tsl/framework/cpu_allocator_impl.cc:83] Allocation of 498570752 exceeds 10% of free system memory.\n",
      "\u001b[2m\u001b[36m(launch_and_evaluate pid=42750)\u001b[0m 2023-05-10 10:59:33.320426: W tensorflow/compiler/tf2tensorrt/utils/py_utils.cc:38] TF-TRT Warning: Could not find TensorRT\n",
      "\u001b[2m\u001b[36m(launch_and_evaluate pid=42549)\u001b[0m 2023-05-10 10:59:34.039412: W tensorflow/tsl/framework/cpu_allocator_impl.cc:83] Allocation of 498570752 exceeds 10% of free system memory.\n"
     ]
    },
    {
     "name": "stdout",
     "output_type": "stream",
     "text": [
      "1/1 [==============================] - 0s 103ms/step - loss: 0.5719 - accuracy: 0.8333\n"
     ]
    },
    {
     "name": "stderr",
     "output_type": "stream",
     "text": [
      "\u001b[2m\u001b[36m(launch_and_evaluate pid=42750)\u001b[0m 2023-05-10 10:59:35.284030: W tensorflow/tsl/framework/cpu_allocator_impl.cc:83] Allocation of 498570752 exceeds 10% of free system memory.\n",
      "\u001b[2m\u001b[36m(launch_and_evaluate pid=42750)\u001b[0m 2023-05-10 10:59:36.084431: W tensorflow/tsl/framework/cpu_allocator_impl.cc:83] Allocation of 498570752 exceeds 10% of free system memory.\n",
      "DEBUG flwr 2023-05-10 10:59:36,548 | server.py:179 | evaluate_round 5 received 5 results and 0 failures\n",
      "DEBUG:flwr:evaluate_round 5 received 5 results and 0 failures\n",
      "DEBUG flwr 2023-05-10 10:59:36,552 | server.py:215 | fit_round 6: strategy sampled 5 clients (out of 5)\n",
      "DEBUG:flwr:fit_round 6: strategy sampled 5 clients (out of 5)\n"
     ]
    },
    {
     "name": "stdout",
     "output_type": "stream",
     "text": [
      "1/1 [==============================] - 0s 125ms/step - loss: 0.3910 - accuracy: 0.7143\n"
     ]
    },
    {
     "name": "stderr",
     "output_type": "stream",
     "text": [
      "\u001b[2m\u001b[36m(launch_and_fit pid=42750)\u001b[0m 2023-05-10 10:59:38.322984: W tensorflow/tsl/framework/cpu_allocator_impl.cc:83] Allocation of 498570752 exceeds 10% of free system memory.\n",
      "\u001b[2m\u001b[36m(launch_and_fit pid=42549)\u001b[0m 2023-05-10 10:59:38.492323: W tensorflow/tsl/framework/cpu_allocator_impl.cc:83] Allocation of 498570752 exceeds 10% of free system memory.\n",
      "\u001b[2m\u001b[36m(launch_and_fit pid=42548)\u001b[0m 2023-05-10 10:59:38.551046: W tensorflow/tsl/framework/cpu_allocator_impl.cc:83] Allocation of 498570752 exceeds 10% of free system memory.\n",
      "\u001b[2m\u001b[36m(launch_and_fit pid=42583)\u001b[0m 2023-05-10 10:59:39.368799: W tensorflow/tsl/framework/cpu_allocator_impl.cc:83] Allocation of 498570752 exceeds 10% of free system memory.\n",
      "\u001b[2m\u001b[36m(launch_and_fit pid=42548)\u001b[0m 2023-05-10 10:59:44.298373: W tensorflow/tsl/framework/cpu_allocator_impl.cc:83] Allocation of 498570752 exceeds 10% of free system memory.\n",
      "\u001b[2m\u001b[36m(launch_and_fit pid=42750)\u001b[0m 2023-05-10 10:59:45.358893: W tensorflow/tsl/framework/cpu_allocator_impl.cc:83] Allocation of 498570752 exceeds 10% of free system memory.\n"
     ]
    },
    {
     "name": "stdout",
     "output_type": "stream",
     "text": [
      "\u001b[2m\u001b[36m(launch_and_fit pid=42548)\u001b[0m Epoch 1/5\n",
      "\u001b[2m\u001b[36m(launch_and_fit pid=42549)\u001b[0m Epoch 1/5\n",
      "\u001b[2m\u001b[36m(launch_and_fit pid=42750)\u001b[0m Epoch 1/5\n",
      "  1/160 [..............................] - ETA: 1:43 - loss: 0.4691 - accuracy: 0.8000\n",
      "  1/160 [..............................] - ETA: 1:46 - loss: 0.5048 - accuracy: 0.7000\n",
      " 26/160 [===>..........................] - ETA: 0s - loss: 0.5287 - accuracy: 0.7404\n",
      " 25/160 [===>..........................] - ETA: 0s - loss: 0.5239 - accuracy: 0.7420\n",
      " 47/160 [=======>......................] - ETA: 0s - loss: 0.5389 - accuracy: 0.7404\n",
      " 47/160 [=======>......................] - ETA: 0s - loss: 0.5140 - accuracy: 0.7564\n",
      "  1/160 [..............................] - ETA: 2:04 - loss: 0.6933 - accuracy: 0.5000\n",
      " 86/160 [===============>..............] - ETA: 0s - loss: 0.5369 - accuracy: 0.7285\n",
      " 87/160 [===============>..............] - ETA: 0s - loss: 0.5029 - accuracy: 0.7557\n",
      " 11/160 [=>............................] - ETA: 1s - loss: 0.5444 - accuracy: 0.7000\n",
      "160/160 [==============================] - 1s 3ms/step - loss: 0.5375 - accuracy: 0.7325\n",
      "\u001b[2m\u001b[36m(launch_and_fit pid=42548)\u001b[0m Epoch 2/5\n",
      "  1/160 [..............................] - ETA: 0s - loss: 0.3768 - accuracy: 0.8000\n",
      "160/160 [==============================] - 1s 3ms/step - loss: 0.5162 - accuracy: 0.7428\n",
      "\u001b[2m\u001b[36m(launch_and_fit pid=42549)\u001b[0m Epoch 2/5\n",
      "  1/160 [..............................] - ETA: 0s - loss: 0.5019 - accuracy: 0.7000\n",
      " 32/160 [=====>........................] - ETA: 0s - loss: 0.5321 - accuracy: 0.7391\n",
      " 43/160 [=======>......................] - ETA: 0s - loss: 0.5393 - accuracy: 0.7337\n",
      " 60/160 [==========>...................] - ETA: 0s - loss: 0.5243 - accuracy: 0.7433\n",
      " 62/160 [==========>...................] - ETA: 0s - loss: 0.5075 - accuracy: 0.7492\n",
      " 69/160 [===========>..................] - ETA: 0s - loss: 0.5307 - accuracy: 0.7348\n",
      " 94/160 [================>.............] - ETA: 0s - loss: 0.5335 - accuracy: 0.7351\n",
      "108/160 [===================>..........] - ETA: 0s - loss: 0.5013 - accuracy: 0.7565\n",
      " 85/160 [==============>...............] - ETA: 0s - loss: 0.5210 - accuracy: 0.7412\n",
      "109/160 [===================>..........] - ETA: 0s - loss: 0.5296 - accuracy: 0.7390\n",
      "123/160 [======================>.......] - ETA: 0s - loss: 0.5044 - accuracy: 0.7553\n",
      " 95/160 [================>.............] - ETA: 0s - loss: 0.5244 - accuracy: 0.7384\n",
      "117/160 [====================>.........] - ETA: 0s - loss: 0.5313 - accuracy: 0.7397\n",
      "100/160 [=================>............] - ETA: 0s - loss: 0.5287 - accuracy: 0.7355\n",
      "131/160 [=======================>......] - ETA: 0s - loss: 0.5337 - accuracy: 0.7370\n",
      "137/160 [========================>.....] - ETA: 0s - loss: 0.5093 - accuracy: 0.7526\n",
      "112/160 [====================>.........] - ETA: 0s - loss: 0.5316 - accuracy: 0.7344\n",
      "160/160 [==============================] - 1s 4ms/step - loss: 0.5328 - accuracy: 0.7341\n",
      "\u001b[2m\u001b[36m(launch_and_fit pid=42548)\u001b[0m Epoch 3/5\n",
      "  1/160 [..............................] - ETA: 0s - loss: 0.4401 - accuracy: 0.9000\n",
      "160/160 [==============================] - 1s 4ms/step - loss: 0.5111 - accuracy: 0.7478\n",
      "\u001b[2m\u001b[36m(launch_and_fit pid=42549)\u001b[0m Epoch 3/5\n",
      "  1/160 [..............................] - ETA: 0s - loss: 0.6044 - accuracy: 0.6000\n",
      "138/160 [========================>.....] - ETA: 0s - loss: 0.5328 - accuracy: 0.7330\n",
      " 64/160 [===========>..................] - ETA: 0s - loss: 0.5252 - accuracy: 0.7391\n",
      "100/160 [=================>............] - ETA: 0s - loss: 0.5105 - accuracy: 0.7470\n",
      "160/160 [==============================] - 2s 6ms/step - loss: 0.5339 - accuracy: 0.7306\n",
      "\u001b[2m\u001b[36m(launch_and_fit pid=42750)\u001b[0m Epoch 2/5\n",
      " 35/160 [=====>........................] - ETA: 0s - loss: 0.4949 - accuracy: 0.7500\n",
      "123/160 [======================>.......] - ETA: 0s - loss: 0.5290 - accuracy: 0.7402\n",
      "146/160 [==========================>...] - ETA: 0s - loss: 0.5090 - accuracy: 0.7438\n",
      " 84/160 [==============>...............] - ETA: 0s - loss: 0.5194 - accuracy: 0.7411\n",
      "153/160 [===========================>..] - ETA: 0s - loss: 0.5316 - accuracy: 0.7359\n",
      "160/160 [==============================] - 0s 2ms/step - loss: 0.5084 - accuracy: 0.7434\n",
      "\u001b[2m\u001b[36m(launch_and_fit pid=42549)\u001b[0m Epoch 4/5\n",
      "  1/160 [..............................] - ETA: 1s - loss: 0.5326 - accuracy: 0.7000\n",
      "106/160 [==================>...........] - ETA: 0s - loss: 0.5247 - accuracy: 0.7358\n",
      "160/160 [==============================] - ETA: 0s - loss: 0.5295 - accuracy: 0.7369\n",
      "  8/160 [>.............................] - ETA: 1s - loss: 0.4779 - accuracy: 0.7688\n",
      "160/160 [==============================] - 0s 2ms/step - loss: 0.5295 - accuracy: 0.7369\n",
      "111/160 [===================>..........] - ETA: 0s - loss: 0.5262 - accuracy: 0.7365\n",
      "\u001b[2m\u001b[36m(launch_and_fit pid=42548)\u001b[0m Epoch 4/5\n",
      "  1/160 [..............................] - ETA: 1s - loss: 0.6308 - accuracy: 0.6000\n",
      " 16/160 [==>...........................] - ETA: 0s - loss: 0.5446 - accuracy: 0.7219\n",
      " 33/160 [=====>........................] - ETA: 0s - loss: 0.4679 - accuracy: 0.7697\n",
      "131/160 [=======================>......] - ETA: 0s - loss: 0.5319 - accuracy: 0.7302\n",
      " 39/160 [======>.......................] - ETA: 0s - loss: 0.5412 - accuracy: 0.7167\n",
      " 64/160 [===========>..................] - ETA: 0s - loss: 0.5072 - accuracy: 0.7430\n",
      "149/160 [==========================>...] - ETA: 0s - loss: 0.5298 - accuracy: 0.7322\n",
      " 58/160 [=========>....................] - ETA: 0s - loss: 0.5483 - accuracy: 0.7164\n",
      " 96/160 [=================>............] - ETA: 0s - loss: 0.5080 - accuracy: 0.7453\n",
      "160/160 [==============================] - 1s 4ms/step - loss: 0.5286 - accuracy: 0.7325\n",
      "\u001b[2m\u001b[36m(launch_and_fit pid=42750)\u001b[0m Epoch 3/5\n",
      "  9/160 [>.............................] - ETA: 1s - loss: 0.4870 - accuracy: 0.7500\n",
      " 91/160 [================>.............] - ETA: 0s - loss: 0.5283 - accuracy: 0.7352\n",
      "133/160 [=======================>......] - ETA: 0s - loss: 0.5065 - accuracy: 0.7496\n",
      " 45/160 [=======>......................] - ETA: 0s - loss: 0.5159 - accuracy: 0.7278\n",
      "160/160 [==============================] - 1s 4ms/step - loss: 0.5271 - accuracy: 0.7362\n",
      "\u001b[2m\u001b[36m(launch_and_fit pid=42548)\u001b[0m Epoch 5/5\n",
      "  1/160 [..............................] - ETA: 0s - loss: 0.4598 - accuracy: 0.9000\n",
      "160/160 [==============================] - 1s 4ms/step - loss: 0.5053 - accuracy: 0.7500\n",
      "\u001b[2m\u001b[36m(launch_and_fit pid=42549)\u001b[0m Epoch 5/5\n",
      " 26/160 [===>..........................] - ETA: 0s - loss: 0.5440 - accuracy: 0.6962\n",
      " 97/160 [=================>............] - ETA: 0s - loss: 0.5269 - accuracy: 0.7247\n",
      " 30/160 [====>.........................] - ETA: 0s - loss: 0.5232 - accuracy: 0.7317\n",
      " 61/160 [==========>...................] - ETA: 0s - loss: 0.5153 - accuracy: 0.7336\n",
      "142/160 [=========================>....] - ETA: 0s - loss: 0.5228 - accuracy: 0.7359\n",
      " 67/160 [===========>..................] - ETA: 0s - loss: 0.5106 - accuracy: 0.7343\n",
      " 34/160 [=====>........................] - ETA: 0s - loss: 0.5096 - accuracy: 0.7441\n",
      " 74/160 [============>.................] - ETA: 0s - loss: 0.5262 - accuracy: 0.7385\n",
      " 98/160 [=================>............] - ETA: 0s - loss: 0.4955 - accuracy: 0.7510\n",
      "160/160 [==============================] - 1s 3ms/step - loss: 0.5237 - accuracy: 0.7369\n",
      "\u001b[2m\u001b[36m(launch_and_fit pid=42750)\u001b[0m Epoch 4/5\n",
      " 28/160 [====>.........................] - ETA: 0s - loss: 0.5492 - accuracy: 0.7214\n",
      "132/160 [=======================>......] - ETA: 0s - loss: 0.5239 - accuracy: 0.7405\n",
      "160/160 [==============================] - 0s 3ms/step - loss: 0.5023 - accuracy: 0.7500\n",
      " 80/160 [==============>...............] - ETA: 0s - loss: 0.5228 - accuracy: 0.7337\n",
      "157/160 [============================>.] - ETA: 0s - loss: 0.5265 - accuracy: 0.7382\n",
      "103/160 [==================>...........] - ETA: 0s - loss: 0.5168 - accuracy: 0.7393\n",
      "160/160 [==============================] - 1s 3ms/step - loss: 0.5250 - accuracy: 0.7397\n",
      "115/160 [====================>.........] - ETA: 0s - loss: 0.5174 - accuracy: 0.7378\n",
      "160/160 [==============================] - 0s 3ms/step - loss: 0.5214 - accuracy: 0.7372\n",
      "\u001b[2m\u001b[36m(launch_and_fit pid=42750)\u001b[0m Epoch 5/5\n",
      "  1/160 [..............................] - ETA: 0s - loss: 0.4991 - accuracy: 0.8000\n",
      " 54/160 [=========>....................] - ETA: 0s - loss: 0.5176 - accuracy: 0.7389\n",
      "116/160 [====================>.........] - ETA: 0s - loss: 0.5229 - accuracy: 0.7379\n",
      "146/160 [==========================>...] - ETA: 0s - loss: 0.5163 - accuracy: 0.7421\n",
      "160/160 [==============================] - 0s 2ms/step - loss: 0.5185 - accuracy: 0.7406\n"
     ]
    },
    {
     "name": "stderr",
     "output_type": "stream",
     "text": [
      "\u001b[2m\u001b[36m(launch_and_fit pid=43213)\u001b[0m 2023-05-10 10:59:49.855035: W tensorflow/compiler/tf2tensorrt/utils/py_utils.cc:38] TF-TRT Warning: Could not find TensorRT\n",
      "\u001b[2m\u001b[36m(launch_and_fit pid=43415)\u001b[0m 2023-05-10 10:59:50.858847: W tensorflow/compiler/tf2tensorrt/utils/py_utils.cc:38] TF-TRT Warning: Could not find TensorRT\n",
      "\u001b[2m\u001b[36m(launch_and_fit pid=43411)\u001b[0m 2023-05-10 11:00:00.110334: W tensorflow/compiler/tf2tensorrt/utils/py_utils.cc:38] TF-TRT Warning: Could not find TensorRT\n",
      "\u001b[2m\u001b[33m(raylet)\u001b[0m [2023-05-10 11:00:03,705 E 37953 37953] (raylet) node_manager.cc:3097: 9 Workers (tasks / actors) killed due to memory pressure (OOM), 0 Workers crashed due to other reasons at node (ID: aa0acf9ee9e32ddf668348d33a329ec3aa72650aa672c670cc93ed24, IP: 172.25.8.82) over the last time period. To see more information about the Workers killed on this node, use `ray logs raylet.out -ip 172.25.8.82`\n",
      "\u001b[2m\u001b[33m(raylet)\u001b[0m \n",
      "\u001b[2m\u001b[33m(raylet)\u001b[0m Refer to the documentation on how to address the out of memory issue: https://docs.ray.io/en/latest/ray-core/scheduling/ray-oom-prevention.html. Consider provisioning more memory on this node or reducing task parallelism by requesting more CPUs per task. To adjust the kill threshold, set the environment variable `RAY_memory_usage_threshold` when starting Ray. To disable worker killing, set the environment variable `RAY_memory_monitor_refresh_ms` to zero.\n",
      "\u001b[2m\u001b[36m(launch_and_fit pid=43571)\u001b[0m 2023-05-10 11:00:03.915556: W tensorflow/compiler/tf2tensorrt/utils/py_utils.cc:38] TF-TRT Warning: Could not find TensorRT\n",
      "\u001b[2m\u001b[36m(launch_and_fit pid=43411)\u001b[0m 2023-05-10 11:00:04.033391: W tensorflow/tsl/framework/cpu_allocator_impl.cc:83] Allocation of 498570752 exceeds 10% of free system memory.\n",
      "\u001b[2m\u001b[36m(launch_and_fit pid=43571)\u001b[0m 2023-05-10 11:00:05.269554: W tensorflow/tsl/framework/cpu_allocator_impl.cc:83] Allocation of 498570752 exceeds 10% of free system memory.\n",
      "\u001b[2m\u001b[36m(launch_and_fit pid=43411)\u001b[0m 2023-05-10 11:00:05.831352: W tensorflow/tsl/framework/cpu_allocator_impl.cc:83] Allocation of 498570752 exceeds 10% of free system memory.\n"
     ]
    },
    {
     "name": "stdout",
     "output_type": "stream",
     "text": [
      "\u001b[2m\u001b[36m(launch_and_fit pid=43411)\u001b[0m Epoch 1/5\n"
     ]
    },
    {
     "name": "stderr",
     "output_type": "stream",
     "text": [
      "\u001b[2m\u001b[36m(launch_and_fit pid=43571)\u001b[0m 2023-05-10 11:00:07.030819: W tensorflow/tsl/framework/cpu_allocator_impl.cc:83] Allocation of 498570752 exceeds 10% of free system memory.\n"
     ]
    },
    {
     "name": "stdout",
     "output_type": "stream",
     "text": [
      " 22/160 [===>..........................] - ETA: 0s - loss: 0.5207 - accuracy: 0.7500  \n",
      " 86/160 [===============>..............] - ETA: 0s - loss: 0.5302 - accuracy: 0.7343\n",
      "160/160 [==============================] - 1s 2ms/step - loss: 0.5365 - accuracy: 0.7297\n",
      "\u001b[2m\u001b[36m(launch_and_fit pid=43411)\u001b[0m Epoch 2/5\n",
      "  1/160 [..............................] - ETA: 0s - loss: 0.4667 - accuracy: 0.9000\n",
      " 65/160 [===========>..................] - ETA: 0s - loss: 0.5450 - accuracy: 0.7231\n",
      "160/160 [==============================] - 0s 1ms/step - loss: 0.5332 - accuracy: 0.7237\n",
      "\u001b[2m\u001b[36m(launch_and_fit pid=43411)\u001b[0m Epoch 3/5\n",
      "  1/160 [..............................] - ETA: 0s - loss: 0.7102 - accuracy: 0.6000\n",
      "\u001b[2m\u001b[36m(launch_and_fit pid=43571)\u001b[0m Epoch 1/5\n",
      " 90/160 [===============>..............] - ETA: 0s - loss: 0.5185 - accuracy: 0.7311\n",
      "160/160 [==============================] - 0s 1ms/step - loss: 0.5294 - accuracy: 0.7256\n",
      "\u001b[2m\u001b[36m(launch_and_fit pid=43411)\u001b[0m Epoch 4/5\n",
      " 52/160 [========>.....................] - ETA: 0s - loss: 0.5182 - accuracy: 0.7365\n",
      "142/160 [=========================>....] - ETA: 0s - loss: 0.5261 - accuracy: 0.7292\n",
      "160/160 [==============================] - 0s 1ms/step - loss: 0.5265 - accuracy: 0.7300\n",
      "\u001b[2m\u001b[36m(launch_and_fit pid=43411)\u001b[0m Epoch 5/5\n",
      " 52/160 [========>.....................] - ETA: 0s - loss: 0.5150 - accuracy: 0.7346\n",
      "160/160 [==============================] - 0s 1ms/step - loss: 0.5247 - accuracy: 0.7344\n",
      "  1/160 [..............................] - ETA: 1:25 - loss: 0.5720 - accuracy: 0.7000\n",
      " 79/160 [=============>................] - ETA: 0s - loss: 0.5317 - accuracy: 0.7304\n",
      "160/160 [==============================] - 1s 1ms/step - loss: 0.5311 - accuracy: 0.7356\n",
      "\u001b[2m\u001b[36m(launch_and_fit pid=43571)\u001b[0m Epoch 2/5\n",
      "  1/160 [..............................] - ETA: 0s - loss: 0.7033 - accuracy: 0.6000\n",
      " 90/160 [===============>..............] - ETA: 0s - loss: 0.5193 - accuracy: 0.7550\n",
      "160/160 [==============================] - 0s 1ms/step - loss: 0.5257 - accuracy: 0.7441\n",
      "\u001b[2m\u001b[36m(launch_and_fit pid=43571)\u001b[0m Epoch 3/5\n",
      "  1/160 [..............................] - ETA: 0s - loss: 0.4655 - accuracy: 0.8000\n",
      "100/160 [=================>............] - ETA: 0s - loss: 0.5226 - accuracy: 0.7465\n",
      "160/160 [==============================] - 0s 1ms/step - loss: 0.5218 - accuracy: 0.7453\n",
      "\u001b[2m\u001b[36m(launch_and_fit pid=43571)\u001b[0m Epoch 4/5\n",
      " 45/160 [=======>......................] - ETA: 0s - loss: 0.5009 - accuracy: 0.7533\n",
      "160/160 [==============================] - 0s 1ms/step - loss: 0.5192 - accuracy: 0.7416\n",
      "\u001b[2m\u001b[36m(launch_and_fit pid=43571)\u001b[0m Epoch 5/5\n",
      "  1/160 [..............................] - ETA: 0s - loss: 0.5937 - accuracy: 0.8000\n",
      " 82/160 [==============>...............] - ETA: 0s - loss: 0.5222 - accuracy: 0.7470\n",
      "160/160 [==============================] - 0s 1ms/step - loss: 0.5172 - accuracy: 0.7494\n"
     ]
    },
    {
     "name": "stderr",
     "output_type": "stream",
     "text": [
      "DEBUG flwr 2023-05-10 11:00:13,037 | server.py:229 | fit_round 6 received 5 results and 0 failures\n",
      "DEBUG:flwr:fit_round 6 received 5 results and 0 failures\n",
      "DEBUG flwr 2023-05-10 11:00:28,142 | server.py:165 | evaluate_round 6: strategy sampled 5 clients (out of 5)\n",
      "DEBUG:flwr:evaluate_round 6: strategy sampled 5 clients (out of 5)\n",
      "\u001b[2m\u001b[36m(launch_and_evaluate pid=43767)\u001b[0m 2023-05-10 11:00:35.588735: W tensorflow/compiler/tf2tensorrt/utils/py_utils.cc:38] TF-TRT Warning: Could not find TensorRT\n",
      "\u001b[2m\u001b[36m(launch_and_evaluate pid=43764)\u001b[0m 2023-05-10 11:00:35.588735: W tensorflow/compiler/tf2tensorrt/utils/py_utils.cc:38] TF-TRT Warning: Could not find TensorRT\n",
      "\u001b[2m\u001b[36m(launch_and_evaluate pid=43801)\u001b[0m 2023-05-10 11:00:35.588734: W tensorflow/compiler/tf2tensorrt/utils/py_utils.cc:38] TF-TRT Warning: Could not find TensorRT\n",
      "\u001b[2m\u001b[36m(launch_and_evaluate pid=43765)\u001b[0m 2023-05-10 11:00:35.588738: W tensorflow/compiler/tf2tensorrt/utils/py_utils.cc:38] TF-TRT Warning: Could not find TensorRT\n",
      "\u001b[2m\u001b[36m(launch_and_evaluate pid=43802)\u001b[0m 2023-05-10 11:00:35.588743: W tensorflow/compiler/tf2tensorrt/utils/py_utils.cc:38] TF-TRT Warning: Could not find TensorRT\n",
      "\u001b[2m\u001b[36m(launch_and_evaluate pid=43767)\u001b[0m 2023-05-10 11:00:38.224003: W tensorflow/tsl/framework/cpu_allocator_impl.cc:83] Allocation of 498570752 exceeds 10% of free system memory.\n",
      "\u001b[2m\u001b[36m(launch_and_evaluate pid=43764)\u001b[0m 2023-05-10 11:00:38.224003: W tensorflow/tsl/framework/cpu_allocator_impl.cc:83] Allocation of 498570752 exceeds 10% of free system memory.\n",
      "\u001b[2m\u001b[36m(launch_and_evaluate pid=43801)\u001b[0m 2023-05-10 11:00:38.223996: W tensorflow/tsl/framework/cpu_allocator_impl.cc:83] Allocation of 498570752 exceeds 10% of free system memory.\n",
      "\u001b[2m\u001b[36m(launch_and_evaluate pid=43765)\u001b[0m 2023-05-10 11:00:38.224201: W tensorflow/tsl/framework/cpu_allocator_impl.cc:83] Allocation of 498570752 exceeds 10% of free system memory.\n",
      "\u001b[2m\u001b[36m(launch_and_evaluate pid=43802)\u001b[0m 2023-05-10 11:00:38.223999: W tensorflow/tsl/framework/cpu_allocator_impl.cc:83] Allocation of 498570752 exceeds 10% of free system memory.\n",
      "\u001b[2m\u001b[36m(launch_and_evaluate pid=43765)\u001b[0m 2023-05-10 11:00:44.909013: W tensorflow/tsl/framework/cpu_allocator_impl.cc:83] Allocation of 498570752 exceeds 10% of free system memory.\n",
      "\u001b[2m\u001b[36m(launch_and_evaluate pid=43767)\u001b[0m 2023-05-10 11:00:45.052030: W tensorflow/tsl/framework/cpu_allocator_impl.cc:83] Allocation of 498570752 exceeds 10% of free system memory.\n",
      "\u001b[2m\u001b[36m(launch_and_evaluate pid=43802)\u001b[0m 2023-05-10 11:00:45.060175: W tensorflow/tsl/framework/cpu_allocator_impl.cc:83] Allocation of 498570752 exceeds 10% of free system memory.\n",
      "\u001b[2m\u001b[36m(launch_and_evaluate pid=43801)\u001b[0m 2023-05-10 11:00:45.194004: W tensorflow/tsl/framework/cpu_allocator_impl.cc:83] Allocation of 498570752 exceeds 10% of free system memory.\n"
     ]
    },
    {
     "name": "stdout",
     "output_type": "stream",
     "text": [
      "1/1 [==============================] - 0s 176ms/step - loss: 0.3306 - accuracy: 0.7778\n",
      "1/1 [==============================] - 0s 235ms/step - loss: 0.5233 - accuracy: 0.7500\n",
      "1/1 [==============================] - 0s 251ms/step - loss: 0.3835 - accuracy: 0.7143\n"
     ]
    },
    {
     "name": "stderr",
     "output_type": "stream",
     "text": [
      "\u001b[2m\u001b[36m(launch_and_evaluate pid=43801)\u001b[0m 2023-05-10 11:00:46.574665: W tensorflow/tsl/framework/cpu_allocator_impl.cc:83] Allocation of 498570752 exceeds 10% of free system memory.\n",
      "\u001b[2m\u001b[36m(launch_and_evaluate pid=43801)\u001b[0m 2023-05-10 11:00:47.295182: W tensorflow/tsl/framework/cpu_allocator_impl.cc:83] Allocation of 498570752 exceeds 10% of free system memory.\n",
      "\u001b[2m\u001b[36m(launch_and_evaluate pid=43765)\u001b[0m 2023-05-10 11:00:47.576879: W tensorflow/tsl/framework/cpu_allocator_impl.cc:83] Allocation of 498570752 exceeds 10% of free system memory.\n"
     ]
    },
    {
     "name": "stdout",
     "output_type": "stream",
     "text": [
      "1/1 [==============================] - 0s 118ms/step - loss: 0.2719 - accuracy: 1.0000\n"
     ]
    },
    {
     "name": "stderr",
     "output_type": "stream",
     "text": [
      "\u001b[2m\u001b[36m(launch_and_evaluate pid=43765)\u001b[0m 2023-05-10 11:00:48.307939: W tensorflow/tsl/framework/cpu_allocator_impl.cc:83] Allocation of 498570752 exceeds 10% of free system memory.\n",
      "DEBUG flwr 2023-05-10 11:00:48,797 | server.py:179 | evaluate_round 6 received 5 results and 0 failures\n",
      "DEBUG:flwr:evaluate_round 6 received 5 results and 0 failures\n",
      "DEBUG flwr 2023-05-10 11:00:48,798 | server.py:215 | fit_round 7: strategy sampled 5 clients (out of 5)\n",
      "DEBUG:flwr:fit_round 7: strategy sampled 5 clients (out of 5)\n"
     ]
    },
    {
     "name": "stdout",
     "output_type": "stream",
     "text": [
      "1/1 [==============================] - 0s 123ms/step - loss: 0.5625 - accuracy: 0.8333\n"
     ]
    },
    {
     "name": "stderr",
     "output_type": "stream",
     "text": [
      "\u001b[2m\u001b[36m(launch_and_fit pid=43801)\u001b[0m 2023-05-10 11:00:50.587799: W tensorflow/tsl/framework/cpu_allocator_impl.cc:83] Allocation of 498570752 exceeds 10% of free system memory.\n",
      "\u001b[2m\u001b[36m(launch_and_fit pid=43765)\u001b[0m 2023-05-10 11:00:50.494073: W tensorflow/tsl/framework/cpu_allocator_impl.cc:83] Allocation of 498570752 exceeds 10% of free system memory.\n",
      "\u001b[2m\u001b[36m(launch_and_fit pid=43767)\u001b[0m 2023-05-10 11:00:51.458314: W tensorflow/tsl/framework/cpu_allocator_impl.cc:83] Allocation of 498570752 exceeds 10% of free system memory.\n"
     ]
    },
    {
     "name": "stdout",
     "output_type": "stream",
     "text": [
      "\u001b[2m\u001b[36m(launch_and_fit pid=43801)\u001b[0m Epoch 1/5\n",
      "\u001b[2m\u001b[36m(launch_and_fit pid=43765)\u001b[0m Epoch 1/5\n"
     ]
    },
    {
     "name": "stderr",
     "output_type": "stream",
     "text": [
      "\u001b[2m\u001b[36m(launch_and_fit pid=44348)\u001b[0m 2023-05-10 11:00:56.692316: W tensorflow/compiler/tf2tensorrt/utils/py_utils.cc:38] TF-TRT Warning: Could not find TensorRT\n",
      "\u001b[2m\u001b[36m(launch_and_fit pid=44337)\u001b[0m 2023-05-10 11:00:56.692270: W tensorflow/compiler/tf2tensorrt/utils/py_utils.cc:38] TF-TRT Warning: Could not find TensorRT\n",
      "\u001b[2m\u001b[36m(launch_and_fit pid=43767)\u001b[0m 2023-05-10 11:00:56.903938: W tensorflow/tsl/framework/cpu_allocator_impl.cc:83] Allocation of 498570752 exceeds 10% of free system memory.\n"
     ]
    },
    {
     "name": "stdout",
     "output_type": "stream",
     "text": [
      "\u001b[2m\u001b[36m(launch_and_fit pid=43767)\u001b[0m Epoch 1/5\n",
      " 40/160 [======>.......................] - ETA: 0s - loss: 0.5085 - accuracy: 0.7487  \n",
      " 40/160 [======>.......................] - ETA: 0s - loss: 0.5271 - accuracy: 0.7437  \n",
      "105/160 [==================>...........] - ETA: 0s - loss: 0.5239 - accuracy: 0.7357\n",
      "107/160 [===================>..........] - ETA: 0s - loss: 0.5387 - accuracy: 0.7238\n",
      "139/160 [=========================>....] - ETA: 0s - loss: 0.5178 - accuracy: 0.7471\n",
      "160/160 [==============================] - 1s 2ms/step - loss: 0.5142 - accuracy: 0.7487\n",
      "\u001b[2m\u001b[36m(launch_and_fit pid=43801)\u001b[0m Epoch 2/5\n",
      " 37/160 [=====>........................] - ETA: 0s - loss: 0.4891 - accuracy: 0.7608\n",
      "160/160 [==============================] - 1s 2ms/step - loss: 0.5358 - accuracy: 0.7253\n",
      "\u001b[2m\u001b[36m(launch_and_fit pid=43765)\u001b[0m Epoch 2/5\n",
      " 39/160 [======>.......................] - ETA: 0s - loss: 0.5216 - accuracy: 0.7179\n",
      "114/160 [====================>.........] - ETA: 0s - loss: 0.5089 - accuracy: 0.7509\n",
      "119/160 [=====================>........] - ETA: 0s - loss: 0.5302 - accuracy: 0.7231\n",
      "160/160 [==============================] - 0s 1ms/step - loss: 0.5084 - accuracy: 0.7494\n",
      "\u001b[2m\u001b[36m(launch_and_fit pid=43801)\u001b[0m Epoch 3/5\n",
      " 35/160 [=====>........................] - ETA: 0s - loss: 0.5009 - accuracy: 0.7429\n",
      "160/160 [==============================] - 0s 1ms/step - loss: 0.5311 - accuracy: 0.7241\n",
      "\u001b[2m\u001b[36m(launch_and_fit pid=43765)\u001b[0m Epoch 3/5\n",
      " 34/160 [=====>........................] - ETA: 0s - loss: 0.5012 - accuracy: 0.7559\n",
      "101/160 [=================>............] - ETA: 0s - loss: 0.4962 - accuracy: 0.7500\n",
      "101/160 [=================>............] - ETA: 0s - loss: 0.5171 - accuracy: 0.7371\n",
      "160/160 [==============================] - 0s 2ms/step - loss: 0.5060 - accuracy: 0.7387\n",
      "\u001b[2m\u001b[36m(launch_and_fit pid=43801)\u001b[0m Epoch 4/5\n",
      "  1/160 [..............................] - ETA: 0s - loss: 0.5241 - accuracy: 0.8000\n",
      "160/160 [==============================] - 0s 2ms/step - loss: 0.5277 - accuracy: 0.7284\n",
      "\u001b[2m\u001b[36m(launch_and_fit pid=43765)\u001b[0m Epoch 4/5\n",
      "  1/160 [..............................] - ETA: 0s - loss: 0.5216 - accuracy: 0.7000\n",
      " 75/160 [=============>................] - ETA: 0s - loss: 0.5080 - accuracy: 0.7480\n",
      " 78/160 [=============>................] - ETA: 0s - loss: 0.5237 - accuracy: 0.7346\n",
      "160/160 [==============================] - 0s 2ms/step - loss: 0.5033 - accuracy: 0.7484\n",
      "\u001b[2m\u001b[36m(launch_and_fit pid=43801)\u001b[0m Epoch 5/5\n",
      "  1/160 [..............................] - ETA: 0s - loss: 0.6137 - accuracy: 0.6500\n",
      "  1/160 [..............................] - ETA: 2:42 - loss: 0.5133 - accuracy: 0.8500\n",
      "160/160 [==============================] - 0s 1ms/step - loss: 0.5248 - accuracy: 0.7275\n",
      "\u001b[2m\u001b[36m(launch_and_fit pid=43765)\u001b[0m Epoch 5/5\n",
      "  1/160 [..............................] - ETA: 0s - loss: 0.5800 - accuracy: 0.7000\n",
      " 67/160 [===========>..................] - ETA: 0s - loss: 0.5059 - accuracy: 0.7433\n",
      " 65/160 [===========>..................] - ETA: 0s - loss: 0.5240 - accuracy: 0.7323\n",
      " 68/160 [===========>..................] - ETA: 0s - loss: 0.5316 - accuracy: 0.7375\n",
      " 92/160 [================>.............] - ETA: 0s - loss: 0.5302 - accuracy: 0.7288\n",
      "125/160 [======================>.......] - ETA: 0s - loss: 0.5036 - accuracy: 0.7424\n",
      "160/160 [==============================] - 1s 2ms/step - loss: 0.5316 - accuracy: 0.7287\n",
      "\u001b[2m\u001b[36m(launch_and_fit pid=43767)\u001b[0m Epoch 2/5\n",
      "126/160 [======================>.......] - ETA: 0s - loss: 0.5231 - accuracy: 0.7397\n",
      "  1/160 [..............................] - ETA: 0s - loss: 0.4357 - accuracy: 0.8000\n",
      "160/160 [==============================] - 0s 2ms/step - loss: 0.5220 - accuracy: 0.7334\n",
      "160/160 [==============================] - 0s 2ms/step - loss: 0.5007 - accuracy: 0.7494\n",
      " 58/160 [=========>....................] - ETA: 0s - loss: 0.5321 - accuracy: 0.7155\n",
      "105/160 [==================>...........] - ETA: 0s - loss: 0.5236 - accuracy: 0.7286\n",
      "160/160 [==============================] - 0s 2ms/step - loss: 0.5257 - accuracy: 0.7341\n",
      "\u001b[2m\u001b[36m(launch_and_fit pid=43767)\u001b[0m Epoch 3/5\n",
      "  1/160 [..............................] - ETA: 0s - loss: 0.4318 - accuracy: 0.7500\n",
      " 82/160 [==============>...............] - ETA: 0s - loss: 0.5112 - accuracy: 0.7457\n",
      "148/160 [==========================>...] - ETA: 0s - loss: 0.5238 - accuracy: 0.7361\n",
      "160/160 [==============================] - 0s 2ms/step - loss: 0.5227 - accuracy: 0.7387\n",
      "\u001b[2m\u001b[36m(launch_and_fit pid=43767)\u001b[0m Epoch 4/5\n",
      " 31/160 [====>.........................] - ETA: 0s - loss: 0.5293 - accuracy: 0.7306\n",
      " 65/160 [===========>..................] - ETA: 0s - loss: 0.5156 - accuracy: 0.7462\n",
      "121/160 [=====================>........] - ETA: 0s - loss: 0.5238 - accuracy: 0.7405\n",
      "160/160 [==============================] - 0s 2ms/step - loss: 0.5190 - accuracy: 0.7412\n",
      "\u001b[2m\u001b[36m(launch_and_fit pid=43767)\u001b[0m Epoch 5/5\n",
      "  1/160 [..............................] - ETA: 0s - loss: 0.6670 - accuracy: 0.6500\n",
      " 60/160 [==========>...................] - ETA: 0s - loss: 0.5072 - accuracy: 0.7433\n",
      "120/160 [=====================>........] - ETA: 0s - loss: 0.5113 - accuracy: 0.7450\n",
      "141/160 [=========================>....] - ETA: 0s - loss: 0.5139 - accuracy: 0.7436\n",
      "160/160 [==============================] - 0s 2ms/step - loss: 0.5167 - accuracy: 0.7425\n"
     ]
    },
    {
     "name": "stderr",
     "output_type": "stream",
     "text": [
      "\u001b[2m\u001b[36m(launch_and_fit pid=44337)\u001b[0m 2023-05-10 11:00:59.959128: W tensorflow/tsl/framework/cpu_allocator_impl.cc:83] Allocation of 498570752 exceeds 10% of free system memory.\n",
      "\u001b[2m\u001b[36m(launch_and_fit pid=44336)\u001b[0m 2023-05-10 11:00:59.989923: W tensorflow/compiler/tf2tensorrt/utils/py_utils.cc:38] TF-TRT Warning: Could not find TensorRT\n",
      "\u001b[2m\u001b[33m(raylet)\u001b[0m [2023-05-10 11:01:04,833 E 37953 37953] (raylet) node_manager.cc:3097: 14 Workers (tasks / actors) killed due to memory pressure (OOM), 0 Workers crashed due to other reasons at node (ID: aa0acf9ee9e32ddf668348d33a329ec3aa72650aa672c670cc93ed24, IP: 172.25.8.82) over the last time period. To see more information about the Workers killed on this node, use `ray logs raylet.out -ip 172.25.8.82`\n",
      "\u001b[2m\u001b[33m(raylet)\u001b[0m \n",
      "\u001b[2m\u001b[33m(raylet)\u001b[0m Refer to the documentation on how to address the out of memory issue: https://docs.ray.io/en/latest/ray-core/scheduling/ray-oom-prevention.html. Consider provisioning more memory on this node or reducing task parallelism by requesting more CPUs per task. To adjust the kill threshold, set the environment variable `RAY_memory_usage_threshold` when starting Ray. To disable worker killing, set the environment variable `RAY_memory_monitor_refresh_ms` to zero.\n",
      "\u001b[2m\u001b[36m(launch_and_fit pid=44643)\u001b[0m 2023-05-10 11:01:07.149547: W tensorflow/compiler/tf2tensorrt/utils/py_utils.cc:38] TF-TRT Warning: Could not find TensorRT\n",
      "\u001b[2m\u001b[36m(launch_and_fit pid=44710)\u001b[0m 2023-05-10 11:01:07.148886: W tensorflow/compiler/tf2tensorrt/utils/py_utils.cc:38] TF-TRT Warning: Could not find TensorRT\n",
      "\u001b[2m\u001b[36m(launch_and_fit pid=44642)\u001b[0m 2023-05-10 11:01:08.072166: W tensorflow/compiler/tf2tensorrt/utils/py_utils.cc:38] TF-TRT Warning: Could not find TensorRT\n",
      "\u001b[2m\u001b[36m(launch_and_fit pid=44643)\u001b[0m 2023-05-10 11:01:09.464746: W tensorflow/tsl/framework/cpu_allocator_impl.cc:83] Allocation of 498570752 exceeds 10% of free system memory.\n",
      "\u001b[2m\u001b[36m(launch_and_fit pid=44710)\u001b[0m 2023-05-10 11:01:09.398965: W tensorflow/tsl/framework/cpu_allocator_impl.cc:83] Allocation of 498570752 exceeds 10% of free system memory.\n",
      "\u001b[2m\u001b[36m(launch_and_fit pid=44642)\u001b[0m 2023-05-10 11:01:11.842031: W tensorflow/tsl/framework/cpu_allocator_impl.cc:83] Allocation of 498570752 exceeds 10% of free system memory.\n",
      "\u001b[2m\u001b[36m(launch_and_fit pid=44643)\u001b[0m 2023-05-10 11:01:14.338523: W tensorflow/tsl/framework/cpu_allocator_impl.cc:83] Allocation of 498570752 exceeds 10% of free system memory.\n",
      "\u001b[2m\u001b[36m(launch_and_fit pid=44710)\u001b[0m 2023-05-10 11:01:15.028902: W tensorflow/tsl/framework/cpu_allocator_impl.cc:83] Allocation of 498570752 exceeds 10% of free system memory.\n"
     ]
    },
    {
     "name": "stdout",
     "output_type": "stream",
     "text": [
      "\u001b[2m\u001b[36m(launch_and_fit pid=44643)\u001b[0m Epoch 1/5\n",
      "\u001b[2m\u001b[36m(launch_and_fit pid=44710)\u001b[0m Epoch 1/5\n",
      "  1/160 [..............................] - ETA: 1:27 - loss: 0.5670 - accuracy: 0.7500\n",
      " 82/160 [==============>...............] - ETA: 0s - loss: 0.5438 - accuracy: 0.7213\n",
      "160/160 [==============================] - 1s 1ms/step - loss: 0.5350 - accuracy: 0.7353\n",
      "\u001b[2m\u001b[36m(launch_and_fit pid=44643)\u001b[0m Epoch 2/5\n",
      "  1/160 [..............................] - ETA: 0s - loss: 0.4692 - accuracy: 0.7500\n",
      " 57/160 [=========>....................] - ETA: 0s - loss: 0.5379 - accuracy: 0.7246\n",
      "  1/160 [..............................] - ETA: 1:36 - loss: 0.3826 - accuracy: 0.8500\n",
      "121/160 [=====================>........] - ETA: 0s - loss: 0.5243 - accuracy: 0.7405\n",
      " 67/160 [===========>..................] - ETA: 0s - loss: 0.5350 - accuracy: 0.7306\n",
      "149/160 [==========================>...] - ETA: 0s - loss: 0.5282 - accuracy: 0.7362\n",
      "160/160 [==============================] - 0s 2ms/step - loss: 0.5305 - accuracy: 0.7344\n",
      "\u001b[2m\u001b[36m(launch_and_fit pid=44643)\u001b[0m Epoch 3/5\n",
      " 29/160 [====>.........................] - ETA: 0s - loss: 0.4969 - accuracy: 0.7517\n",
      "122/160 [=====================>........] - ETA: 0s - loss: 0.5266 - accuracy: 0.7434\n",
      "152/160 [===========================>..] - ETA: 0s - loss: 0.5251 - accuracy: 0.7444\n",
      " 87/160 [===============>..............] - ETA: 0s - loss: 0.5233 - accuracy: 0.7316\n",
      "160/160 [==============================] - 1s 2ms/step - loss: 0.5266 - accuracy: 0.7425\n",
      "\u001b[2m\u001b[36m(launch_and_fit pid=44710)\u001b[0m Epoch 2/5\n",
      " 35/160 [=====>........................] - ETA: 0s - loss: 0.5298 - accuracy: 0.7543\n",
      "160/160 [==============================] - 0s 2ms/step - loss: 0.5273 - accuracy: 0.7325\n",
      "\u001b[2m\u001b[36m(launch_and_fit pid=44643)\u001b[0m Epoch 4/5\n",
      "  1/160 [..............................] - ETA: 0s - loss: 0.6513 - accuracy: 0.5500\n",
      " 99/160 [=================>............] - ETA: 0s - loss: 0.5155 - accuracy: 0.7576\n",
      " 65/160 [===========>..................] - ETA: 0s - loss: 0.5218 - accuracy: 0.7369\n",
      "160/160 [==============================] - 0s 2ms/step - loss: 0.5214 - accuracy: 0.7484\n",
      "\u001b[2m\u001b[36m(launch_and_fit pid=44710)\u001b[0m Epoch 3/5\n",
      "  1/160 [..............................] - ETA: 0s - loss: 0.6480 - accuracy: 0.7000\n",
      " 34/160 [=====>........................] - ETA: 0s - loss: 0.5038 - accuracy: 0.7559\n",
      "128/160 [=======================>......] - ETA: 0s - loss: 0.5289 - accuracy: 0.7309\n",
      " 91/160 [================>.............] - ETA: 0s - loss: 0.5090 - accuracy: 0.7571\n",
      "160/160 [==============================] - 0s 2ms/step - loss: 0.5244 - accuracy: 0.7350\n",
      "\u001b[2m\u001b[36m(launch_and_fit pid=44643)\u001b[0m Epoch 5/5\n",
      " 36/160 [=====>........................] - ETA: 0s - loss: 0.4956 - accuracy: 0.7694\n",
      "160/160 [==============================] - 0s 2ms/step - loss: 0.5202 - accuracy: 0.7491\n",
      "\u001b[2m\u001b[36m(launch_and_fit pid=44710)\u001b[0m Epoch 4/5\n",
      "  1/160 [..............................] - ETA: 0s - loss: 0.6111 - accuracy: 0.5500\n",
      " 93/160 [================>.............] - ETA: 0s - loss: 0.5139 - accuracy: 0.7462\n",
      " 52/160 [========>.....................] - ETA: 0s - loss: 0.4957 - accuracy: 0.7673\n",
      "160/160 [==============================] - 0s 2ms/step - loss: 0.5216 - accuracy: 0.7400\n",
      "124/160 [======================>.......] - ETA: 0s - loss: 0.5145 - accuracy: 0.7440\n",
      "160/160 [==============================] - 0s 2ms/step - loss: 0.5166 - accuracy: 0.7422\n",
      "\u001b[2m\u001b[36m(launch_and_fit pid=44710)\u001b[0m Epoch 5/5\n",
      " 43/160 [=======>......................] - ETA: 0s - loss: 0.5267 - accuracy: 0.7430\n",
      "122/160 [=====================>........] - ETA: 0s - loss: 0.5174 - accuracy: 0.7471\n",
      "160/160 [==============================] - 0s 1ms/step - loss: 0.5149 - accuracy: 0.7500\n",
      "\u001b[2m\u001b[36m(launch_and_fit pid=43801)\u001b[0m Epoch 1/5\n",
      "  1/160 [..............................] - ETA: 1:11 - loss: 0.3687 - accuracy: 0.9000\n",
      " 76/160 [=============>................] - ETA: 0s - loss: 0.5400 - accuracy: 0.7145\n",
      "121/160 [=====================>........] - ETA: 0s - loss: 0.5388 - accuracy: 0.7252\n",
      "160/160 [==============================] - 1s 1ms/step - loss: 0.5312 - accuracy: 0.7309\n",
      "\u001b[2m\u001b[36m(launch_and_fit pid=43801)\u001b[0m Epoch 2/5\n",
      " 53/160 [========>.....................] - ETA: 0s - loss: 0.5355 - accuracy: 0.7264\n",
      "160/160 [==============================] - 0s 1ms/step - loss: 0.5269 - accuracy: 0.7256\n",
      "\u001b[2m\u001b[36m(launch_and_fit pid=43801)\u001b[0m Epoch 3/5\n",
      "  1/160 [..............................] - ETA: 0s - loss: 0.4720 - accuracy: 0.8500\n",
      "108/160 [===================>..........] - ETA: 0s - loss: 0.5289 - accuracy: 0.7269\n",
      "160/160 [==============================] - 0s 985us/step - loss: 0.5214 - accuracy: 0.7403\n",
      "\u001b[2m\u001b[36m(launch_and_fit pid=43801)\u001b[0m Epoch 4/5\n",
      " 45/160 [=======>......................] - ETA: 0s - loss: 0.5136 - accuracy: 0.7378\n",
      "142/160 [=========================>....] - ETA: 0s - loss: 0.5158 - accuracy: 0.7430\n",
      "160/160 [==============================] - 0s 1ms/step - loss: 0.5194 - accuracy: 0.7394\n",
      "\u001b[2m\u001b[36m(launch_and_fit pid=43801)\u001b[0m Epoch 5/5\n",
      "  1/160 [..............................] - ETA: 0s - loss: 0.5238 - accuracy: 0.7000\n",
      " 96/160 [=================>............] - ETA: 0s - loss: 0.5213 - accuracy: 0.7385\n",
      "160/160 [==============================] - 0s 1ms/step - loss: 0.5172 - accuracy: 0.7406\n"
     ]
    },
    {
     "name": "stderr",
     "output_type": "stream",
     "text": [
      "DEBUG flwr 2023-05-10 11:01:23,039 | server.py:229 | fit_round 7 received 5 results and 0 failures\n",
      "DEBUG:flwr:fit_round 7 received 5 results and 0 failures\n",
      "DEBUG flwr 2023-05-10 11:01:34,547 | server.py:165 | evaluate_round 7: strategy sampled 5 clients (out of 5)\n",
      "DEBUG:flwr:evaluate_round 7: strategy sampled 5 clients (out of 5)\n"
     ]
    },
    {
     "name": "stdout",
     "output_type": "stream",
     "text": [
      "1/1 [==============================] - 0s 318ms/step - loss: 0.5557 - accuracy: 0.6667\n"
     ]
    },
    {
     "name": "stderr",
     "output_type": "stream",
     "text": [
      "\u001b[2m\u001b[36m(launch_and_evaluate pid=45018)\u001b[0m 2023-05-10 11:01:40.170306: W tensorflow/compiler/tf2tensorrt/utils/py_utils.cc:38] TF-TRT Warning: Could not find TensorRT\n",
      "\u001b[2m\u001b[36m(launch_and_evaluate pid=45017)\u001b[0m 2023-05-10 11:01:40.170306: W tensorflow/compiler/tf2tensorrt/utils/py_utils.cc:38] TF-TRT Warning: Could not find TensorRT\n"
     ]
    },
    {
     "name": "stdout",
     "output_type": "stream",
     "text": [
      "1/1 [==============================] - 0s 128ms/step - loss: 0.5097 - accuracy: 0.7500\n"
     ]
    },
    {
     "name": "stderr",
     "output_type": "stream",
     "text": [
      "\u001b[2m\u001b[36m(launch_and_evaluate pid=45018)\u001b[0m 2023-05-10 11:01:42.284657: W tensorflow/tsl/framework/cpu_allocator_impl.cc:83] Allocation of 498570752 exceeds 10% of free system memory.\n",
      "\u001b[2m\u001b[36m(launch_and_evaluate pid=45017)\u001b[0m 2023-05-10 11:01:42.269153: W tensorflow/tsl/framework/cpu_allocator_impl.cc:83] Allocation of 498570752 exceeds 10% of free system memory.\n",
      "\u001b[2m\u001b[36m(launch_and_evaluate pid=45017)\u001b[0m 2023-05-10 11:01:44.366265: W tensorflow/tsl/framework/cpu_allocator_impl.cc:83] Allocation of 498570752 exceeds 10% of free system memory.\n",
      "\u001b[2m\u001b[36m(launch_and_evaluate pid=45018)\u001b[0m 2023-05-10 11:01:44.797180: W tensorflow/tsl/framework/cpu_allocator_impl.cc:83] Allocation of 498570752 exceeds 10% of free system memory.\n"
     ]
    },
    {
     "name": "stdout",
     "output_type": "stream",
     "text": [
      "1/1 [==============================] - 0s 213ms/step - loss: 0.3807 - accuracy: 0.8571\n",
      "1/1 [==============================] - 0s 138ms/step - loss: 0.3520 - accuracy: 0.7778\n"
     ]
    },
    {
     "name": "stderr",
     "output_type": "stream",
     "text": [
      "DEBUG flwr 2023-05-10 11:01:46,451 | server.py:179 | evaluate_round 7 received 5 results and 0 failures\n",
      "DEBUG:flwr:evaluate_round 7 received 5 results and 0 failures\n",
      "DEBUG flwr 2023-05-10 11:01:46,453 | server.py:215 | fit_round 8: strategy sampled 5 clients (out of 5)\n",
      "DEBUG:flwr:fit_round 8: strategy sampled 5 clients (out of 5)\n",
      "\u001b[2m\u001b[36m(launch_and_evaluate pid=43765)\u001b[0m WARNING:tensorflow:5 out of the last 5 calls to <function Model.make_test_function.<locals>.test_function at 0x7f1bc2367d00> triggered tf.function retracing. Tracing is expensive and the excessive number of tracings could be due to (1) creating @tf.function repeatedly in a loop, (2) passing tensors with different shapes, (3) passing Python objects instead of tensors. For (1), please define your @tf.function outside of the loop. For (2), @tf.function has reduce_retracing=True option that can avoid unnecessary retracing. For (3), please refer to https://www.tensorflow.org/guide/function#controlling_retracing and https://www.tensorflow.org/api_docs/python/tf/function for  more details.\n",
      "\u001b[2m\u001b[36m(launch_and_evaluate pid=43765)\u001b[0m WARNING:tensorflow:5 out of the last 5 calls to <function Model.make_test_function.<locals>.test_function at 0x7f1bc2367d00> triggered tf.function retracing. Tracing is expensive and the excessive number of tracings could be due to (1) creating @tf.function repeatedly in a loop, (2) passing tensors with different shapes, (3) passing Python objects instead of tensors. For (1), please define your @tf.function outside of the loop. For (2), @tf.function has reduce_retracing=True option that can avoid unnecessary retracing. For (3), please refer to https://www.tensorflow.org/guide/function#controlling_retracing and https://www.tensorflow.org/api_docs/python/tf/function for  more details.\n"
     ]
    },
    {
     "name": "stdout",
     "output_type": "stream",
     "text": [
      "1/1 [==============================] - 0s 171ms/step - loss: 0.2668 - accuracy: 1.0000\n"
     ]
    },
    {
     "name": "stderr",
     "output_type": "stream",
     "text": [
      "\u001b[2m\u001b[36m(launch_and_fit pid=45018)\u001b[0m 2023-05-10 11:01:49.060874: W tensorflow/tsl/framework/cpu_allocator_impl.cc:83] Allocation of 498570752 exceeds 10% of free system memory.\n",
      "\u001b[2m\u001b[36m(launch_and_fit pid=45017)\u001b[0m 2023-05-10 11:01:49.285951: W tensorflow/tsl/framework/cpu_allocator_impl.cc:83] Allocation of 498570752 exceeds 10% of free system memory.\n",
      "\u001b[2m\u001b[36m(launch_and_fit pid=45018)\u001b[0m 2023-05-10 11:01:52.490275: W tensorflow/tsl/framework/cpu_allocator_impl.cc:83] Allocation of 498570752 exceeds 10% of free system memory.\n"
     ]
    },
    {
     "name": "stdout",
     "output_type": "stream",
     "text": [
      "\u001b[2m\u001b[36m(launch_and_fit pid=43765)\u001b[0m Epoch 1/5\n",
      "\u001b[2m\u001b[36m(launch_and_fit pid=45018)\u001b[0m Epoch 1/5\n",
      " 30/160 [====>.........................] - ETA: 0s - loss: 0.4894 - accuracy: 0.7600  \n",
      "  1/160 [..............................] - ETA: 2:36 - loss: 0.7335 - accuracy: 0.5500\n",
      " 42/160 [======>.......................] - ETA: 0s - loss: 0.5437 - accuracy: 0.7286\n",
      " 85/160 [==============>...............] - ETA: 0s - loss: 0.5040 - accuracy: 0.7571\n",
      " 98/160 [=================>............] - ETA: 0s - loss: 0.5251 - accuracy: 0.7378\n",
      "144/160 [==========================>...] - ETA: 0s - loss: 0.5130 - accuracy: 0.7441\n",
      "160/160 [==============================] - 1s 2ms/step - loss: 0.5131 - accuracy: 0.7466\n",
      "\u001b[2m\u001b[36m(launch_and_fit pid=45018)\u001b[0m Epoch 2/5\n",
      "  1/160 [..............................] - ETA: 0s - loss: 0.5999 - accuracy: 0.7000\n",
      "160/160 [==============================] - 1s 2ms/step - loss: 0.5258 - accuracy: 0.7419\n",
      "\u001b[2m\u001b[36m(launch_and_fit pid=43765)\u001b[0m Epoch 2/5\n",
      "  1/160 [..............................] - ETA: 0s - loss: 0.5467 - accuracy: 0.7000\n",
      " 60/160 [==========>...................] - ETA: 0s - loss: 0.5107 - accuracy: 0.7425\n",
      " 53/160 [========>.....................] - ETA: 0s - loss: 0.4959 - accuracy: 0.7642\n",
      "124/160 [======================>.......] - ETA: 0s - loss: 0.5040 - accuracy: 0.7472\n",
      " 58/160 [=========>....................] - ETA: 0s - loss: 0.5024 - accuracy: 0.7595\n",
      "160/160 [==============================] - 0s 2ms/step - loss: 0.5075 - accuracy: 0.7459\n",
      "\u001b[2m\u001b[36m(launch_and_fit pid=45018)\u001b[0m Epoch 3/5\n",
      " 36/160 [=====>........................] - ETA: 0s - loss: 0.5012 - accuracy: 0.7542\n",
      " 89/160 [===============>..............] - ETA: 0s - loss: 0.5095 - accuracy: 0.7528\n",
      "145/160 [==========================>...] - ETA: 0s - loss: 0.5197 - accuracy: 0.7479\n",
      " 97/160 [=================>............] - ETA: 0s - loss: 0.4988 - accuracy: 0.7593\n",
      "160/160 [==============================] - 0s 2ms/step - loss: 0.5204 - accuracy: 0.7462\n",
      "\u001b[2m\u001b[36m(launch_and_fit pid=43765)\u001b[0m Epoch 3/5\n",
      " 30/160 [====>.........................] - ETA: 0s - loss: 0.5135 - accuracy: 0.7667\n",
      "160/160 [==============================] - 0s 2ms/step - loss: 0.5042 - accuracy: 0.7509\n",
      "\u001b[2m\u001b[36m(launch_and_fit pid=45018)\u001b[0m Epoch 4/5\n",
      "  1/160 [..............................] - ETA: 0s - loss: 0.7058 - accuracy: 0.6500\n",
      " 98/160 [=================>............] - ETA: 0s - loss: 0.5138 - accuracy: 0.7520\n",
      " 77/160 [=============>................] - ETA: 0s - loss: 0.5021 - accuracy: 0.7429\n",
      "138/160 [========================>.....] - ETA: 0s - loss: 0.5122 - accuracy: 0.7540\n",
      "160/160 [==============================] - 0s 2ms/step - loss: 0.5169 - accuracy: 0.7497\n",
      "\u001b[2m\u001b[36m(launch_and_fit pid=43765)\u001b[0m Epoch 4/5\n",
      " 34/160 [=====>........................] - ETA: 0s - loss: 0.5206 - accuracy: 0.7441\n",
      "160/160 [==============================] - 0s 2ms/step - loss: 0.5014 - accuracy: 0.7481\n",
      "\u001b[2m\u001b[36m(launch_and_fit pid=45018)\u001b[0m Epoch 5/5\n",
      "  1/160 [..............................] - ETA: 0s - loss: 0.6767 - accuracy: 0.6500\n",
      "102/160 [==================>...........] - ETA: 0s - loss: 0.5127 - accuracy: 0.7471\n",
      " 66/160 [===========>..................] - ETA: 0s - loss: 0.4748 - accuracy: 0.7682\n",
      "160/160 [==============================] - 0s 2ms/step - loss: 0.5132 - accuracy: 0.7506\n",
      "\u001b[2m\u001b[36m(launch_and_fit pid=43765)\u001b[0m Epoch 5/5\n",
      "  1/160 [..............................] - ETA: 0s - loss: 0.6256 - accuracy: 0.6000\n",
      "120/160 [=====================>........] - ETA: 0s - loss: 0.4980 - accuracy: 0.7533\n",
      " 64/160 [===========>..................] - ETA: 0s - loss: 0.5062 - accuracy: 0.7563\n",
      "160/160 [==============================] - 0s 2ms/step - loss: 0.4991 - accuracy: 0.7522\n",
      "109/160 [===================>..........] - ETA: 0s - loss: 0.5127 - accuracy: 0.7491\n",
      "160/160 [==============================] - 0s 2ms/step - loss: 0.5128 - accuracy: 0.7478\n"
     ]
    },
    {
     "name": "stderr",
     "output_type": "stream",
     "text": [
      "\u001b[2m\u001b[36m(launch_and_fit pid=45426)\u001b[0m 2023-05-10 11:01:56.567936: W tensorflow/compiler/tf2tensorrt/utils/py_utils.cc:38] TF-TRT Warning: Could not find TensorRT\n",
      "\u001b[2m\u001b[36m(launch_and_fit pid=45425)\u001b[0m 2023-05-10 11:01:56.567936: W tensorflow/compiler/tf2tensorrt/utils/py_utils.cc:38] TF-TRT Warning: Could not find TensorRT\n",
      "\u001b[2m\u001b[36m(launch_and_fit pid=45426)\u001b[0m 2023-05-10 11:02:01.276537: W tensorflow/tsl/framework/cpu_allocator_impl.cc:83] Allocation of 498570752 exceeds 10% of free system memory.\n",
      "\u001b[2m\u001b[36m(launch_and_fit pid=45425)\u001b[0m 2023-05-10 11:02:01.266553: W tensorflow/tsl/framework/cpu_allocator_impl.cc:83] Allocation of 498570752 exceeds 10% of free system memory.\n",
      "\u001b[2m\u001b[36m(launch_and_fit pid=45571)\u001b[0m 2023-05-10 11:02:01.893843: W tensorflow/compiler/tf2tensorrt/utils/py_utils.cc:38] TF-TRT Warning: Could not find TensorRT\n",
      "\u001b[2m\u001b[33m(raylet)\u001b[0m [2023-05-10 11:02:04,839 E 37953 37953] (raylet) node_manager.cc:3097: 6 Workers (tasks / actors) killed due to memory pressure (OOM), 0 Workers crashed due to other reasons at node (ID: aa0acf9ee9e32ddf668348d33a329ec3aa72650aa672c670cc93ed24, IP: 172.25.8.82) over the last time period. To see more information about the Workers killed on this node, use `ray logs raylet.out -ip 172.25.8.82`\n",
      "\u001b[2m\u001b[33m(raylet)\u001b[0m \n",
      "\u001b[2m\u001b[33m(raylet)\u001b[0m Refer to the documentation on how to address the out of memory issue: https://docs.ray.io/en/latest/ray-core/scheduling/ray-oom-prevention.html. Consider provisioning more memory on this node or reducing task parallelism by requesting more CPUs per task. To adjust the kill threshold, set the environment variable `RAY_memory_usage_threshold` when starting Ray. To disable worker killing, set the environment variable `RAY_memory_monitor_refresh_ms` to zero.\n",
      "\u001b[2m\u001b[36m(launch_and_fit pid=45425)\u001b[0m 2023-05-10 11:02:05.961312: W tensorflow/tsl/framework/cpu_allocator_impl.cc:83] Allocation of 498570752 exceeds 10% of free system memory.\n",
      "\u001b[2m\u001b[36m(launch_and_fit pid=45571)\u001b[0m 2023-05-10 11:02:07.858649: W tensorflow/tsl/framework/cpu_allocator_impl.cc:83] Allocation of 498570752 exceeds 10% of free system memory.\n",
      "\u001b[2m\u001b[36m(launch_and_fit pid=45426)\u001b[0m 2023-05-10 11:02:07.923224: W tensorflow/tsl/framework/cpu_allocator_impl.cc:83] Allocation of 498570752 exceeds 10% of free system memory.\n"
     ]
    },
    {
     "name": "stdout",
     "output_type": "stream",
     "text": [
      "\u001b[2m\u001b[36m(launch_and_fit pid=45425)\u001b[0m Epoch 1/5\n",
      "\u001b[2m\u001b[36m(launch_and_fit pid=45426)\u001b[0m Epoch 1/5\n",
      " 45/160 [=======>......................] - ETA: 0s - loss: 0.5546 - accuracy: 0.7200  \n",
      "135/160 [========================>.....] - ETA: 0s - loss: 0.5377 - accuracy: 0.7285\n",
      " 41/160 [======>.......................] - ETA: 0s - loss: 0.5118 - accuracy: 0.7463  \n",
      "160/160 [==============================] - 1s 1ms/step - loss: 0.5338 - accuracy: 0.7322\n",
      "\u001b[2m\u001b[36m(launch_and_fit pid=45425)\u001b[0m Epoch 2/5\n",
      " 41/160 [======>.......................] - ETA: 0s - loss: 0.5023 - accuracy: 0.7402\n",
      "121/160 [=====================>........] - ETA: 0s - loss: 0.5308 - accuracy: 0.7248\n",
      "160/160 [==============================] - 0s 1ms/step - loss: 0.5293 - accuracy: 0.7350\n",
      "\u001b[2m\u001b[36m(launch_and_fit pid=45425)\u001b[0m Epoch 3/5\n",
      "  1/160 [..............................] - ETA: 0s - loss: 0.5171 - accuracy: 0.7000\n",
      "160/160 [==============================] - 1s 1ms/step - loss: 0.5311 - accuracy: 0.7237\n",
      "\u001b[2m\u001b[36m(launch_and_fit pid=45426)\u001b[0m Epoch 2/5\n",
      "  1/160 [..............................] - ETA: 0s - loss: 0.3329 - accuracy: 0.9000\n",
      " 80/160 [==============>...............] - ETA: 0s - loss: 0.5364 - accuracy: 0.7250\n",
      " 85/160 [==============>...............] - ETA: 0s - loss: 0.5234 - accuracy: 0.7424\n",
      "160/160 [==============================] - 0s 1ms/step - loss: 0.5248 - accuracy: 0.7356\n",
      "\u001b[2m\u001b[36m(launch_and_fit pid=45426)\u001b[0m Epoch 3/5\n",
      "  1/160 [..............................] - ETA: 0s - loss: 0.3040 - accuracy: 0.9000\n",
      "160/160 [==============================] - 0s 1ms/step - loss: 0.5247 - accuracy: 0.7387\n",
      "\u001b[2m\u001b[36m(launch_and_fit pid=45425)\u001b[0m Epoch 4/5\n",
      "  1/160 [..............................] - ETA: 0s - loss: 0.5417 - accuracy: 0.6500\n",
      " 66/160 [===========>..................] - ETA: 0s - loss: 0.5328 - accuracy: 0.7356\n",
      " 72/160 [============>.................] - ETA: 0s - loss: 0.5296 - accuracy: 0.7361\n",
      "125/160 [======================>.......] - ETA: 0s - loss: 0.5239 - accuracy: 0.7356\n",
      "131/160 [=======================>......] - ETA: 0s - loss: 0.5211 - accuracy: 0.7382\n",
      "160/160 [==============================] - 0s 2ms/step - loss: 0.5203 - accuracy: 0.7419\n",
      "\u001b[2m\u001b[36m(launch_and_fit pid=45426)\u001b[0m Epoch 4/5\n",
      " 33/160 [=====>........................] - ETA: 0s - loss: 0.4686 - accuracy: 0.7848\n",
      "160/160 [==============================] - 0s 2ms/step - loss: 0.5214 - accuracy: 0.7378\n",
      "\u001b[2m\u001b[36m(launch_and_fit pid=45425)\u001b[0m Epoch 5/5\n",
      " 34/160 [=====>........................] - ETA: 0s - loss: 0.5051 - accuracy: 0.7544\n",
      " 68/160 [===========>..................] - ETA: 0s - loss: 0.5052 - accuracy: 0.7603\n",
      " 99/160 [=================>............] - ETA: 0s - loss: 0.5076 - accuracy: 0.7485\n",
      "134/160 [========================>.....] - ETA: 0s - loss: 0.5118 - accuracy: 0.7522\n",
      "160/160 [==============================] - 0s 2ms/step - loss: 0.5184 - accuracy: 0.7397\n",
      "\u001b[2m\u001b[36m(launch_and_fit pid=45426)\u001b[0m Epoch 5/5\n",
      "  1/160 [..............................] - ETA: 0s - loss: 0.3881 - accuracy: 0.9500\n",
      "160/160 [==============================] - 0s 2ms/step - loss: 0.5192 - accuracy: 0.7431\n",
      " 84/160 [==============>...............] - ETA: 0s - loss: 0.5340 - accuracy: 0.7286\n",
      "139/160 [=========================>....] - ETA: 0s - loss: 0.5187 - accuracy: 0.7417\n",
      "160/160 [==============================] - 0s 2ms/step - loss: 0.5128 - accuracy: 0.7478\n"
     ]
    },
    {
     "name": "stderr",
     "output_type": "stream",
     "text": [
      "\u001b[2m\u001b[36m(launch_and_fit pid=45571)\u001b[0m 2023-05-10 11:02:10.504855: W tensorflow/tsl/framework/cpu_allocator_impl.cc:83] Allocation of 498570752 exceeds 10% of free system memory.\n"
     ]
    },
    {
     "name": "stdout",
     "output_type": "stream",
     "text": [
      "\u001b[2m\u001b[36m(launch_and_fit pid=45571)\u001b[0m Epoch 1/5\n",
      " 44/160 [=======>......................] - ETA: 0s - loss: 0.5416 - accuracy: 0.7318  \n",
      "122/160 [=====================>........] - ETA: 0s - loss: 0.5290 - accuracy: 0.7324\n",
      "160/160 [==============================] - 1s 1ms/step - loss: 0.5326 - accuracy: 0.7259\n",
      "\u001b[2m\u001b[36m(launch_and_fit pid=45571)\u001b[0m Epoch 2/5\n",
      " 33/160 [=====>........................] - ETA: 0s - loss: 0.5203 - accuracy: 0.7455\n",
      "148/160 [==========================>...] - ETA: 0s - loss: 0.5279 - accuracy: 0.7307\n",
      "160/160 [==============================] - 0s 1ms/step - loss: 0.5288 - accuracy: 0.7300\n",
      "\u001b[2m\u001b[36m(launch_and_fit pid=45571)\u001b[0m Epoch 3/5\n",
      " 44/160 [=======>......................] - ETA: 0s - loss: 0.5107 - accuracy: 0.7420\n",
      " 81/160 [==============>...............] - ETA: 0s - loss: 0.5302 - accuracy: 0.7247\n",
      "160/160 [==============================] - 0s 1ms/step - loss: 0.5249 - accuracy: 0.7312\n",
      "\u001b[2m\u001b[36m(launch_and_fit pid=45571)\u001b[0m Epoch 4/5\n",
      "  1/160 [..............................] - ETA: 0s - loss: 0.5317 - accuracy: 0.6500\n",
      " 94/160 [================>.............] - ETA: 0s - loss: 0.5117 - accuracy: 0.7362\n",
      "160/160 [==============================] - 0s 1ms/step - loss: 0.5217 - accuracy: 0.7350\n",
      "\u001b[2m\u001b[36m(launch_and_fit pid=45571)\u001b[0m Epoch 5/5\n",
      "  1/160 [..............................] - ETA: 0s - loss: 0.5853 - accuracy: 0.7000\n",
      " 87/160 [===============>..............] - ETA: 0s - loss: 0.5174 - accuracy: 0.7328\n",
      "124/160 [======================>.......] - ETA: 0s - loss: 0.5190 - accuracy: 0.7290\n",
      "160/160 [==============================] - 0s 1ms/step - loss: 0.5185 - accuracy: 0.7341\n"
     ]
    },
    {
     "name": "stderr",
     "output_type": "stream",
     "text": [
      "\u001b[2m\u001b[36m(launch_and_fit pid=45426)\u001b[0m 2023-05-10 11:02:16.097644: W tensorflow/tsl/framework/cpu_allocator_impl.cc:83] Allocation of 498570752 exceeds 10% of free system memory.\n",
      "\u001b[2m\u001b[36m(launch_and_fit pid=45426)\u001b[0m 2023-05-10 11:02:16.802505: W tensorflow/tsl/framework/cpu_allocator_impl.cc:83] Allocation of 498570752 exceeds 10% of free system memory.\n"
     ]
    },
    {
     "name": "stdout",
     "output_type": "stream",
     "text": [
      "\u001b[2m\u001b[36m(launch_and_fit pid=45426)\u001b[0m Epoch 1/5\n",
      "  1/160 [..............................] - ETA: 1:48 - loss: 0.4611 - accuracy: 0.7500\n",
      "104/160 [==================>...........] - ETA: 0s - loss: 0.5363 - accuracy: 0.7341\n",
      "160/160 [==============================] - 1s 955us/step - loss: 0.5329 - accuracy: 0.7322\n",
      "\u001b[2m\u001b[36m(launch_and_fit pid=45426)\u001b[0m Epoch 2/5\n",
      " 57/160 [=========>....................] - ETA: 0s - loss: 0.5334 - accuracy: 0.7254\n",
      "160/160 [==============================] - 0s 969us/step - loss: 0.5280 - accuracy: 0.7287\n",
      "\u001b[2m\u001b[36m(launch_and_fit pid=45426)\u001b[0m Epoch 3/5\n",
      "  1/160 [..............................] - ETA: 0s - loss: 0.4511 - accuracy: 0.8500\n",
      " 98/160 [=================>............] - ETA: 0s - loss: 0.5283 - accuracy: 0.7327\n",
      "160/160 [==============================] - 0s 1ms/step - loss: 0.5238 - accuracy: 0.7341\n",
      "\u001b[2m\u001b[36m(launch_and_fit pid=45426)\u001b[0m Epoch 4/5\n",
      " 54/160 [=========>....................] - ETA: 0s - loss: 0.5191 - accuracy: 0.7287\n",
      "160/160 [==============================] - 0s 948us/step - loss: 0.5223 - accuracy: 0.7334\n",
      "\u001b[2m\u001b[36m(launch_and_fit pid=45426)\u001b[0m Epoch 5/5\n",
      "  1/160 [..............................] - ETA: 0s - loss: 0.5369 - accuracy: 0.7500\n",
      " 97/160 [=================>............] - ETA: 0s - loss: 0.5157 - accuracy: 0.7428\n",
      "160/160 [==============================] - 0s 1ms/step - loss: 0.5183 - accuracy: 0.7391\n"
     ]
    },
    {
     "name": "stderr",
     "output_type": "stream",
     "text": [
      "DEBUG flwr 2023-05-10 11:02:19,851 | server.py:229 | fit_round 8 received 5 results and 0 failures\n",
      "DEBUG:flwr:fit_round 8 received 5 results and 0 failures\n",
      "DEBUG flwr 2023-05-10 11:02:33,162 | server.py:165 | evaluate_round 8: strategy sampled 5 clients (out of 5)\n",
      "DEBUG:flwr:evaluate_round 8: strategy sampled 5 clients (out of 5)\n",
      "\u001b[2m\u001b[36m(launch_and_evaluate pid=45425)\u001b[0m 2023-05-10 11:02:34.588822: W tensorflow/tsl/framework/cpu_allocator_impl.cc:83] Allocation of 498570752 exceeds 10% of free system memory.\n",
      "\u001b[2m\u001b[36m(launch_and_evaluate pid=45018)\u001b[0m 2023-05-10 11:02:35.321859: W tensorflow/tsl/framework/cpu_allocator_impl.cc:83] Allocation of 498570752 exceeds 10% of free system memory.\n",
      "\u001b[2m\u001b[36m(launch_and_evaluate pid=45425)\u001b[0m 2023-05-10 11:02:35.566376: W tensorflow/tsl/framework/cpu_allocator_impl.cc:83] Allocation of 498570752 exceeds 10% of free system memory.\n"
     ]
    },
    {
     "name": "stdout",
     "output_type": "stream",
     "text": [
      "1/1 [==============================] - 0s 249ms/step - loss: 0.5504 - accuracy: 0.8333\n",
      "1/1 [==============================] - 0s 145ms/step - loss: 0.5122 - accuracy: 0.7500\n",
      "1/1 [==============================] - 0s 170ms/step - loss: 0.3465 - accuracy: 0.7778\n"
     ]
    },
    {
     "name": "stderr",
     "output_type": "stream",
     "text": [
      "\u001b[2m\u001b[36m(launch_and_evaluate pid=43765)\u001b[0m WARNING:tensorflow:6 out of the last 6 calls to <function Model.make_test_function.<locals>.test_function at 0x7f1bc2b9bd00> triggered tf.function retracing. Tracing is expensive and the excessive number of tracings could be due to (1) creating @tf.function repeatedly in a loop, (2) passing tensors with different shapes, (3) passing Python objects instead of tensors. For (1), please define your @tf.function outside of the loop. For (2), @tf.function has reduce_retracing=True option that can avoid unnecessary retracing. For (3), please refer to https://www.tensorflow.org/guide/function#controlling_retracing and https://www.tensorflow.org/api_docs/python/tf/function for  more details.\n",
      "\u001b[2m\u001b[36m(launch_and_evaluate pid=43765)\u001b[0m WARNING:tensorflow:6 out of the last 6 calls to <function Model.make_test_function.<locals>.test_function at 0x7f1bc2b9bd00> triggered tf.function retracing. Tracing is expensive and the excessive number of tracings could be due to (1) creating @tf.function repeatedly in a loop, (2) passing tensors with different shapes, (3) passing Python objects instead of tensors. For (1), please define your @tf.function outside of the loop. For (2), @tf.function has reduce_retracing=True option that can avoid unnecessary retracing. For (3), please refer to https://www.tensorflow.org/guide/function#controlling_retracing and https://www.tensorflow.org/api_docs/python/tf/function for  more details.\n",
      "\u001b[2m\u001b[36m(launch_and_evaluate pid=45570)\u001b[0m 2023-05-10 11:02:37.890313: W tensorflow/compiler/tf2tensorrt/utils/py_utils.cc:38] TF-TRT Warning: Could not find TensorRT\n",
      "\u001b[2m\u001b[36m(launch_and_evaluate pid=45570)\u001b[0m 2023-05-10 11:02:39.812926: W tensorflow/tsl/framework/cpu_allocator_impl.cc:83] Allocation of 498570752 exceeds 10% of free system memory.\n"
     ]
    },
    {
     "name": "stdout",
     "output_type": "stream",
     "text": [
      "1/1 [==============================] - 0s 130ms/step - loss: 0.3835 - accuracy: 0.7143\n"
     ]
    },
    {
     "name": "stderr",
     "output_type": "stream",
     "text": [
      "\u001b[2m\u001b[36m(launch_and_evaluate pid=45570)\u001b[0m 2023-05-10 11:02:41.646293: W tensorflow/tsl/framework/cpu_allocator_impl.cc:83] Allocation of 498570752 exceeds 10% of free system memory.\n",
      "DEBUG flwr 2023-05-10 11:02:42,154 | server.py:179 | evaluate_round 8 received 5 results and 0 failures\n",
      "DEBUG:flwr:evaluate_round 8 received 5 results and 0 failures\n",
      "DEBUG flwr 2023-05-10 11:02:42,156 | server.py:215 | fit_round 9: strategy sampled 5 clients (out of 5)\n",
      "DEBUG:flwr:fit_round 9: strategy sampled 5 clients (out of 5)\n"
     ]
    },
    {
     "name": "stdout",
     "output_type": "stream",
     "text": [
      "1/1 [==============================] - 0s 138ms/step - loss: 0.2647 - accuracy: 1.0000\n"
     ]
    },
    {
     "name": "stderr",
     "output_type": "stream",
     "text": [
      "\u001b[2m\u001b[36m(launch_and_fit pid=45570)\u001b[0m 2023-05-10 11:02:43.584936: W tensorflow/tsl/framework/cpu_allocator_impl.cc:83] Allocation of 498570752 exceeds 10% of free system memory.\n",
      "\u001b[2m\u001b[36m(launch_and_fit pid=45570)\u001b[0m 2023-05-10 11:02:49.429072: W tensorflow/tsl/framework/cpu_allocator_impl.cc:83] Allocation of 498570752 exceeds 10% of free system memory.\n"
     ]
    },
    {
     "name": "stdout",
     "output_type": "stream",
     "text": [
      "\u001b[2m\u001b[36m(launch_and_fit pid=45570)\u001b[0m Epoch 1/5\n",
      "\u001b[2m\u001b[36m(launch_and_fit pid=45018)\u001b[0m Epoch 1/5\n",
      "  1/160 [..............................] - ETA: 1:36 - loss: 0.6261 - accuracy: 0.7500\n",
      "\u001b[2m\u001b[36m(launch_and_fit pid=43765)\u001b[0m Epoch 1/5\n",
      " 81/160 [==============>...............] - ETA: 0s - loss: 0.5403 - accuracy: 0.7241\n",
      "160/160 [==============================] - 1s 1ms/step - loss: 0.5323 - accuracy: 0.7350\n",
      "\u001b[2m\u001b[36m(launch_and_fit pid=45570)\u001b[0m Epoch 2/5\n",
      " 42/160 [======>.......................] - ETA: 0s - loss: 0.5210 - accuracy: 0.7452\n",
      "114/160 [====================>.........] - ETA: 0s - loss: 0.5273 - accuracy: 0.7390\n",
      " 29/160 [====>.........................] - ETA: 0s - loss: 0.5181 - accuracy: 0.7431  \n",
      "160/160 [==============================] - 0s 1ms/step - loss: 0.5262 - accuracy: 0.7384\n",
      "\u001b[2m\u001b[36m(launch_and_fit pid=45570)\u001b[0m Epoch 3/5\n",
      "  1/160 [..............................] - ETA: 0s - loss: 0.5581 - accuracy: 0.6500\n",
      " 95/160 [================>.............] - ETA: 0s - loss: 0.5281 - accuracy: 0.7458\n",
      " 69/160 [===========>..................] - ETA: 0s - loss: 0.5214 - accuracy: 0.7174\n",
      " 96/160 [=================>............] - ETA: 0s - loss: 0.5240 - accuracy: 0.7339\n",
      "160/160 [==============================] - 1s 2ms/step - loss: 0.5226 - accuracy: 0.7450\n",
      "\u001b[2m\u001b[36m(launch_and_fit pid=45018)\u001b[0m Epoch 2/5\n",
      "  1/160 [..............................] - ETA: 0s - loss: 0.5150 - accuracy: 0.8000\n",
      "144/160 [==========================>...] - ETA: 0s - loss: 0.5286 - accuracy: 0.7281\n",
      " 71/160 [============>.................] - ETA: 0s - loss: 0.5161 - accuracy: 0.7437\n",
      "160/160 [==============================] - 0s 2ms/step - loss: 0.5239 - accuracy: 0.7362\n",
      "\u001b[2m\u001b[36m(launch_and_fit pid=45570)\u001b[0m Epoch 4/5\n",
      " 26/160 [===>..........................] - ETA: 0s - loss: 0.5100 - accuracy: 0.7538\n",
      "130/160 [=======================>......] - ETA: 0s - loss: 0.5179 - accuracy: 0.7408\n",
      " 82/160 [==============>...............] - ETA: 0s - loss: 0.5232 - accuracy: 0.7451\n",
      "112/160 [====================>.........] - ETA: 0s - loss: 0.5189 - accuracy: 0.7433\n",
      " 25/160 [===>..........................] - ETA: 0s - loss: 0.5302 - accuracy: 0.7360  \n",
      "160/160 [==============================] - 0s 3ms/step - loss: 0.5182 - accuracy: 0.7425\n",
      "\u001b[2m\u001b[36m(launch_and_fit pid=45018)\u001b[0m Epoch 3/5\n",
      " 30/160 [====>.........................] - ETA: 0s - loss: 0.5135 - accuracy: 0.7567\n",
      "160/160 [==============================] - 0s 3ms/step - loss: 0.5192 - accuracy: 0.7419\n",
      "\u001b[2m\u001b[36m(launch_and_fit pid=45570)\u001b[0m Epoch 5/5\n",
      "  1/160 [..............................] - ETA: 0s - loss: 0.6379 - accuracy: 0.6500\n",
      " 75/160 [=============>................] - ETA: 0s - loss: 0.5413 - accuracy: 0.7213\n",
      " 81/160 [==============>...............] - ETA: 0s - loss: 0.5054 - accuracy: 0.7543\n",
      " 52/160 [========>.....................] - ETA: 0s - loss: 0.5188 - accuracy: 0.7308\n",
      "137/160 [========================>.....] - ETA: 0s - loss: 0.5305 - accuracy: 0.7281\n",
      "160/160 [==============================] - 0s 2ms/step - loss: 0.5149 - accuracy: 0.7491\n",
      "\u001b[2m\u001b[36m(launch_and_fit pid=45018)\u001b[0m Epoch 4/5\n",
      "  1/160 [..............................] - ETA: 0s - loss: 0.4279 - accuracy: 0.9000\n",
      "114/160 [====================>.........] - ETA: 0s - loss: 0.5203 - accuracy: 0.7417\n",
      "160/160 [==============================] - 1s 2ms/step - loss: 0.5311 - accuracy: 0.7275\n",
      "\u001b[2m\u001b[36m(launch_and_fit pid=43765)\u001b[0m Epoch 2/5\n",
      " 22/160 [===>..........................] - ETA: 0s - loss: 0.5255 - accuracy: 0.7386\n",
      " 42/160 [======>.......................] - ETA: 0s - loss: 0.5152 - accuracy: 0.7429\n",
      "160/160 [==============================] - 0s 2ms/step - loss: 0.5172 - accuracy: 0.7406\n",
      " 73/160 [============>.................] - ETA: 0s - loss: 0.5293 - accuracy: 0.7308\n",
      "100/160 [=================>............] - ETA: 0s - loss: 0.5194 - accuracy: 0.7445\n",
      " 96/160 [=================>............] - ETA: 0s - loss: 0.5330 - accuracy: 0.7312\n",
      "160/160 [==============================] - 0s 2ms/step - loss: 0.5252 - accuracy: 0.7337\n",
      "\u001b[2m\u001b[36m(launch_and_fit pid=43765)\u001b[0m Epoch 3/5\n",
      "  1/160 [..............................] - ETA: 0s - loss: 0.3478 - accuracy: 0.8500\n",
      "160/160 [==============================] - 0s 2ms/step - loss: 0.5115 - accuracy: 0.7500\n",
      "\u001b[2m\u001b[36m(launch_and_fit pid=45018)\u001b[0m Epoch 5/5\n",
      "  1/160 [..............................] - ETA: 0s - loss: 0.5968 - accuracy: 0.6000\n",
      " 70/160 [============>.................] - ETA: 0s - loss: 0.5112 - accuracy: 0.7393\n",
      " 67/160 [===========>..................] - ETA: 0s - loss: 0.5142 - accuracy: 0.7522\n",
      " 95/160 [================>.............] - ETA: 0s - loss: 0.5115 - accuracy: 0.7542\n",
      "112/160 [====================>.........] - ETA: 0s - loss: 0.5170 - accuracy: 0.7326\n",
      "145/160 [==========================>...] - ETA: 0s - loss: 0.5056 - accuracy: 0.7569\n"
     ]
    },
    {
     "name": "stderr",
     "output_type": "stream",
     "text": [
      "\u001b[2m\u001b[36m(launch_and_fit pid=46109)\u001b[0m 2023-05-10 11:02:53.004283: W tensorflow/compiler/tf2tensorrt/utils/py_utils.cc:38] TF-TRT Warning: Could not find TensorRT\n"
     ]
    },
    {
     "name": "stdout",
     "output_type": "stream",
     "text": [
      "160/160 [==============================] - 0s 2ms/step - loss: 0.5231 - accuracy: 0.7291\n",
      "\u001b[2m\u001b[36m(launch_and_fit pid=43765)\u001b[0m Epoch 4/5\n",
      "  1/160 [..............................] - ETA: 0s - loss: 0.6060 - accuracy: 0.6500\n",
      "160/160 [==============================] - 0s 2ms/step - loss: 0.5084 - accuracy: 0.7538\n",
      " 57/160 [=========>....................] - ETA: 0s - loss: 0.5111 - accuracy: 0.7482\n",
      "129/160 [=======================>......] - ETA: 0s - loss: 0.5174 - accuracy: 0.7395\n",
      "160/160 [==============================] - 0s 2ms/step - loss: 0.5181 - accuracy: 0.7406\n",
      "\u001b[2m\u001b[36m(launch_and_fit pid=43765)\u001b[0m Epoch 5/5\n",
      "  1/160 [..............................] - ETA: 0s - loss: 0.4545 - accuracy: 0.7500\n",
      " 44/160 [=======>......................] - ETA: 0s - loss: 0.5162 - accuracy: 0.7364\n",
      " 84/160 [==============>...............] - ETA: 0s - loss: 0.5288 - accuracy: 0.7286\n",
      "134/160 [========================>.....] - ETA: 0s - loss: 0.5177 - accuracy: 0.7354\n",
      "148/160 [==========================>...] - ETA: 0s - loss: 0.5145 - accuracy: 0.7399\n",
      "160/160 [==============================] - 1s 5ms/step - loss: 0.5155 - accuracy: 0.7406\n"
     ]
    },
    {
     "name": "stderr",
     "output_type": "stream",
     "text": [
      "\u001b[2m\u001b[36m(launch_and_fit pid=46274)\u001b[0m 2023-05-10 11:02:58.211588: W tensorflow/compiler/tf2tensorrt/utils/py_utils.cc:38] TF-TRT Warning: Could not find TensorRT\n",
      "\u001b[2m\u001b[36m(launch_and_fit pid=46419)\u001b[0m 2023-05-10 11:02:59.821114: W tensorflow/compiler/tf2tensorrt/utils/py_utils.cc:38] TF-TRT Warning: Could not find TensorRT\n",
      "\u001b[2m\u001b[36m(launch_and_fit pid=46420)\u001b[0m 2023-05-10 11:02:59.862285: W tensorflow/compiler/tf2tensorrt/utils/py_utils.cc:38] TF-TRT Warning: Could not find TensorRT\n",
      "\u001b[2m\u001b[36m(launch_and_fit pid=46274)\u001b[0m 2023-05-10 11:03:00.848471: W tensorflow/tsl/framework/cpu_allocator_impl.cc:83] Allocation of 498570752 exceeds 10% of free system memory.\n",
      "\u001b[2m\u001b[36m(launch_and_fit pid=46420)\u001b[0m 2023-05-10 11:03:01.429483: W tensorflow/tsl/framework/cpu_allocator_impl.cc:83] Allocation of 498570752 exceeds 10% of free system memory.\n",
      "\u001b[2m\u001b[36m(launch_and_fit pid=46419)\u001b[0m 2023-05-10 11:03:01.642028: W tensorflow/tsl/framework/cpu_allocator_impl.cc:83] Allocation of 498570752 exceeds 10% of free system memory.\n",
      "\u001b[2m\u001b[33m(raylet)\u001b[0m [2023-05-10 11:03:04,841 E 37953 37953] (raylet) node_manager.cc:3097: 7 Workers (tasks / actors) killed due to memory pressure (OOM), 0 Workers crashed due to other reasons at node (ID: aa0acf9ee9e32ddf668348d33a329ec3aa72650aa672c670cc93ed24, IP: 172.25.8.82) over the last time period. To see more information about the Workers killed on this node, use `ray logs raylet.out -ip 172.25.8.82`\n",
      "\u001b[2m\u001b[33m(raylet)\u001b[0m \n",
      "\u001b[2m\u001b[33m(raylet)\u001b[0m Refer to the documentation on how to address the out of memory issue: https://docs.ray.io/en/latest/ray-core/scheduling/ray-oom-prevention.html. Consider provisioning more memory on this node or reducing task parallelism by requesting more CPUs per task. To adjust the kill threshold, set the environment variable `RAY_memory_usage_threshold` when starting Ray. To disable worker killing, set the environment variable `RAY_memory_monitor_refresh_ms` to zero.\n",
      "\u001b[2m\u001b[36m(launch_and_fit pid=46274)\u001b[0m 2023-05-10 11:03:04.881917: W tensorflow/tsl/framework/cpu_allocator_impl.cc:83] Allocation of 498570752 exceeds 10% of free system memory.\n",
      "\u001b[2m\u001b[36m(launch_and_fit pid=46420)\u001b[0m 2023-05-10 11:03:05.606195: W tensorflow/tsl/framework/cpu_allocator_impl.cc:83] Allocation of 498570752 exceeds 10% of free system memory.\n",
      "\u001b[2m\u001b[36m(launch_and_fit pid=46419)\u001b[0m 2023-05-10 11:03:05.667557: W tensorflow/tsl/framework/cpu_allocator_impl.cc:83] Allocation of 498570752 exceeds 10% of free system memory.\n"
     ]
    },
    {
     "name": "stdout",
     "output_type": "stream",
     "text": [
      "\u001b[2m\u001b[36m(launch_and_fit pid=46274)\u001b[0m Epoch 1/5\n",
      "\u001b[2m\u001b[36m(launch_and_fit pid=46420)\u001b[0m Epoch 1/5\n",
      "\u001b[2m\u001b[36m(launch_and_fit pid=46419)\u001b[0m Epoch 1/5\n",
      "  1/160 [..............................] - ETA: 3:04 - loss: 0.4021 - accuracy: 0.8000\n",
      " 79/160 [=============>................] - ETA: 0s - loss: 0.4987 - accuracy: 0.7481\n",
      "160/160 [==============================] - 1s 1ms/step - loss: 0.5105 - accuracy: 0.7462\n",
      "\u001b[2m\u001b[36m(launch_and_fit pid=46274)\u001b[0m Epoch 2/5\n",
      "  1/160 [..............................] - ETA: 0s - loss: 0.5312 - accuracy: 0.7500\n",
      " 87/160 [===============>..............] - ETA: 0s - loss: 0.4996 - accuracy: 0.7569\n",
      "160/160 [==============================] - 0s 1ms/step - loss: 0.5049 - accuracy: 0.7484\n",
      "\u001b[2m\u001b[36m(launch_and_fit pid=46274)\u001b[0m Epoch 3/5\n",
      "  1/160 [..............................] - ETA: 0s - loss: 0.3411 - accuracy: 0.9000\n",
      " 91/160 [================>.............] - ETA: 0s - loss: 0.5029 - accuracy: 0.7571\n",
      "  1/160 [..............................] - ETA: 1:48 - loss: 0.4287 - accuracy: 0.7500\n",
      "160/160 [==============================] - 0s 1ms/step - loss: 0.5040 - accuracy: 0.7544\n",
      "\u001b[2m\u001b[36m(launch_and_fit pid=46274)\u001b[0m Epoch 4/5\n",
      "  1/160 [..............................] - ETA: 0s - loss: 0.2704 - accuracy: 0.9500\n",
      " 93/160 [================>.............] - ETA: 0s - loss: 0.5105 - accuracy: 0.7473\n",
      " 49/160 [========>.....................] - ETA: 0s - loss: 0.5068 - accuracy: 0.7429\n",
      "149/160 [==========================>...] - ETA: 0s - loss: 0.5248 - accuracy: 0.7426\n",
      "105/160 [==================>...........] - ETA: 0s - loss: 0.5036 - accuracy: 0.7490\n",
      "160/160 [==============================] - 1s 2ms/step - loss: 0.5229 - accuracy: 0.7462\n",
      "\u001b[2m\u001b[36m(launch_and_fit pid=46420)\u001b[0m Epoch 2/5\n",
      " 36/160 [=====>........................] - ETA: 0s - loss: 0.5133 - accuracy: 0.7556\n",
      "160/160 [==============================] - 0s 2ms/step - loss: 0.5000 - accuracy: 0.7506\n",
      "\u001b[2m\u001b[36m(launch_and_fit pid=46274)\u001b[0m Epoch 5/5\n",
      "  1/160 [..............................] - ETA: 0s - loss: 0.6335 - accuracy: 0.5500\n",
      " 96/160 [=================>............] - ETA: 0s - loss: 0.5079 - accuracy: 0.7578\n",
      " 33/160 [=====>........................] - ETA: 0s - loss: 0.5076 - accuracy: 0.7318\n",
      "131/160 [=======================>......] - ETA: 0s - loss: 0.5081 - accuracy: 0.7546\n",
      " 92/160 [================>.............] - ETA: 0s - loss: 0.5093 - accuracy: 0.7418\n",
      "160/160 [==============================] - 0s 2ms/step - loss: 0.5173 - accuracy: 0.7491\n",
      "\u001b[2m\u001b[36m(launch_and_fit pid=46420)\u001b[0m Epoch 3/5\n",
      " 36/160 [=====>........................] - ETA: 0s - loss: 0.4944 - accuracy: 0.7681\n",
      "160/160 [==============================] - 0s 2ms/step - loss: 0.4951 - accuracy: 0.7544\n",
      "103/160 [==================>...........] - ETA: 0s - loss: 0.5072 - accuracy: 0.7617\n",
      "160/160 [==============================] - 0s 2ms/step - loss: 0.5145 - accuracy: 0.7513\n",
      "\u001b[2m\u001b[36m(launch_and_fit pid=46420)\u001b[0m Epoch 4/5\n",
      "  1/160 [..............................] - ETA: 0s - loss: 0.3965 - accuracy: 0.8500\n",
      " 70/160 [============>.................] - ETA: 0s - loss: 0.5195 - accuracy: 0.7493\n",
      "134/160 [========================>.....] - ETA: 0s - loss: 0.5221 - accuracy: 0.7448\n",
      "160/160 [==============================] - 0s 1ms/step - loss: 0.5119 - accuracy: 0.7525\n",
      "\u001b[2m\u001b[36m(launch_and_fit pid=46420)\u001b[0m Epoch 5/5\n",
      " 39/160 [======>.......................] - ETA: 0s - loss: 0.5178 - accuracy: 0.7474\n",
      "130/160 [=======================>......] - ETA: 0s - loss: 0.5082 - accuracy: 0.7504\n",
      "160/160 [==============================] - 0s 1ms/step - loss: 0.5092 - accuracy: 0.7541\n"
     ]
    },
    {
     "name": "stderr",
     "output_type": "stream",
     "text": [
      "\u001b[2m\u001b[36m(launch_and_fit pid=46420)\u001b[0m 2023-05-10 11:03:12.258283: W tensorflow/tsl/framework/cpu_allocator_impl.cc:83] Allocation of 498570752 exceeds 10% of free system memory.\n",
      "\u001b[2m\u001b[36m(launch_and_fit pid=46420)\u001b[0m 2023-05-10 11:03:13.207136: W tensorflow/tsl/framework/cpu_allocator_impl.cc:83] Allocation of 498570752 exceeds 10% of free system memory.\n"
     ]
    },
    {
     "name": "stdout",
     "output_type": "stream",
     "text": [
      "\u001b[2m\u001b[36m(launch_and_fit pid=46420)\u001b[0m Epoch 1/5\n",
      " 49/160 [========>.....................] - ETA: 0s - loss: 0.5404 - accuracy: 0.7092  \n",
      "160/160 [==============================] - 1s 1ms/step - loss: 0.5290 - accuracy: 0.7287\n",
      "\u001b[2m\u001b[36m(launch_and_fit pid=46420)\u001b[0m Epoch 2/5\n",
      "  1/160 [..............................] - ETA: 0s - loss: 0.4741 - accuracy: 0.8000\n",
      "106/160 [==================>...........] - ETA: 0s - loss: 0.5155 - accuracy: 0.7354\n",
      "160/160 [==============================] - 0s 1ms/step - loss: 0.5220 - accuracy: 0.7369\n",
      "\u001b[2m\u001b[36m(launch_and_fit pid=46420)\u001b[0m Epoch 3/5\n",
      " 57/160 [=========>....................] - ETA: 0s - loss: 0.5010 - accuracy: 0.7632\n",
      "160/160 [==============================] - 0s 940us/step - loss: 0.5183 - accuracy: 0.7359\n",
      "\u001b[2m\u001b[36m(launch_and_fit pid=46420)\u001b[0m Epoch 4/5\n",
      "  1/160 [..............................] - ETA: 0s - loss: 0.4856 - accuracy: 0.7000\n",
      " 97/160 [=================>............] - ETA: 0s - loss: 0.5015 - accuracy: 0.7490\n",
      "160/160 [==============================] - 0s 1ms/step - loss: 0.5145 - accuracy: 0.7444\n",
      "\u001b[2m\u001b[36m(launch_and_fit pid=46420)\u001b[0m Epoch 5/5\n",
      " 54/160 [=========>....................] - ETA: 0s - loss: 0.5098 - accuracy: 0.7444\n",
      "141/160 [=========================>....] - ETA: 0s - loss: 0.5102 - accuracy: 0.7479\n",
      "160/160 [==============================] - 0s 1ms/step - loss: 0.5122 - accuracy: 0.7462\n"
     ]
    },
    {
     "name": "stderr",
     "output_type": "stream",
     "text": [
      "DEBUG flwr 2023-05-10 11:03:19,588 | server.py:229 | fit_round 9 received 5 results and 0 failures\n",
      "DEBUG:flwr:fit_round 9 received 5 results and 0 failures\n",
      "DEBUG flwr 2023-05-10 11:03:31,972 | server.py:165 | evaluate_round 9: strategy sampled 5 clients (out of 5)\n",
      "DEBUG:flwr:evaluate_round 9: strategy sampled 5 clients (out of 5)\n",
      "\u001b[2m\u001b[36m(launch_and_evaluate pid=46418)\u001b[0m 2023-05-10 11:03:35.073950: W tensorflow/compiler/tf2tensorrt/utils/py_utils.cc:38] TF-TRT Warning: Could not find TensorRT\n",
      "\u001b[2m\u001b[36m(launch_and_evaluate pid=45570)\u001b[0m 2023-05-10 11:03:35.368244: W tensorflow/tsl/framework/cpu_allocator_impl.cc:83] Allocation of 498570752 exceeds 10% of free system memory.\n"
     ]
    },
    {
     "name": "stdout",
     "output_type": "stream",
     "text": [
      "1/1 [==============================] - 0s 184ms/step - loss: 0.2581 - accuracy: 1.0000\n"
     ]
    },
    {
     "name": "stderr",
     "output_type": "stream",
     "text": [
      "\u001b[2m\u001b[36m(launch_and_evaluate pid=46820)\u001b[0m 2023-05-10 11:03:38.040319: W tensorflow/compiler/tf2tensorrt/utils/py_utils.cc:38] TF-TRT Warning: Could not find TensorRT\n",
      "\u001b[2m\u001b[36m(launch_and_evaluate pid=46821)\u001b[0m 2023-05-10 11:03:38.155217: W tensorflow/compiler/tf2tensorrt/utils/py_utils.cc:38] TF-TRT Warning: Could not find TensorRT\n",
      "\u001b[2m\u001b[36m(launch_and_evaluate pid=46418)\u001b[0m 2023-05-10 11:03:38.499028: W tensorflow/tsl/framework/cpu_allocator_impl.cc:83] Allocation of 498570752 exceeds 10% of free system memory.\n",
      "\u001b[2m\u001b[36m(launch_and_evaluate pid=46845)\u001b[0m 2023-05-10 11:03:38.439545: W tensorflow/compiler/tf2tensorrt/utils/py_utils.cc:38] TF-TRT Warning: Could not find TensorRT\n",
      "\u001b[2m\u001b[36m(raylet)\u001b[0m Spilled 32924 MiB, 151 objects, write throughput 306 MiB/s.\n",
      "\u001b[2m\u001b[36m(launch_and_evaluate pid=46820)\u001b[0m 2023-05-10 11:03:40.090909: W tensorflow/tsl/framework/cpu_allocator_impl.cc:83] Allocation of 498570752 exceeds 10% of free system memory.\n",
      "\u001b[2m\u001b[36m(launch_and_evaluate pid=46821)\u001b[0m 2023-05-10 11:03:40.083744: W tensorflow/tsl/framework/cpu_allocator_impl.cc:83] Allocation of 498570752 exceeds 10% of free system memory.\n",
      "\u001b[2m\u001b[36m(launch_and_evaluate pid=46845)\u001b[0m 2023-05-10 11:03:40.973491: W tensorflow/tsl/framework/cpu_allocator_impl.cc:83] Allocation of 498570752 exceeds 10% of free system memory.\n",
      "\u001b[2m\u001b[36m(launch_and_evaluate pid=46418)\u001b[0m 2023-05-10 11:03:43.085970: W tensorflow/tsl/framework/cpu_allocator_impl.cc:83] Allocation of 498570752 exceeds 10% of free system memory.\n"
     ]
    },
    {
     "name": "stdout",
     "output_type": "stream",
     "text": [
      "1/1 [==============================] - 0s 295ms/step - loss: 0.3799 - accuracy: 0.8571\n"
     ]
    },
    {
     "name": "stderr",
     "output_type": "stream",
     "text": [
      "\u001b[2m\u001b[36m(launch_and_evaluate pid=46820)\u001b[0m 2023-05-10 11:03:44.700895: W tensorflow/tsl/framework/cpu_allocator_impl.cc:83] Allocation of 498570752 exceeds 10% of free system memory.\n",
      "\u001b[2m\u001b[36m(launch_and_evaluate pid=46821)\u001b[0m 2023-05-10 11:03:44.649275: W tensorflow/tsl/framework/cpu_allocator_impl.cc:83] Allocation of 498570752 exceeds 10% of free system memory.\n"
     ]
    },
    {
     "name": "stdout",
     "output_type": "stream",
     "text": [
      "1/1 [==============================] - 0s 181ms/step - loss: 0.5092 - accuracy: 0.7500\n",
      "1/1 [==============================] - 0s 195ms/step - loss: 0.5494 - accuracy: 0.6667\n"
     ]
    },
    {
     "name": "stderr",
     "output_type": "stream",
     "text": [
      "\u001b[2m\u001b[36m(launch_and_evaluate pid=46845)\u001b[0m 2023-05-10 11:03:45.470756: W tensorflow/tsl/framework/cpu_allocator_impl.cc:83] Allocation of 498570752 exceeds 10% of free system memory.\n",
      "\u001b[2m\u001b[36m(launch_and_evaluate pid=46820)\u001b[0m 2023-05-10 11:03:47.778828: W tensorflow/tsl/framework/cpu_allocator_impl.cc:83] Allocation of 498570752 exceeds 10% of free system memory.\n",
      "\u001b[2m\u001b[36m(launch_and_evaluate pid=46820)\u001b[0m 2023-05-10 11:03:48.615586: W tensorflow/tsl/framework/cpu_allocator_impl.cc:83] Allocation of 498570752 exceeds 10% of free system memory.\n",
      "DEBUG flwr 2023-05-10 11:03:49,075 | server.py:179 | evaluate_round 9 received 5 results and 0 failures\n",
      "DEBUG:flwr:evaluate_round 9 received 5 results and 0 failures\n",
      "DEBUG flwr 2023-05-10 11:03:49,077 | server.py:215 | fit_round 10: strategy sampled 5 clients (out of 5)\n",
      "DEBUG:flwr:fit_round 10: strategy sampled 5 clients (out of 5)\n"
     ]
    },
    {
     "name": "stdout",
     "output_type": "stream",
     "text": [
      "1/1 [==============================] - 0s 96ms/step - loss: 0.3601 - accuracy: 0.7778\n"
     ]
    },
    {
     "name": "stderr",
     "output_type": "stream",
     "text": [
      "\u001b[2m\u001b[36m(launch_and_fit pid=46820)\u001b[0m 2023-05-10 11:03:50.167844: W tensorflow/tsl/framework/cpu_allocator_impl.cc:83] Allocation of 498570752 exceeds 10% of free system memory.\n",
      "\u001b[2m\u001b[36m(launch_and_fit pid=46821)\u001b[0m 2023-05-10 11:03:50.849484: W tensorflow/tsl/framework/cpu_allocator_impl.cc:83] Allocation of 498570752 exceeds 10% of free system memory.\n",
      "\u001b[2m\u001b[36m(launch_and_fit pid=46418)\u001b[0m 2023-05-10 11:03:51.380064: W tensorflow/tsl/framework/cpu_allocator_impl.cc:83] Allocation of 498570752 exceeds 10% of free system memory.\n"
     ]
    },
    {
     "name": "stdout",
     "output_type": "stream",
     "text": [
      "\u001b[2m\u001b[36m(launch_and_fit pid=46820)\u001b[0m Epoch 1/5\n"
     ]
    },
    {
     "name": "stderr",
     "output_type": "stream",
     "text": [
      "\u001b[2m\u001b[36m(launch_and_fit pid=46418)\u001b[0m 2023-05-10 11:03:55.772070: W tensorflow/tsl/framework/cpu_allocator_impl.cc:83] Allocation of 498570752 exceeds 10% of free system memory.\n",
      "\u001b[2m\u001b[36m(launch_and_fit pid=46821)\u001b[0m 2023-05-10 11:03:55.843862: W tensorflow/tsl/framework/cpu_allocator_impl.cc:83] Allocation of 498570752 exceeds 10% of free system memory.\n"
     ]
    },
    {
     "name": "stdout",
     "output_type": "stream",
     "text": [
      "  1/160 [..............................] - ETA: 2:42 - loss: 0.4288 - accuracy: 0.8500\n",
      " 27/160 [====>.........................] - ETA: 0s - loss: 0.5132 - accuracy: 0.7444  \n",
      " 47/160 [=======>......................] - ETA: 0s - loss: 0.5337 - accuracy: 0.7298\n",
      " 81/160 [==============>...............] - ETA: 0s - loss: 0.5161 - accuracy: 0.7463\n",
      "160/160 [==============================] - 1s 2ms/step - loss: 0.5212 - accuracy: 0.7447\n",
      "\u001b[2m\u001b[36m(launch_and_fit pid=46820)\u001b[0m Epoch 2/5\n",
      "  1/160 [..............................] - ETA: 0s - loss: 0.6572 - accuracy: 0.6500\n",
      " 29/160 [====>.........................] - ETA: 0s - loss: 0.5254 - accuracy: 0.7569\n",
      " 70/160 [============>.................] - ETA: 0s - loss: 0.5128 - accuracy: 0.7571\n",
      "\u001b[2m\u001b[36m(launch_and_fit pid=46418)\u001b[0m Epoch 1/5\n",
      "141/160 [=========================>....] - ETA: 0s - loss: 0.5152 - accuracy: 0.7507\n",
      "160/160 [==============================] - 0s 3ms/step - loss: 0.5160 - accuracy: 0.7503\n",
      "\u001b[2m\u001b[36m(launch_and_fit pid=46820)\u001b[0m Epoch 3/5\n",
      "  1/160 [..............................] - ETA: 1s - loss: 0.5025 - accuracy: 0.8000\n",
      "\u001b[2m\u001b[36m(launch_and_fit pid=46821)\u001b[0m Epoch 1/5\n",
      " 13/160 [=>............................] - ETA: 1s - loss: 0.5141 - accuracy: 0.7769\n",
      " 55/160 [=========>....................] - ETA: 0s - loss: 0.5221 - accuracy: 0.7545\n",
      "150/160 [===========================>..] - ETA: 0s - loss: 0.5152 - accuracy: 0.7517\n",
      "160/160 [==============================] - 0s 2ms/step - loss: 0.5121 - accuracy: 0.7531\n",
      "\u001b[2m\u001b[36m(launch_and_fit pid=46820)\u001b[0m Epoch 4/5\n",
      " 38/160 [======>.......................] - ETA: 0s - loss: 0.5062 - accuracy: 0.7592\n",
      " 70/160 [============>.................] - ETA: 0s - loss: 0.4979 - accuracy: 0.7643\n",
      "131/160 [=======================>......] - ETA: 0s - loss: 0.5069 - accuracy: 0.7569\n"
     ]
    },
    {
     "name": "stderr",
     "output_type": "stream",
     "text": [
      "\u001b[2m\u001b[36m(launch_and_fit pid=47257)\u001b[0m 2023-05-10 11:03:57.575864: W tensorflow/compiler/tf2tensorrt/utils/py_utils.cc:38] TF-TRT Warning: Could not find TensorRT\n",
      "\u001b[2m\u001b[36m(launch_and_fit pid=47256)\u001b[0m 2023-05-10 11:03:57.575864: W tensorflow/compiler/tf2tensorrt/utils/py_utils.cc:38] TF-TRT Warning: Could not find TensorRT\n"
     ]
    },
    {
     "name": "stdout",
     "output_type": "stream",
     "text": [
      "160/160 [==============================] - 0s 2ms/step - loss: 0.5093 - accuracy: 0.7563\n",
      "\u001b[2m\u001b[36m(launch_and_fit pid=46820)\u001b[0m Epoch 5/5\n",
      " 37/160 [=====>........................] - ETA: 0s - loss: 0.4910 - accuracy: 0.7743\n",
      " 72/160 [============>.................] - ETA: 0s - loss: 0.4899 - accuracy: 0.7653\n",
      "110/160 [===================>..........] - ETA: 0s - loss: 0.4993 - accuracy: 0.7627\n",
      " 12/160 [=>............................] - ETA: 0s - loss: 0.4921 - accuracy: 0.7750  \n",
      "124/160 [======================>.......] - ETA: 0s - loss: 0.5032 - accuracy: 0.7597\n",
      "147/160 [==========================>...] - ETA: 0s - loss: 0.5034 - accuracy: 0.7582\n",
      " 34/160 [=====>........................] - ETA: 0s - loss: 0.5419 - accuracy: 0.7294\n",
      " 40/160 [======>.......................] - ETA: 0s - loss: 0.5371 - accuracy: 0.7325\n",
      "153/160 [===========================>..] - ETA: 0s - loss: 0.5041 - accuracy: 0.7569\n",
      "160/160 [==============================] - 1s 4ms/step - loss: 0.5067 - accuracy: 0.7541\n",
      " 49/160 [========>.....................] - ETA: 0s - loss: 0.5306 - accuracy: 0.7337\n",
      " 53/160 [========>.....................] - ETA: 0s - loss: 0.5275 - accuracy: 0.7387\n",
      " 90/160 [===============>..............] - ETA: 0s - loss: 0.5252 - accuracy: 0.7339\n",
      "  1/160 [..............................] - ETA: 4:17 - loss: 0.5253 - accuracy: 0.7000\n",
      "160/160 [==============================] - 2s 4ms/step - loss: 0.5305 - accuracy: 0.7322\n",
      "\u001b[2m\u001b[36m(launch_and_fit pid=46821)\u001b[0m Epoch 2/5\n",
      "  1/160 [..............................] - ETA: 0s - loss: 0.4169 - accuracy: 0.7500\n",
      " 51/160 [========>.....................] - ETA: 0s - loss: 0.5091 - accuracy: 0.7490\n",
      " 62/160 [==========>...................] - ETA: 0s - loss: 0.5255 - accuracy: 0.7468\n",
      "143/160 [=========================>....] - ETA: 0s - loss: 0.5287 - accuracy: 0.7332\n",
      "130/160 [=======================>......] - ETA: 0s - loss: 0.5225 - accuracy: 0.7423\n",
      "160/160 [==============================] - 2s 2ms/step - loss: 0.5267 - accuracy: 0.7337\n",
      "\u001b[2m\u001b[36m(launch_and_fit pid=46418)\u001b[0m Epoch 2/5\n",
      " 36/160 [=====>........................] - ETA: 0s - loss: 0.5309 - accuracy: 0.7264\n",
      "160/160 [==============================] - 0s 2ms/step - loss: 0.5260 - accuracy: 0.7400\n",
      "\u001b[2m\u001b[36m(launch_and_fit pid=46821)\u001b[0m Epoch 3/5\n",
      " 36/160 [=====>........................] - ETA: 0s - loss: 0.5038 - accuracy: 0.7472\n",
      "102/160 [==================>...........] - ETA: 0s - loss: 0.5114 - accuracy: 0.7441\n",
      "101/160 [=================>............] - ETA: 0s - loss: 0.5203 - accuracy: 0.7386\n",
      "124/160 [======================>.......] - ETA: 0s - loss: 0.5144 - accuracy: 0.7411\n",
      "122/160 [=====================>........] - ETA: 0s - loss: 0.5199 - accuracy: 0.7410\n",
      "133/160 [=======================>......] - ETA: 0s - loss: 0.5178 - accuracy: 0.7387\n",
      "131/160 [=======================>......] - ETA: 0s - loss: 0.5212 - accuracy: 0.7405\n",
      "154/160 [===========================>..] - ETA: 0s - loss: 0.5221 - accuracy: 0.7373\n",
      "153/160 [===========================>..] - ETA: 0s - loss: 0.5202 - accuracy: 0.7412\n",
      "160/160 [==============================] - 0s 3ms/step - loss: 0.5203 - accuracy: 0.7372\n",
      "\u001b[2m\u001b[36m(launch_and_fit pid=46418)\u001b[0m Epoch 3/5\n",
      "  1/160 [..............................] - ETA: 0s - loss: 0.5212 - accuracy: 0.8000\n",
      "160/160 [==============================] - 0s 3ms/step - loss: 0.5219 - accuracy: 0.7406\n",
      "\u001b[2m\u001b[36m(launch_and_fit pid=46821)\u001b[0m Epoch 4/5\n",
      "  1/160 [..............................] - ETA: 0s - loss: 0.4778 - accuracy: 0.6500\n",
      " 65/160 [===========>..................] - ETA: 0s - loss: 0.5141 - accuracy: 0.7400\n",
      " 67/160 [===========>..................] - ETA: 0s - loss: 0.5277 - accuracy: 0.7403\n",
      "132/160 [=======================>......] - ETA: 0s - loss: 0.5118 - accuracy: 0.7439\n",
      "134/160 [========================>.....] - ETA: 0s - loss: 0.5219 - accuracy: 0.7392\n",
      "160/160 [==============================] - 0s 2ms/step - loss: 0.5160 - accuracy: 0.7441\n",
      "\u001b[2m\u001b[36m(launch_and_fit pid=46418)\u001b[0m Epoch 4/5\n",
      " 24/160 [===>..........................] - ETA: 0s - loss: 0.5273 - accuracy: 0.7312\n",
      "160/160 [==============================] - 0s 2ms/step - loss: 0.5187 - accuracy: 0.7409\n",
      "\u001b[2m\u001b[36m(launch_and_fit pid=46821)\u001b[0m Epoch 5/5\n",
      " 27/160 [====>.........................] - ETA: 0s - loss: 0.5228 - accuracy: 0.7519\n",
      " 80/160 [==============>...............] - ETA: 0s - loss: 0.5250 - accuracy: 0.7231\n",
      " 88/160 [===============>..............] - ETA: 0s - loss: 0.5183 - accuracy: 0.7472\n",
      "160/160 [==============================] - 0s 2ms/step - loss: 0.5122 - accuracy: 0.7422\n",
      "\u001b[2m\u001b[36m(launch_and_fit pid=46418)\u001b[0m Epoch 5/5\n",
      "  1/160 [..............................] - ETA: 0s - loss: 0.6259 - accuracy: 0.8000\n",
      "160/160 [==============================] - 0s 2ms/step - loss: 0.5147 - accuracy: 0.7431\n",
      " 22/160 [===>..........................] - ETA: 0s - loss: 0.5151 - accuracy: 0.7455\n",
      " 50/160 [========>.....................] - ETA: 0s - loss: 0.5214 - accuracy: 0.7410\n",
      "101/160 [=================>............] - ETA: 0s - loss: 0.5055 - accuracy: 0.7441\n",
      "160/160 [==============================] - 0s 2ms/step - loss: 0.5094 - accuracy: 0.7425\n"
     ]
    },
    {
     "name": "stderr",
     "output_type": "stream",
     "text": [
      "\u001b[2m\u001b[33m(raylet)\u001b[0m [2023-05-10 11:04:04,870 E 37953 37953] (raylet) node_manager.cc:3097: 8 Workers (tasks / actors) killed due to memory pressure (OOM), 0 Workers crashed due to other reasons at node (ID: aa0acf9ee9e32ddf668348d33a329ec3aa72650aa672c670cc93ed24, IP: 172.25.8.82) over the last time period. To see more information about the Workers killed on this node, use `ray logs raylet.out -ip 172.25.8.82`\n",
      "\u001b[2m\u001b[33m(raylet)\u001b[0m \n",
      "\u001b[2m\u001b[33m(raylet)\u001b[0m Refer to the documentation on how to address the out of memory issue: https://docs.ray.io/en/latest/ray-core/scheduling/ray-oom-prevention.html. Consider provisioning more memory on this node or reducing task parallelism by requesting more CPUs per task. To adjust the kill threshold, set the environment variable `RAY_memory_usage_threshold` when starting Ray. To disable worker killing, set the environment variable `RAY_memory_monitor_refresh_ms` to zero.\n",
      "\u001b[2m\u001b[36m(launch_and_fit pid=46418)\u001b[0m 2023-05-10 11:04:09.506073: W tensorflow/tsl/framework/cpu_allocator_impl.cc:83] Allocation of 498570752 exceeds 10% of free system memory.\n"
     ]
    },
    {
     "name": "stdout",
     "output_type": "stream",
     "text": [
      "\u001b[2m\u001b[36m(launch_and_fit pid=46418)\u001b[0m Epoch 1/5\n",
      "  1/160 [..............................] - ETA: 1:49 - loss: 0.5993 - accuracy: 0.7000\n",
      " 34/160 [=====>........................] - ETA: 0s - loss: 0.5084 - accuracy: 0.7500\n",
      " 94/160 [================>.............] - ETA: 0s - loss: 0.5140 - accuracy: 0.7420\n",
      "160/160 [==============================] - 1s 2ms/step - loss: 0.5103 - accuracy: 0.7434\n",
      "\u001b[2m\u001b[36m(launch_and_fit pid=46418)\u001b[0m Epoch 2/5\n",
      "  1/160 [..............................] - ETA: 0s - loss: 0.8443 - accuracy: 0.4500\n",
      " 56/160 [=========>....................] - ETA: 0s - loss: 0.4980 - accuracy: 0.7571\n",
      " 91/160 [================>.............] - ETA: 0s - loss: 0.5051 - accuracy: 0.7489\n",
      "118/160 [=====================>........] - ETA: 0s - loss: 0.5032 - accuracy: 0.7492\n",
      "160/160 [==============================] - 0s 3ms/step - loss: 0.5043 - accuracy: 0.7509\n",
      "\u001b[2m\u001b[36m(launch_and_fit pid=46418)\u001b[0m Epoch 3/5\n",
      "  1/160 [..............................] - ETA: 0s - loss: 0.5286 - accuracy: 0.7500\n",
      " 59/160 [==========>...................] - ETA: 0s - loss: 0.4803 - accuracy: 0.7619\n",
      "160/160 [==============================] - 0s 1ms/step - loss: 0.5000 - accuracy: 0.7516\n",
      "\u001b[2m\u001b[36m(launch_and_fit pid=46418)\u001b[0m Epoch 4/5\n",
      "  1/160 [..............................] - ETA: 0s - loss: 0.3539 - accuracy: 0.9000\n",
      " 83/160 [==============>...............] - ETA: 0s - loss: 0.4848 - accuracy: 0.7554\n",
      "160/160 [==============================] - 0s 1ms/step - loss: 0.4967 - accuracy: 0.7541\n",
      "\u001b[2m\u001b[36m(launch_and_fit pid=46418)\u001b[0m Epoch 5/5\n",
      "  1/160 [..............................] - ETA: 0s - loss: 0.5453 - accuracy: 0.8000\n",
      " 42/160 [======>.......................] - ETA: 0s - loss: 0.4966 - accuracy: 0.7607\n",
      "109/160 [===================>..........] - ETA: 0s - loss: 0.4935 - accuracy: 0.7628\n",
      "152/160 [===========================>..] - ETA: 0s - loss: 0.4929 - accuracy: 0.7599\n",
      "160/160 [==============================] - 0s 2ms/step - loss: 0.4945 - accuracy: 0.7581\n",
      "\u001b[2m\u001b[36m(launch_and_fit pid=46820)\u001b[0m Epoch 1/5\n",
      "  1/160 [..............................] - ETA: 1:06 - loss: 0.5684 - accuracy: 0.7000\n",
      "101/160 [=================>............] - ETA: 0s - loss: 0.5210 - accuracy: 0.7356\n",
      "160/160 [==============================] - 1s 1ms/step - loss: 0.5290 - accuracy: 0.7309\n",
      "\u001b[2m\u001b[36m(launch_and_fit pid=46820)\u001b[0m Epoch 2/5\n",
      " 34/160 [=====>........................] - ETA: 0s - loss: 0.5278 - accuracy: 0.7294\n",
      " 96/160 [=================>............] - ETA: 0s - loss: 0.5246 - accuracy: 0.7432\n",
      "160/160 [==============================] - 0s 2ms/step - loss: 0.5239 - accuracy: 0.7387\n",
      "\u001b[2m\u001b[36m(launch_and_fit pid=46820)\u001b[0m Epoch 3/5\n",
      "  1/160 [..............................] - ETA: 0s - loss: 0.5676 - accuracy: 0.7000\n",
      " 56/160 [=========>....................] - ETA: 0s - loss: 0.5179 - accuracy: 0.7420\n",
      "160/160 [==============================] - 0s 1ms/step - loss: 0.5194 - accuracy: 0.7353\n",
      "\u001b[2m\u001b[36m(launch_and_fit pid=46820)\u001b[0m Epoch 4/5\n",
      "  1/160 [..............................] - ETA: 0s - loss: 0.5196 - accuracy: 0.7500\n",
      " 92/160 [================>.............] - ETA: 0s - loss: 0.5111 - accuracy: 0.7391\n",
      "160/160 [==============================] - 0s 1ms/step - loss: 0.5159 - accuracy: 0.7369\n",
      "\u001b[2m\u001b[36m(launch_and_fit pid=46820)\u001b[0m Epoch 5/5\n",
      " 54/160 [=========>....................] - ETA: 0s - loss: 0.4952 - accuracy: 0.7472\n",
      "160/160 [==============================] - 0s 1ms/step - loss: 0.5141 - accuracy: 0.7403\n"
     ]
    },
    {
     "name": "stderr",
     "output_type": "stream",
     "text": [
      "DEBUG flwr 2023-05-10 11:04:20,606 | server.py:229 | fit_round 10 received 5 results and 0 failures\n",
      "DEBUG:flwr:fit_round 10 received 5 results and 0 failures\n",
      "DEBUG flwr 2023-05-10 11:04:34,663 | server.py:165 | evaluate_round 10: strategy sampled 5 clients (out of 5)\n",
      "DEBUG:flwr:evaluate_round 10: strategy sampled 5 clients (out of 5)\n",
      "\u001b[2m\u001b[36m(launch_and_evaluate pid=46821)\u001b[0m 2023-05-10 11:04:36.469150: W tensorflow/tsl/framework/cpu_allocator_impl.cc:83] Allocation of 498570752 exceeds 10% of free system memory.\n"
     ]
    },
    {
     "name": "stdout",
     "output_type": "stream",
     "text": [
      "1/1 [==============================] - 0s 412ms/step - loss: 0.3349 - accuracy: 0.7778\n"
     ]
    },
    {
     "name": "stderr",
     "output_type": "stream",
     "text": [
      "\u001b[2m\u001b[36m(launch_and_evaluate pid=47683)\u001b[0m 2023-05-10 11:04:40.916701: W tensorflow/compiler/tf2tensorrt/utils/py_utils.cc:38] TF-TRT Warning: Could not find TensorRT\n",
      "\u001b[2m\u001b[36m(launch_and_evaluate pid=47685)\u001b[0m 2023-05-10 11:04:40.916688: W tensorflow/compiler/tf2tensorrt/utils/py_utils.cc:38] TF-TRT Warning: Could not find TensorRT\n",
      "\u001b[2m\u001b[36m(launch_and_evaluate pid=47719)\u001b[0m 2023-05-10 11:04:40.916688: W tensorflow/compiler/tf2tensorrt/utils/py_utils.cc:38] TF-TRT Warning: Could not find TensorRT\n",
      "\u001b[2m\u001b[36m(launch_and_evaluate pid=47720)\u001b[0m 2023-05-10 11:04:40.916730: W tensorflow/compiler/tf2tensorrt/utils/py_utils.cc:38] TF-TRT Warning: Could not find TensorRT\n",
      "\u001b[2m\u001b[36m(launch_and_evaluate pid=47683)\u001b[0m 2023-05-10 11:04:44.067584: W tensorflow/tsl/framework/cpu_allocator_impl.cc:83] Allocation of 498570752 exceeds 10% of free system memory.\n",
      "\u001b[2m\u001b[36m(launch_and_evaluate pid=47685)\u001b[0m 2023-05-10 11:04:44.028258: W tensorflow/tsl/framework/cpu_allocator_impl.cc:83] Allocation of 498570752 exceeds 10% of free system memory.\n",
      "\u001b[2m\u001b[36m(launch_and_evaluate pid=47719)\u001b[0m 2023-05-10 11:04:44.041160: W tensorflow/tsl/framework/cpu_allocator_impl.cc:83] Allocation of 498570752 exceeds 10% of free system memory.\n",
      "\u001b[2m\u001b[36m(launch_and_evaluate pid=47720)\u001b[0m 2023-05-10 11:04:44.028259: W tensorflow/tsl/framework/cpu_allocator_impl.cc:83] Allocation of 498570752 exceeds 10% of free system memory.\n",
      "\u001b[2m\u001b[36m(launch_and_evaluate pid=47685)\u001b[0m 2023-05-10 11:04:50.168740: W tensorflow/tsl/framework/cpu_allocator_impl.cc:83] Allocation of 498570752 exceeds 10% of free system memory.\n",
      "\u001b[2m\u001b[36m(launch_and_evaluate pid=47719)\u001b[0m 2023-05-10 11:04:50.162412: W tensorflow/tsl/framework/cpu_allocator_impl.cc:83] Allocation of 498570752 exceeds 10% of free system memory.\n",
      "\u001b[2m\u001b[36m(launch_and_evaluate pid=47683)\u001b[0m 2023-05-10 11:04:50.211930: W tensorflow/tsl/framework/cpu_allocator_impl.cc:83] Allocation of 498570752 exceeds 10% of free system memory.\n"
     ]
    },
    {
     "name": "stdout",
     "output_type": "stream",
     "text": [
      "1/1 [==============================] - 0s 225ms/step - loss: 0.2612 - accuracy: 1.0000\n",
      "1/1 [==============================] - 0s 256ms/step - loss: 0.5482 - accuracy: 0.8333\n",
      "1/1 [==============================] - 0s 278ms/step - loss: 0.5223 - accuracy: 0.7500\n"
     ]
    },
    {
     "name": "stderr",
     "output_type": "stream",
     "text": [
      "\u001b[2m\u001b[36m(launch_and_evaluate pid=47685)\u001b[0m 2023-05-10 11:04:51.907702: W tensorflow/tsl/framework/cpu_allocator_impl.cc:83] Allocation of 498570752 exceeds 10% of free system memory.\n",
      "\u001b[2m\u001b[36m(launch_and_evaluate pid=47685)\u001b[0m 2023-05-10 11:04:52.732978: W tensorflow/tsl/framework/cpu_allocator_impl.cc:83] Allocation of 498570752 exceeds 10% of free system memory.\n",
      "\u001b[2m\u001b[36m(launch_and_evaluate pid=47683)\u001b[0m 2023-05-10 11:04:52.902039: W tensorflow/tsl/framework/cpu_allocator_impl.cc:83] Allocation of 498570752 exceeds 10% of free system memory.\n"
     ]
    },
    {
     "name": "stdout",
     "output_type": "stream",
     "text": [
      "1/1 [==============================] - 0s 140ms/step - loss: 0.3829 - accuracy: 0.8571\n"
     ]
    },
    {
     "name": "stderr",
     "output_type": "stream",
     "text": [
      "\u001b[2m\u001b[36m(launch_and_evaluate pid=47683)\u001b[0m 2023-05-10 11:04:53.707012: W tensorflow/tsl/framework/cpu_allocator_impl.cc:83] Allocation of 498570752 exceeds 10% of free system memory.\n",
      "DEBUG flwr 2023-05-10 11:04:54,141 | server.py:179 | evaluate_round 10 received 5 results and 0 failures\n",
      "DEBUG:flwr:evaluate_round 10 received 5 results and 0 failures\n",
      "INFO flwr 2023-05-10 11:04:54,142 | server.py:144 | FL finished in 585.2032361740003\n",
      "INFO:flwr:FL finished in 585.2032361740003\n"
     ]
    },
    {
     "name": "stdout",
     "output_type": "stream",
     "text": [
      "1/1 [==============================] - 0s 107ms/step - loss: 0.2612 - accuracy: 1.0000\n"
     ]
    },
    {
     "name": "stderr",
     "output_type": "stream",
     "text": [
      "INFO flwr 2023-05-10 11:04:54,355 | app.py:198 | app_fit: losses_distributed [(1, 0.4278187516488527), (2, 0.40879114442750025), (3, 0.4083961005273618), (4, 0.4082111190808447), (5, 0.40798475710969223), (6, 0.40515820603621633), (7, 0.4047055173861353), (8, 0.4031940784893538), (9, 0.4035557320243434), (10, 0.4013929861156564)]\n",
      "INFO:flwr:app_fit: losses_distributed [(1, 0.4278187516488527), (2, 0.40879114442750025), (3, 0.4083961005273618), (4, 0.4082111190808447), (5, 0.40798475710969223), (6, 0.40515820603621633), (7, 0.4047055173861353), (8, 0.4031940784893538), (9, 0.4035557320243434), (10, 0.4013929861156564)]\n",
      "INFO flwr 2023-05-10 11:04:54,356 | app.py:199 | app_fit: metrics_distributed {'accuracy': [(1, 0.842105264726438), (2, 0.842105264726438), (3, 0.842105264726438), (4, 0.842105264726438), (5, 0.842105264726438), (6, 0.8157894768212971), (7, 0.815789481526927), (8, 0.8157894768212971), (9, 0.815789481526927), (10, 0.842105264726438)]}\n",
      "INFO:flwr:app_fit: metrics_distributed {'accuracy': [(1, 0.842105264726438), (2, 0.842105264726438), (3, 0.842105264726438), (4, 0.842105264726438), (5, 0.842105264726438), (6, 0.8157894768212971), (7, 0.815789481526927), (8, 0.8157894768212971), (9, 0.815789481526927), (10, 0.842105264726438)]}\n",
      "INFO flwr 2023-05-10 11:04:54,358 | app.py:200 | app_fit: losses_centralized []\n",
      "INFO:flwr:app_fit: losses_centralized []\n",
      "INFO flwr 2023-05-10 11:04:54,358 | app.py:201 | app_fit: metrics_centralized {}\n",
      "INFO:flwr:app_fit: metrics_centralized {}\n"
     ]
    }
   ],
   "source": [
    "# Define strategy\n",
    "strategy = fl.server.strategy.FedAvg(\n",
    "    min_fit_clients=NUM_CLIENTS,\n",
    "    min_evaluate_clients=NUM_CLIENTS,\n",
    "    min_available_clients=NUM_CLIENTS,\n",
    "    on_fit_config_fn=fit_config,\n",
    "    on_evaluate_config_fn=evaluate_config,\n",
    "    evaluate_metrics_aggregation_fn=weighted_average,\n",
    ")\n",
    "\n",
    "# Start simulation\n",
    "fl_sim = fl.simulation.start_simulation(\n",
    "    client_fn=client_fn,\n",
    "    num_clients=NUM_CLIENTS,\n",
    "    config=fl.server.ServerConfig(num_rounds=NUM_ROUNDS),\n",
    "    strategy=strategy,\n",
    ")"
   ]
  },
  {
   "cell_type": "markdown",
   "id": "c1e499a4",
   "metadata": {
    "id": "c1e499a4"
   },
   "source": [
    "## Evaluation with test data"
   ]
  },
  {
   "cell_type": "markdown",
   "id": "52622879",
   "metadata": {
    "id": "52622879"
   },
   "source": [
    "The evaluation has been done during the simulation. Following, we show the averaged results over test data.\n",
    "The result of the simulation includes the results on all rounds, so we retrieve those of the last round."
   ]
  },
  {
   "cell_type": "code",
   "execution_count": 17,
   "id": "48779518",
   "metadata": {
    "id": "48779518",
    "outputId": "d5ac6423-ab3e-4276-e8a1-0b6b0e301ed5"
   },
   "outputs": [
    {
     "name": "stdout",
     "output_type": "stream",
     "text": [
      "Test data, \t Loss=0.4014, \t Accuracy=0.8421\n"
     ]
    }
   ],
   "source": [
    "print('Test data, \\t Loss={:.4f}, \\t Accuracy={:.4f}'.format(fl_sim.losses_distributed[-1][1], fl_sim.metrics_distributed['accuracy'][-1][1]))"
   ]
  },
  {
   "cell_type": "code",
   "execution_count": 18,
   "id": "35953713-0e47-4f7f-862d-c667408f351d",
   "metadata": {},
   "outputs": [
    {
     "data": {
      "text/plain": [
       "History (loss, distributed):\n",
       "\tround 1: 0.4278187516488527\n",
       "\tround 2: 0.40879114442750025\n",
       "\tround 3: 0.4083961005273618\n",
       "\tround 4: 0.4082111190808447\n",
       "\tround 5: 0.40798475710969223\n",
       "\tround 6: 0.40515820603621633\n",
       "\tround 7: 0.4047055173861353\n",
       "\tround 8: 0.4031940784893538\n",
       "\tround 9: 0.4035557320243434\n",
       "\tround 10: 0.4013929861156564\n",
       "History (metrics, distributed):\n",
       "{'accuracy': [(1, 0.842105264726438), (2, 0.842105264726438), (3, 0.842105264726438), (4, 0.842105264726438), (5, 0.842105264726438), (6, 0.8157894768212971), (7, 0.815789481526927), (8, 0.8157894768212971), (9, 0.815789481526927), (10, 0.842105264726438)]}"
      ]
     },
     "execution_count": 18,
     "metadata": {},
     "output_type": "execute_result"
    },
    {
     "name": "stderr",
     "output_type": "stream",
     "text": [
      "\u001b[2m\u001b[33m(raylet)\u001b[0m [2023-05-10 11:05:04,873 E 37953 37953] (raylet) node_manager.cc:3097: 4 Workers (tasks / actors) killed due to memory pressure (OOM), 0 Workers crashed due to other reasons at node (ID: aa0acf9ee9e32ddf668348d33a329ec3aa72650aa672c670cc93ed24, IP: 172.25.8.82) over the last time period. To see more information about the Workers killed on this node, use `ray logs raylet.out -ip 172.25.8.82`\n",
      "\u001b[2m\u001b[33m(raylet)\u001b[0m \n",
      "\u001b[2m\u001b[33m(raylet)\u001b[0m Refer to the documentation on how to address the out of memory issue: https://docs.ray.io/en/latest/ray-core/scheduling/ray-oom-prevention.html. Consider provisioning more memory on this node or reducing task parallelism by requesting more CPUs per task. To adjust the kill threshold, set the environment variable `RAY_memory_usage_threshold` when starting Ray. To disable worker killing, set the environment variable `RAY_memory_monitor_refresh_ms` to zero.\n"
     ]
    }
   ],
   "source": [
    "fl_sim"
   ]
  }
 ],
 "metadata": {
  "colab": {
   "provenance": []
  },
  "kernelspec": {
   "display_name": "Python 3 (ipykernel)",
   "language": "python",
   "name": "python3"
  },
  "language_info": {
   "codemirror_mode": {
    "name": "ipython",
    "version": 3
   },
   "file_extension": ".py",
   "mimetype": "text/x-python",
   "name": "python",
   "nbconvert_exporter": "python",
   "pygments_lexer": "ipython3",
   "version": "3.10.12"
  },
  "vscode": {
   "interpreter": {
    "hash": "8e8b6d17f9de91ec09bf737279c4695a050e0a9834ed9418f9a5b3830b8b4b90"
   }
  }
 },
 "nbformat": 4,
 "nbformat_minor": 5
}
