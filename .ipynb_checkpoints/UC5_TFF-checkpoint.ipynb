{
 "cells": [
  {
   "cell_type": "markdown",
   "id": "d85c969a-bbe5-4374-879d-ef8ad7c4f690",
   "metadata": {},
   "source": [
    "# **USE CASE 5.** Clustering using k-means in HFL with TFF"
   ]
  },
  {
   "cell_type": "markdown",
   "id": "24e1c316-db26-45e6-add8-2604b6dc6b11",
   "metadata": {},
   "source": [
    "## Required libraries and configuration"
   ]
  },
  {
   "cell_type": "markdown",
   "id": "4151af53-0807-4859-8478-1e7d6b0ec26a",
   "metadata": {},
   "source": [
    "Import required libraries"
   ]
  },
  {
   "cell_type": "code",
   "execution_count": 1,
   "id": "b000fad2-9ca1-425c-96e7-ab21b62bed47",
   "metadata": {},
   "outputs": [
    {
     "name": "stderr",
     "output_type": "stream",
     "text": [
      "2023-05-23 09:56:10.670913: I tensorflow/tsl/cuda/cudart_stub.cc:28] Could not find cuda drivers on your machine, GPU will not be used.\n",
      "2023-05-23 09:56:10.854740: I tensorflow/tsl/cuda/cudart_stub.cc:28] Could not find cuda drivers on your machine, GPU will not be used.\n",
      "2023-05-23 09:56:10.855981: I tensorflow/core/platform/cpu_feature_guard.cc:182] This TensorFlow binary is optimized to use available CPU instructions in performance-critical operations.\n",
      "To enable the following instructions: AVX2 FMA, in other operations, rebuild TensorFlow with the appropriate compiler flags.\n",
      "2023-05-23 09:56:11.995391: W tensorflow/compiler/tf2tensorrt/utils/py_utils.cc:38] TF-TRT Warning: Could not find TensorRT\n",
      "/home/jose/tff/tff_venv/lib/python3.10/site-packages/tqdm/auto.py:21: TqdmWarning: IProgress not found. Please update jupyter and ipywidgets. See https://ipywidgets.readthedocs.io/en/stable/user_install.html\n",
      "  from .autonotebook import tqdm as notebook_tqdm\n"
     ]
    }
   ],
   "source": [
    "import collections\n",
    "import keras\n",
    "import random\n",
    "import sklearn\n",
    "\n",
    "import matplotlib.pyplot as plt\n",
    "import numpy as np\n",
    "import tensorflow as tf\n",
    "import tensorflow_federated as tff\n",
    "import tensorflow_datasets as tfds\n",
    "\n",
    "from sklearn.cluster import MiniBatchKMeans\n",
    "from tensorflow_federated.python.simulation.datasets import emnist\n",
    "from tensorflow_federated.python.learning.algorithms import build_fed_kmeans"
   ]
  },
  {
   "cell_type": "markdown",
   "id": "f499cef0-0261-47a1-b2a7-e2819e1d1006",
   "metadata": {},
   "source": [
    "Define some parameters for the simulation, such as the number of clients and the number of rounds."
   ]
  },
  {
   "cell_type": "code",
   "execution_count": 2,
   "id": "a676bb7f-845a-4ca3-9b17-d33331dbbd2b",
   "metadata": {},
   "outputs": [],
   "source": [
    "# Some parameters\n",
    "NUM_CLIENTS = 10 # Number of clients in the federated scenario\n",
    "NUM_ROUNDS = 10 # Number of learning rounds in the federated computation\n",
    "\n",
    "# Define the seed for random numbers\n",
    "seed = 10\n",
    "np.random.seed(seed)\n",
    "tf.random.set_seed(seed)"
   ]
  },
  {
   "cell_type": "markdown",
   "id": "96891704-dc2a-443e-a67c-9c48c631f8ed",
   "metadata": {},
   "source": [
    "## Loading and preparing the input data"
   ]
  },
  {
   "cell_type": "markdown",
   "id": "a28bf10d-edd3-4e9a-b5d9-8632dc5f07b9",
   "metadata": {},
   "source": [
    "Load the MNIST dataset from tensorflow federated. In this case, we only use the training set."
   ]
  },
  {
   "cell_type": "code",
   "execution_count": 3,
   "id": "1c7b1159-5065-4288-b000-52a39819f36a",
   "metadata": {},
   "outputs": [
    {
     "name": "stderr",
     "output_type": "stream",
     "text": [
      "2023-05-23 09:56:16.394976: I tensorflow/core/common_runtime/executor.cc:1197] [/device:CPU:0] (DEBUG INFO) Executor start aborting (this does not indicate an error and you can ignore this message): INVALID_ARGUMENT: You must feed a value for placeholder tensor 'Placeholder/_1' with dtype string and shape [1]\n",
      "\t [[{{node Placeholder/_1}}]]\n",
      "2023-05-23 09:56:16.395499: I tensorflow/core/common_runtime/executor.cc:1197] [/device:CPU:0] (DEBUG INFO) Executor start aborting (this does not indicate an error and you can ignore this message): INVALID_ARGUMENT: You must feed a value for placeholder tensor 'Placeholder/_3' with dtype int64 and shape [1]\n",
      "\t [[{{node Placeholder/_3}}]]\n"
     ]
    }
   ],
   "source": [
    "# Load MNIST from tfds. Get only train partition.\n",
    "mnist = tfds.load('mnist')['train']\n",
    "\n",
    "# Transform the input from uint8 to float32, since it is a requirement of the model\n",
    "mnist = mnist.map(lambda sample: {'image': tf.cast(sample['image'], tf.float32),\n",
    "                                  'label': sample['label']})\n",
    "\n",
    "# Transform the data to a dataframe and assign random ids\n",
    "mnist_df = tfds.as_dataframe(mnist)\n",
    "ids = [i for i in range(NUM_CLIENTS) for _ in range(len(mnist)//NUM_CLIENTS)]\n",
    "random.Random(seed).shuffle(ids)\n",
    "mnist_df['id'] = ids\n",
    "\n",
    "# This method receives a client_id, and returns the tf.data.Dataset for that client\n",
    "def create_tf_dataset_for_client_fn(client_id):\n",
    "    client_data = mnist_df[mnist_df['id'] == client_id].drop(columns='id')\n",
    "    return tf.data.Dataset.from_tensor_slices(client_data.to_dict('list'))\n",
    "\n",
    "mnist = tff.simulation.datasets.ClientData.from_clients_and_tf_fn(\n",
    "    client_ids=list(range(0,NUM_CLIENTS)),\n",
    "    serializable_dataset_fn=create_tf_dataset_for_client_fn\n",
    ")"
   ]
  },
  {
   "cell_type": "markdown",
   "id": "a863e14a-1769-4564-a812-d17e79c28d53",
   "metadata": {},
   "source": [
    "Shuffle and reshape the data into a flat array, and prepare the data of each client."
   ]
  },
  {
   "cell_type": "code",
   "execution_count": 4,
   "id": "e255d668-d0c3-44f8-a662-44d8dbc1e7c6",
   "metadata": {},
   "outputs": [],
   "source": [
    "def preprocess(dataset):\n",
    "    def format_fn(element):\n",
    "        return (tf.reshape(element['image'], [784]))\n",
    "\n",
    "    return dataset.shuffle(100, seed=seed).map(format_fn)\n",
    "\n",
    "# Preprocess and get a list of datasets, one for each client\n",
    "client_data = [preprocess(mnist.create_tf_dataset_for_client(x))\n",
    "               for x in mnist.client_ids[0:NUM_CLIENTS]\n",
    "              ]"
   ]
  },
  {
   "cell_type": "markdown",
   "id": "194a3af8-f80c-4064-8810-dffcc938d638",
   "metadata": {},
   "source": [
    "## Building kmeans in the federated scenario"
   ]
  },
  {
   "cell_type": "markdown",
   "id": "64acc513-ed9b-4007-a1b1-4909daad26c4",
   "metadata": {},
   "source": [
    "Build kmeans indicating the number of clusters, the data shape, and optionally a tuple of random seeds."
   ]
  },
  {
   "cell_type": "code",
   "execution_count": 5,
   "id": "538836ae-e625-4cbb-a4f7-f4b885556977",
   "metadata": {},
   "outputs": [],
   "source": [
    "# KMeans \n",
    "fed_process = build_fed_kmeans(\n",
    "    num_clusters = 10,\n",
    "    random_seed = (seed, seed+1),\n",
    "    data_shape = (784,)\n",
    ")"
   ]
  },
  {
   "cell_type": "markdown",
   "id": "89f07be2-befa-446a-a27b-268fc99c91da",
   "metadata": {},
   "source": [
    "Initialize the federated process and run kmeans for NUM_ROUNDS rounds."
   ]
  },
  {
   "cell_type": "code",
   "execution_count": 6,
   "id": "1df44df3-02e1-470e-864f-507965333616",
   "metadata": {},
   "outputs": [
    {
     "name": "stderr",
     "output_type": "stream",
     "text": [
      "2023-05-23 09:57:05.636894: I tensorflow/core/grappler/devices.cc:66] Number of eligible GPUs (core count >= 8, compute capability >= 0.0): 0\n",
      "2023-05-23 09:57:05.636975: I tensorflow/core/grappler/clusters/single_machine.cc:358] Starting new session\n",
      "2023-05-23 09:57:05.644475: I tensorflow/core/grappler/devices.cc:66] Number of eligible GPUs (core count >= 8, compute capability >= 0.0): 0\n",
      "2023-05-23 09:57:05.644561: I tensorflow/core/grappler/clusters/single_machine.cc:358] Starting new session\n"
     ]
    }
   ],
   "source": [
    "fed_state = fed_process.initialize()"
   ]
  },
  {
   "cell_type": "code",
   "execution_count": 7,
   "id": "98954320-2446-4a4b-9cdb-5e5bdabb046f",
   "metadata": {},
   "outputs": [
    {
     "name": "stderr",
     "output_type": "stream",
     "text": [
      "2023-05-23 09:57:07.827400: I tensorflow/core/grappler/devices.cc:66] Number of eligible GPUs (core count >= 8, compute capability >= 0.0): 0\n",
      "2023-05-23 09:57:07.827545: I tensorflow/core/grappler/clusters/single_machine.cc:358] Starting new session\n",
      "2023-05-23 09:57:07.840965: I tensorflow/core/grappler/devices.cc:66] Number of eligible GPUs (core count >= 8, compute capability >= 0.0): 0\n",
      "2023-05-23 09:57:07.841058: I tensorflow/core/grappler/clusters/single_machine.cc:358] Starting new session\n",
      "2023-05-23 09:57:07.844566: I tensorflow/core/grappler/devices.cc:66] Number of eligible GPUs (core count >= 8, compute capability >= 0.0): 0\n",
      "2023-05-23 09:57:07.844656: I tensorflow/core/grappler/clusters/single_machine.cc:358] Starting new session\n",
      "2023-05-23 09:57:07.848630: I tensorflow/core/grappler/devices.cc:66] Number of eligible GPUs (core count >= 8, compute capability >= 0.0): 0\n",
      "2023-05-23 09:57:07.848679: I tensorflow/core/grappler/clusters/single_machine.cc:358] Starting new session\n",
      "2023-05-23 09:57:07.852745: I tensorflow/core/grappler/devices.cc:66] Number of eligible GPUs (core count >= 8, compute capability >= 0.0): 0\n",
      "2023-05-23 09:57:07.852856: I tensorflow/core/grappler/clusters/single_machine.cc:358] Starting new session\n",
      "2023-05-23 09:57:07.856732: I tensorflow/core/grappler/devices.cc:66] Number of eligible GPUs (core count >= 8, compute capability >= 0.0): 0\n",
      "2023-05-23 09:57:07.856815: I tensorflow/core/grappler/clusters/single_machine.cc:358] Starting new session\n",
      "2023-05-23 09:57:07.861947: I tensorflow/core/grappler/devices.cc:66] Number of eligible GPUs (core count >= 8, compute capability >= 0.0): 0\n",
      "2023-05-23 09:57:07.861997: I tensorflow/core/grappler/clusters/single_machine.cc:358] Starting new session\n",
      "2023-05-23 09:57:07.868642: I tensorflow/core/grappler/devices.cc:66] Number of eligible GPUs (core count >= 8, compute capability >= 0.0): 0\n",
      "2023-05-23 09:57:07.868741: I tensorflow/core/grappler/clusters/single_machine.cc:358] Starting new session\n"
     ]
    }
   ],
   "source": [
    "for round_num in range(1, NUM_ROUNDS+1):\n",
    "    # Train next round (send model to clients, local execution, and server model averaging)\n",
    "    result = fed_process.next(fed_state, client_data)\n",
    "    \n",
    "    # Current state of the model\n",
    "    fed_state = result.state"
   ]
  },
  {
   "cell_type": "markdown",
   "id": "63320095-5641-4029-b5bf-3b817486f2f0",
   "metadata": {
    "tags": []
   },
   "source": [
    "## Showing results"
   ]
  },
  {
   "cell_type": "markdown",
   "id": "853faaa4-ed8f-4463-9feb-922ea62a4994",
   "metadata": {},
   "source": [
    "Let's print some results, as the number of data points assigned to each cluster, and the different cluster centroids"
   ]
  },
  {
   "cell_type": "code",
   "execution_count": 8,
   "id": "53ef5ee7-484f-4848-822b-6cadb424ea40",
   "metadata": {},
   "outputs": [
    {
     "name": "stdout",
     "output_type": "stream",
     "text": [
      "Assignation of data examples to each cluster\n",
      "[ 55094  36729 139743  68711  47486  51657  65040  23503  51241  60806]\n",
      "\n",
      "Centroids:\n",
      "\t c0: [3.0700319e-06 1.1716238e-05 9.4955603e-06 ...  7.638804e-06 -4.758208e-05  6.353682e-06]\n",
      "\t c1: [-6.0597627e-05  3.8375314e-05 -6.3078851e-06 ...  1.8289855e-05 -1.7047128e-05  2.8148052e-05]\n",
      "\t c2: [-4.040224e-06  1.102012e-05 -3.484598e-06 ... -8.552833e-06 -5.938371e-06 -2.491736e-06]\n",
      "\t c3: [-2.9181876e-06 -1.0620230e-06 -2.6456198e-07 ...  1.1184980e-05 -3.0761712e-05  6.4156325e-06]\n",
      "\t c4: [-4.2209176e-05  6.1375329e-07  2.6055827e-06 ... -8.9833912e-07 -3.4075587e-05  3.6425776e-05]\n",
      "\t c5: [ 2.06467248e-05 -1.32299665e-05 -1.27021030e-05 ...  1.6132815e-05  9.3937109e-07 -8.9756668e-06]\n",
      "\t c6: [ 1.4344982e-05 -2.9590456e-05  2.3032255e-05 ...  1.6019998e-05  1.8676565e-05 -2.3828874e-05]\n",
      "\t c7: [ 8.6653759e-05 -4.4342989e-05 -2.2096896e-05 ... 6.183646e-05 4.678077e-07 6.491635e-05]\n",
      "\t c8: [-2.6130208e-05 -8.6667178e-06 -5.8681912e-06 ...  6.3931529e-06 -3.1591222e-05  5.0537365e-06]\n",
      "\t c9: [-8.3576224e-06  2.1312906e-05  5.8472106e-06 ...  7.8779776e-06  2.8003247e-05 -4.5115225e-06]\n"
     ]
    }
   ],
   "source": [
    "print('Assignation of data examples to each cluster')\n",
    "print(result.state.finalizer)\n",
    "print()\n",
    "print('Centroids:')\n",
    "\n",
    "i=0\n",
    "for c in result.state.global_model_weights:\n",
    "    print('\\t c' + str(i) + ': [' + str(c[0:3])[1:-1] + ' ... ' + str(c[-4:-1])[1:-1] + ']')\n",
    "    i += 1"
   ]
  },
  {
   "cell_type": "markdown",
   "id": "1f9ce256-f86f-4d67-bd3b-852c42116a87",
   "metadata": {
    "tags": []
   },
   "source": [
    "In the following cell, we plot the centroids, as if they were digits. It can be observed that most of the centroid comprise a solid representation of a given digit, while others may contain digits from different classes and its representation is more diffuse."
   ]
  },
  {
   "cell_type": "code",
   "execution_count": 9,
   "id": "9071039e-bb3b-4fd4-b675-baa4c5027401",
   "metadata": {},
   "outputs": [
    {
     "data": {
      "image/png": "[encoded data removed]",
      "text/plain": [
       "<Figure size 1000x1000 with 10 Axes>"
      ]
     },
     "metadata": {},
     "output_type": "display_data"
    }
   ],
   "source": [
    "%matplotlib inline\n",
    "\n",
    "list_images = [c.reshape((28,28)) for c in result.state.global_model_weights]\n",
    "list_titles = ['c' + str(i) for i in range(0,10)]\n",
    "\n",
    "fig, axes = plt.subplots(2, 5, figsize=(10, 10))\n",
    "list_axes = list(axes.flat)\n",
    "for i in range(len(list_images)):\n",
    "    list_axes[i].imshow(list_images[i], cmap='gray')\n",
    "    list_axes[i].set_title(list_titles[i], fontsize=10) \n",
    "    list_axes[i].axis('off')"
   ]
  },
  {
   "cell_type": "markdown",
   "id": "f83013bc-4d4d-4c97-881a-ced60ef5b660",
   "metadata": {},
   "source": [
    "## Comparison versus centralized k-means"
   ]
  },
  {
   "cell_type": "markdown",
   "id": "3257107d-dc3b-4331-9bd7-c7333db28056",
   "metadata": {},
   "source": [
    "In the following cells, the traditional centralized k-means is executed, so the centroids of the previous image can be compared against a typical k-means execution where all the data is together."
   ]
  },
  {
   "cell_type": "code",
   "execution_count": 10,
   "id": "17833de3-5543-4280-8fee-b7de2f872ff0",
   "metadata": {},
   "outputs": [],
   "source": [
    "# Load mnist from keras\n",
    "(x_train, y_train), (x_test, y_test) = keras.datasets.mnist.load_data()\n",
    "\n",
    "# Preprocess data\n",
    "X = x_train.reshape(len(x_train),-1)\n",
    "Y = y_train\n",
    "X = X.astype(float) / 255."
   ]
  },
  {
   "cell_type": "code",
   "execution_count": 11,
   "id": "31ac1c0a-5c1b-4b1b-8a96-0b164d3dfd72",
   "metadata": {},
   "outputs": [
    {
     "data": {
      "text/html": [
       "<style>#sk-container-id-1 {color: black;background-color: white;}#sk-container-id-1 pre{padding: 0;}#sk-container-id-1 div.sk-toggleable {background-color: white;}#sk-container-id-1 label.sk-toggleable__label {cursor: pointer;display: block;width: 100%;margin-bottom: 0;padding: 0.3em;box-sizing: border-box;text-align: center;}#sk-container-id-1 label.sk-toggleable__label-arrow:before {content: \"▸\";float: left;margin-right: 0.25em;color: #696969;}#sk-container-id-1 label.sk-toggleable__label-arrow:hover:before {color: black;}#sk-container-id-1 div.sk-estimator:hover label.sk-toggleable__label-arrow:before {color: black;}#sk-container-id-1 div.sk-toggleable__content {max-height: 0;max-width: 0;overflow: hidden;text-align: left;background-color: #f0f8ff;}#sk-container-id-1 div.sk-toggleable__content pre {margin: 0.2em;color: black;border-radius: 0.25em;background-color: #f0f8ff;}#sk-container-id-1 input.sk-toggleable__control:checked~div.sk-toggleable__content {max-height: 200px;max-width: 100%;overflow: auto;}#sk-container-id-1 input.sk-toggleable__control:checked~label.sk-toggleable__label-arrow:before {content: \"▾\";}#sk-container-id-1 div.sk-estimator input.sk-toggleable__control:checked~label.sk-toggleable__label {background-color: #d4ebff;}#sk-container-id-1 div.sk-label input.sk-toggleable__control:checked~label.sk-toggleable__label {background-color: #d4ebff;}#sk-container-id-1 input.sk-hidden--visually {border: 0;clip: rect(1px 1px 1px 1px);clip: rect(1px, 1px, 1px, 1px);height: 1px;margin: -1px;overflow: hidden;padding: 0;position: absolute;width: 1px;}#sk-container-id-1 div.sk-estimator {font-family: monospace;background-color: #f0f8ff;border: 1px dotted black;border-radius: 0.25em;box-sizing: border-box;margin-bottom: 0.5em;}#sk-container-id-1 div.sk-estimator:hover {background-color: #d4ebff;}#sk-container-id-1 div.sk-parallel-item::after {content: \"\";width: 100%;border-bottom: 1px solid gray;flex-grow: 1;}#sk-container-id-1 div.sk-label:hover label.sk-toggleable__label {background-color: #d4ebff;}#sk-container-id-1 div.sk-serial::before {content: \"\";position: absolute;border-left: 1px solid gray;box-sizing: border-box;top: 0;bottom: 0;left: 50%;z-index: 0;}#sk-container-id-1 div.sk-serial {display: flex;flex-direction: column;align-items: center;background-color: white;padding-right: 0.2em;padding-left: 0.2em;position: relative;}#sk-container-id-1 div.sk-item {position: relative;z-index: 1;}#sk-container-id-1 div.sk-parallel {display: flex;align-items: stretch;justify-content: center;background-color: white;position: relative;}#sk-container-id-1 div.sk-item::before, #sk-container-id-1 div.sk-parallel-item::before {content: \"\";position: absolute;border-left: 1px solid gray;box-sizing: border-box;top: 0;bottom: 0;left: 50%;z-index: -1;}#sk-container-id-1 div.sk-parallel-item {display: flex;flex-direction: column;z-index: 1;position: relative;background-color: white;}#sk-container-id-1 div.sk-parallel-item:first-child::after {align-self: flex-end;width: 50%;}#sk-container-id-1 div.sk-parallel-item:last-child::after {align-self: flex-start;width: 50%;}#sk-container-id-1 div.sk-parallel-item:only-child::after {width: 0;}#sk-container-id-1 div.sk-dashed-wrapped {border: 1px dashed gray;margin: 0 0.4em 0.5em 0.4em;box-sizing: border-box;padding-bottom: 0.4em;background-color: white;}#sk-container-id-1 div.sk-label label {font-family: monospace;font-weight: bold;display: inline-block;line-height: 1.2em;}#sk-container-id-1 div.sk-label-container {text-align: center;}#sk-container-id-1 div.sk-container {/* jupyter's `normalize.less` sets `[hidden] { display: none; }` but bootstrap.min.css set `[hidden] { display: none !important; }` so we also need the `!important` here to be able to override the default hidden behavior on the sphinx rendered scikit-learn.org. See: https://github.com/scikit-learn/scikit-learn/issues/21755 */display: inline-block !important;position: relative;}#sk-container-id-1 div.sk-text-repr-fallback {display: none;}</style><div id=\"sk-container-id-1\" class=\"sk-top-container\"><div class=\"sk-text-repr-fallback\"><pre>MiniBatchKMeans(max_iter=10, n_clusters=10, n_init=1)</pre><b>In a Jupyter environment, please rerun this cell to show the HTML representation or trust the notebook. <br />On GitHub, the HTML representation is unable to render, please try loading this page with nbviewer.org.</b></div><div class=\"sk-container\" hidden><div class=\"sk-item\"><div class=\"sk-estimator sk-toggleable\"><input class=\"sk-toggleable__control sk-hidden--visually\" id=\"sk-estimator-id-1\" type=\"checkbox\" checked><label for=\"sk-estimator-id-1\" class=\"sk-toggleable__label sk-toggleable__label-arrow\">MiniBatchKMeans</label><div class=\"sk-toggleable__content\"><pre>MiniBatchKMeans(max_iter=10, n_clusters=10, n_init=1)</pre></div></div></div></div></div>"
      ],
      "text/plain": [
       "MiniBatchKMeans(max_iter=10, n_clusters=10, n_init=1)"
      ]
     },
     "execution_count": 11,
     "metadata": {},
     "output_type": "execute_result"
    }
   ],
   "source": [
    "# Initialize KMeans model\n",
    "kmeans = MiniBatchKMeans(\n",
    "    n_clusters = 10,\n",
    "    n_init=1,\n",
    "    max_iter=NUM_ROUNDS,\n",
    ")\n",
    "\n",
    "# Fit the model to the training data\n",
    "kmeans.fit(X)"
   ]
  },
  {
   "cell_type": "code",
   "execution_count": 12,
   "id": "ed54c35f-f210-4e8c-beb0-13d6f337eba9",
   "metadata": {
    "tags": []
   },
   "outputs": [
    {
     "data": {
      "image/png": "[encoded data removed]",
      "text/plain": [
       "<Figure size 1000x1000 with 10 Axes>"
      ]
     },
     "metadata": {},
     "output_type": "display_data"
    }
   ],
   "source": [
    "# Plot centroids\n",
    "%matplotlib inline\n",
    "\n",
    "list_images = [c.reshape((28,28)) for c in kmeans.cluster_centers_]\n",
    "list_titles = ['c' + str(i) for i in range(0,10)]\n",
    "\n",
    "fig, axes = plt.subplots(2, 5, figsize=(10, 10))\n",
    "list_axes = list(axes.flat)\n",
    "for i in range(len(list_images)):\n",
    "    list_axes[i].imshow(list_images[i], cmap='gray')\n",
    "    list_axes[i].set_title(list_titles[i], fontsize=10) \n",
    "    list_axes[i].axis('off')"
   ]
  }
 ],
 "metadata": {
  "kernelspec": {
   "display_name": "Python 3 (ipykernel)",
   "language": "python",
   "name": "python3"
  },
  "language_info": {
   "codemirror_mode": {
    "name": "ipython",
    "version": 3
   },
   "file_extension": ".py",
   "mimetype": "text/x-python",
   "name": "python",
   "nbconvert_exporter": "python",
   "pygments_lexer": "ipython3",
   "version": "3.10.12"
  }
 },
 "nbformat": 4,
 "nbformat_minor": 5
}
