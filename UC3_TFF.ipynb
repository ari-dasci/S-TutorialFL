{
 "cells": [
  {
   "cell_type": "markdown",
   "id": "eeee07ed",
   "metadata": {
    "id": "eeee07ed"
   },
   "source": [
    "# **USE CASE 3.** Sentiment analysis in TFF"
   ]
  },
  {
   "cell_type": "markdown",
   "id": "dc8ce533",
   "metadata": {
    "id": "dc8ce533"
   },
   "source": [
    "## Required libraries and configuration"
   ]
  },
  {
   "cell_type": "markdown",
   "id": "b2f84832",
   "metadata": {
    "id": "b2f84832"
   },
   "source": [
    "\n",
    "Import required libraries"
   ]
  },
  {
   "cell_type": "code",
   "execution_count": 1,
   "id": "aacb8d4a",
   "metadata": {
    "id": "aacb8d4a"
   },
   "outputs": [
    {
     "name": "stderr",
     "output_type": "stream",
     "text": [
      "2023-05-10 09:51:42.199009: I tensorflow/tsl/cuda/cudart_stub.cc:28] Could not find cuda drivers on your machine, GPU will not be used.\n",
      "2023-05-10 09:51:42.387710: I tensorflow/tsl/cuda/cudart_stub.cc:28] Could not find cuda drivers on your machine, GPU will not be used.\n",
      "2023-05-10 09:51:42.389129: I tensorflow/core/platform/cpu_feature_guard.cc:182] This TensorFlow binary is optimized to use available CPU instructions in performance-critical operations.\n",
      "To enable the following instructions: AVX2 FMA, in other operations, rebuild TensorFlow with the appropriate compiler flags.\n",
      "2023-05-10 09:51:43.375786: W tensorflow/compiler/tf2tensorrt/utils/py_utils.cc:38] TF-TRT Warning: Could not find TensorRT\n",
      "/home/jose/tff/tff_venv/lib/python3.10/site-packages/tqdm/auto.py:21: TqdmWarning: IProgress not found. Please update jupyter and ipywidgets. See https://ipywidgets.readthedocs.io/en/stable/user_install.html\n",
      "  from .autonotebook import tqdm as notebook_tqdm\n"
     ]
    }
   ],
   "source": [
    "import os\n",
    "\n",
    "import collections\n",
    "import random\n",
    "import re\n",
    "\n",
    "import numpy as np\n",
    "import pandas as pd\n",
    "import tensorflow as tf\n",
    "import tensorflow_federated as tff\n",
    "import tensorflow_datasets as tfds\n",
    "import tensorflow_hub as hub\n",
    "\n",
    "from tensorflow_federated.python.learning.algorithms import build_unweighted_fed_avg, build_fed_eval\n",
    "from tensorflow.keras import models, layers, losses, metrics, optimizers\n",
    "\n",
    "# Option for debugging warning errors\n",
    "os.environ['TF_CPP_MIN_LOG_LEVEL'] = '2' "
   ]
  },
  {
   "cell_type": "markdown",
   "id": "34eb3038",
   "metadata": {
    "id": "34eb3038"
   },
   "source": [
    "Define some parameters for the simulation, such as the number of clients in the federated scenario, the number of federated rounds, the number of epochs of each client before communicating, and the batch size for training phase"
   ]
  },
  {
   "cell_type": "code",
   "execution_count": 2,
   "id": "3f261f80-3add-4948-a346-d0b7fa950f60",
   "metadata": {},
   "outputs": [],
   "source": [
    "# Some parameters\n",
    "NUM_CLIENTS = 10 # Number of clients in the federated scenario\n",
    "NUM_ROUNDS = 10 # Number of learning rounds in the federated computation\n",
    "NUM_EPOCHS = 5 # Number of epochs that the local dataset is seen each round\n",
    "BATCH_SIZE = 20 # Batch size for training phase\n",
    "SHUFFLE_BUFFER = 1000 # For dataset shuffling\n",
    "\n",
    "# Define the seed for random numbers\n",
    "seed = 10\n",
    "np.random.seed(seed)\n",
    "tf.random.set_seed(seed)\n",
    "tf.keras.utils.set_random_seed(seed)"
   ]
  },
  {
   "cell_type": "markdown",
   "id": "ec8e2274-b644-4306-9aba-4c1577a1890d",
   "metadata": {},
   "source": [
    "## Methods for text processing"
   ]
  },
  {
   "cell_type": "markdown",
   "id": "2576db5f-f4c7-4a55-9fa0-d17fb6874136",
   "metadata": {},
   "source": [
    "The following method cleans each tweet by removing urls, since they do not provide any valuable sentiment information. Other unuseful characters are also removed, such as the punctuation marks, whitespaces and numbers. Finally, in order treat the text equally, all the characters are converted to lowercase."
   ]
  },
  {
   "cell_type": "code",
   "execution_count": 3,
   "id": "ecdd95f0",
   "metadata": {
    "id": "ecdd95f0"
   },
   "outputs": [],
   "source": [
    "def text_processing(tweet):\n",
    "    if isinstance(tweet, bytes):\n",
    "        tweet = tweet.decode('utf-8')\n",
    "        \n",
    "    # remove https links\n",
    "    clean_tweet = re.sub(r'http\\S+', '', tweet)\n",
    "    \n",
    "    # remove punctuation marks\n",
    "    punctuation = '!\"#$%&()*+-/:;<=>?@[\\\\]^_`{|}~'\n",
    "    clean_tweet = ''.join(ch for ch in clean_tweet if ch not in set(punctuation))\n",
    "    \n",
    "    # remove numbers\n",
    "    clean_tweet = re.sub('\\d', ' ', clean_tweet)\n",
    "    \n",
    "    # remove whitespaces\n",
    "    clean_tweet = ' '.join(clean_tweet.split())\n",
    "    \n",
    "    # convert text to lowercase\n",
    "    clean_tweet = clean_tweet.lower()\n",
    "    \n",
    "    return clean_tweet"
   ]
  },
  {
   "cell_type": "markdown",
   "id": "e91e9c7e",
   "metadata": {
    "id": "e91e9c7e",
    "tags": []
   },
   "source": [
    "## Loading and preparing the input data"
   ]
  },
  {
   "cell_type": "markdown",
   "id": "3e45bf73",
   "metadata": {
    "id": "3e45bf73"
   },
   "source": [
    "The Sentiment140 dataset is not available in TFF, so it needs to be loaded from other source such as the tfds (tensorflow datasets) library. Then, it is adapted to the TFF format, so it can be used to train a model using TFF.\n",
    "\n",
    "Note: We download the full Sentiment140 dataset, but in order to be able to execute the experiments in reasonable time, we are going to use a portion of it. In this notebook we are selecting just 1% of the data for training and 10% for testing purposes."
   ]
  },
  {
   "cell_type": "code",
   "execution_count": 4,
   "id": "653e0fda",
   "metadata": {
    "id": "653e0fda",
    "outputId": "8c4b01c4-1505-4c22-b92e-f98d78246a00"
   },
   "outputs": [],
   "source": [
    "sent140 = tfds.load('sentiment140', split=['train[:1%]', 'test[:10%]'])\n",
    "sent140_train, sent140_test = sent140[0], sent140[1]"
   ]
  },
  {
   "cell_type": "code",
   "execution_count": 5,
   "id": "249db4ad-1c2f-464a-9a07-182fea23a38d",
   "metadata": {
    "tags": []
   },
   "outputs": [
    {
     "data": {
      "text/plain": [
       "16000"
      ]
     },
     "execution_count": 5,
     "metadata": {},
     "output_type": "execute_result"
    }
   ],
   "source": [
    "# Print size of the training set, i.e., number of instances\n",
    "len(sent140_train)"
   ]
  },
  {
   "cell_type": "markdown",
   "id": "2571c2a5-118e-4486-99c1-8c238741ef81",
   "metadata": {},
   "source": [
    "Select the text and polarity columns from the original data, and transform it to a dataframe so it can be later used in TFF.\n",
    "\n",
    "At this point, we do not select the 'user' column because we will create random IID partitions, so the 'user' column is not neccesary. If the user want to try it with non-IID partition, he/she may also keep the 'user' column and use it as client identifier instead of the following random user ID. "
   ]
  },
  {
   "cell_type": "code",
   "execution_count": 6,
   "id": "94e506c3-60bc-40b4-936b-df14d939aa56",
   "metadata": {
    "tags": []
   },
   "outputs": [
    {
     "name": "stderr",
     "output_type": "stream",
     "text": [
      "2023-05-10 09:51:47.017035: I tensorflow/core/common_runtime/executor.cc:1197] [/device:CPU:0] (DEBUG INFO) Executor start aborting (this does not indicate an error and you can ignore this message): INVALID_ARGUMENT: You must feed a value for placeholder tensor 'Placeholder/_4' with dtype int64 and shape [1]\n",
      "\t [[{{node Placeholder/_4}}]]\n",
      "2023-05-10 09:51:47.017376: I tensorflow/core/common_runtime/executor.cc:1197] [/device:CPU:0] (DEBUG INFO) Executor start aborting (this does not indicate an error and you can ignore this message): INVALID_ARGUMENT: You must feed a value for placeholder tensor 'Placeholder/_2' with dtype string and shape [1]\n",
      "\t [[{{node Placeholder/_2}}]]\n",
      "/tmp/ipykernel_18534/1257977802.py:5: SettingWithCopyWarning: \n",
      "A value is trying to be set on a copy of a slice from a DataFrame.\n",
      "Try using .loc[row_indexer,col_indexer] = value instead\n",
      "\n",
      "See the caveats in the documentation: https://pandas.pydata.org/pandas-docs/stable/user_guide/indexing.html#returning-a-view-versus-a-copy\n",
      "  sent140_train_df['text'] = sent140_train_df['text'].apply(lambda x: text_processing(x))\n"
     ]
    }
   ],
   "source": [
    "# Transform the data to a dataframe\n",
    "sent140_train_df = tfds.as_dataframe(sent140_train)[['text', 'polarity']]\n",
    "\n",
    "# Preprocess and clean text with previously defined method\n",
    "sent140_train_df['text'] = sent140_train_df['text'].apply(lambda x: text_processing(x))"
   ]
  },
  {
   "cell_type": "code",
   "execution_count": 7,
   "id": "8d9b8622-5e37-4dce-8c85-999bb9e5038c",
   "metadata": {
    "tags": []
   },
   "outputs": [
    {
     "name": "stderr",
     "output_type": "stream",
     "text": [
      "/tmp/ipykernel_18534/966193511.py:6: SettingWithCopyWarning: \n",
      "A value is trying to be set on a copy of a slice from a DataFrame.\n",
      "Try using .loc[row_indexer,col_indexer] = value instead\n",
      "\n",
      "See the caveats in the documentation: https://pandas.pydata.org/pandas-docs/stable/user_guide/indexing.html#returning-a-view-versus-a-copy\n",
      "  sent140_train_df['user'] = ids_train\n"
     ]
    }
   ],
   "source": [
    "# Create a random list of ids. Each instance is given a random id, indicating the client where will be distributed\n",
    "ids_train = [i for i in range(NUM_CLIENTS) for _ in range(len(sent140_train)//NUM_CLIENTS)]\n",
    "random.Random(seed).shuffle(ids_train)\n",
    "\n",
    "# Add the id assignment to the dataframe\n",
    "sent140_train_df['user'] = ids_train"
   ]
  },
  {
   "cell_type": "code",
   "execution_count": 8,
   "id": "fc34c3e1-26f0-4b1c-baeb-1e353aa945f2",
   "metadata": {
    "tags": []
   },
   "outputs": [
    {
     "name": "stderr",
     "output_type": "stream",
     "text": [
      "2023-05-10 09:51:51.157269: I tensorflow/core/common_runtime/executor.cc:1197] [/device:CPU:0] (DEBUG INFO) Executor start aborting (this does not indicate an error and you can ignore this message): INVALID_ARGUMENT: You must feed a value for placeholder tensor 'Placeholder/_4' with dtype int64 and shape [1]\n",
      "\t [[{{node Placeholder/_4}}]]\n",
      "2023-05-10 09:51:51.157575: I tensorflow/core/common_runtime/executor.cc:1197] [/device:CPU:0] (DEBUG INFO) Executor start aborting (this does not indicate an error and you can ignore this message): INVALID_ARGUMENT: You must feed a value for placeholder tensor 'Placeholder/_4' with dtype int64 and shape [1]\n",
      "\t [[{{node Placeholder/_4}}]]\n",
      "/tmp/ipykernel_18534/2995883276.py:3: SettingWithCopyWarning: \n",
      "A value is trying to be set on a copy of a slice from a DataFrame.\n",
      "Try using .loc[row_indexer,col_indexer] = value instead\n",
      "\n",
      "See the caveats in the documentation: https://pandas.pydata.org/pandas-docs/stable/user_guide/indexing.html#returning-a-view-versus-a-copy\n",
      "  sent140_test_df['text'] = sent140_test_df['text'].apply(lambda x: text_processing(x))\n",
      "/tmp/ipykernel_18534/2995883276.py:6: SettingWithCopyWarning: \n",
      "A value is trying to be set on a copy of a slice from a DataFrame.\n",
      "Try using .loc[row_indexer,col_indexer] = value instead\n",
      "\n",
      "See the caveats in the documentation: https://pandas.pydata.org/pandas-docs/stable/user_guide/indexing.html#returning-a-view-versus-a-copy\n",
      "  sent140_test_df['user'] = ids_test\n"
     ]
    }
   ],
   "source": [
    "# Do the same with the test data\n",
    "sent140_test_df = tfds.as_dataframe(sent140_test)[['text', 'polarity']]\n",
    "sent140_test_df['text'] = sent140_test_df['text'].apply(lambda x: text_processing(x))\n",
    "ids_test = [i for i in range(NUM_CLIENTS) for _ in range(len(sent140_test)//NUM_CLIENTS)]\n",
    "random.Random(seed+1).shuffle(ids_test)\n",
    "sent140_test_df['user'] = ids_test"
   ]
  },
  {
   "cell_type": "markdown",
   "id": "41f37930-47fa-4d96-8b4a-cc1cd9f7ed91",
   "metadata": {},
   "source": [
    "For the sake of simplicity, in this notebook we will be dealing with a binary problem. For that purpose, we remove the neutral tweets, so the classifier's aim is to differentiate between positive and negative tweets. "
   ]
  },
  {
   "cell_type": "code",
   "execution_count": 9,
   "id": "c4165f12-9c79-4f4d-b8e6-4f8c62f8ba77",
   "metadata": {
    "tags": []
   },
   "outputs": [
    {
     "name": "stderr",
     "output_type": "stream",
     "text": [
      "/tmp/ipykernel_18534/1513210468.py:7: SettingWithCopyWarning: \n",
      "A value is trying to be set on a copy of a slice from a DataFrame.\n",
      "Try using .loc[row_indexer,col_indexer] = value instead\n",
      "\n",
      "See the caveats in the documentation: https://pandas.pydata.org/pandas-docs/stable/user_guide/indexing.html#returning-a-view-versus-a-copy\n",
      "  df['polarity'] = df['polarity'].replace(4, 1)\n"
     ]
    }
   ],
   "source": [
    "# Convert into binary problem by deleting neutral opinions\n",
    "def delete_neutral_ops(df):\n",
    "    # Remove those tweets whose polarity is 2, i.e., neutral\n",
    "    df = df.loc[df['polarity']!=2]\n",
    "    \n",
    "    # For ease of representation, replace class 4 (i.e., positive sentiment) by 1.\n",
    "    df['polarity'] = df['polarity'].replace(4, 1)\n",
    "    \n",
    "    return df\n",
    "\n",
    "# Transform both trainin and testing dataframes to a binary problem\n",
    "sent140_train_df = delete_neutral_ops(sent140_train_df)\n",
    "sent140_test_df = delete_neutral_ops(sent140_test_df)"
   ]
  },
  {
   "cell_type": "markdown",
   "id": "6b40611f",
   "metadata": {
    "id": "6b40611f"
   },
   "source": [
    "After getting the ID's, it is necessary to create a function that convert the dataset into a TF Dataset for each client by using the client_id's."
   ]
  },
  {
   "cell_type": "code",
   "execution_count": 10,
   "id": "304cb5de",
   "metadata": {
    "id": "304cb5de"
   },
   "outputs": [],
   "source": [
    "# This method receives a client_id, and returns the training tf.data.Dataset for that client\n",
    "def create_tf_dataset_for_client_fn_train(client_id):\n",
    "    client_data = sent140_train_df[sent140_train_df['user'] == client_id].drop(columns='user')\n",
    "    dataset = tf.data.Dataset.from_tensor_slices(client_data.to_dict('list'))\n",
    "    dataset = dataset.shuffle(SHUFFLE_BUFFER).batch(BATCH_SIZE).repeat(NUM_EPOCHS)\n",
    "    return dataset\n",
    "\n",
    "# This method receives a client_id, and returns the testing tf.data.Dataset for that client\n",
    "def create_tf_dataset_for_client_fn_test(client_id):\n",
    "    client_data = sent140_test_df[sent140_test_df['user'] == client_id].drop(columns='user')\n",
    "    dataset = tf.data.Dataset.from_tensor_slices(client_data.to_dict('list'))\n",
    "    dataset = dataset.shuffle(SHUFFLE_BUFFER).batch(1).repeat(NUM_EPOCHS)\n",
    "    return dataset"
   ]
  },
  {
   "cell_type": "markdown",
   "id": "1548cd28",
   "metadata": {
    "id": "1548cd28"
   },
   "source": [
    "Create the train and the test datasets using the function created above."
   ]
  },
  {
   "cell_type": "code",
   "execution_count": 11,
   "id": "6a067302",
   "metadata": {
    "id": "6a067302"
   },
   "outputs": [],
   "source": [
    "sent140_train = tff.simulation.datasets.ClientData.from_clients_and_tf_fn(\n",
    "    client_ids=list(range(0,NUM_CLIENTS)),\n",
    "    serializable_dataset_fn=create_tf_dataset_for_client_fn_train\n",
    ")\n",
    "\n",
    "sent140_test = tff.simulation.datasets.ClientData.from_clients_and_tf_fn(\n",
    "    client_ids=list(range(0,NUM_CLIENTS)),\n",
    "    serializable_dataset_fn=create_tf_dataset_for_client_fn_test\n",
    ")"
   ]
  },
  {
   "cell_type": "markdown",
   "id": "923618e5",
   "metadata": {
    "id": "923618e5"
   },
   "source": [
    "Create and prepare the federated dataset.\n",
    " * The elements are distributed to the clients by id.\n",
    " * The dataset is converted into an OrderedDict structure, where the tweets are referred as *text* and the polarities as *polarity*."
   ]
  },
  {
   "cell_type": "code",
   "execution_count": 12,
   "id": "537ca4e4",
   "metadata": {
    "id": "537ca4e4"
   },
   "outputs": [],
   "source": [
    "def preprocess(dataset):\n",
    "    def batch_format_fn(element):\n",
    "        return collections.OrderedDict(\n",
    "            x=element['text'],\n",
    "            y=element['polarity']\n",
    "        )\n",
    "\n",
    "    return dataset.map(batch_format_fn)\n",
    "\n",
    "# Create a list of datasets (one for each client) from the complete dataset and the number of clients\n",
    "def make_federated_data(client_data, n_clients):    \n",
    "    return [\n",
    "        preprocess(client_data.create_tf_dataset_for_client(x)) # Call previous preprocess method\n",
    "        for x in client_data.client_ids[0:n_clients]\n",
    "    ]\n",
    "\n",
    "# Create the final federated train and testing data\n",
    "train_data = make_federated_data(sent140_train, NUM_CLIENTS)\n",
    "test_data = make_federated_data(sent140_test, NUM_CLIENTS)"
   ]
  },
  {
   "cell_type": "markdown",
   "id": "88ce9242",
   "metadata": {
    "id": "88ce9242"
   },
   "source": [
    "## Create a Deep Learning model"
   ]
  },
  {
   "cell_type": "markdown",
   "id": "f6b0c911",
   "metadata": {
    "id": "f6b0c911"
   },
   "source": [
    "In this case we use a model composed by a pre-trained model from tfhub, as well as dense layers. The pre-trained model is not updated in the example; however, the ``trainable`` parameter can be set to ``True``, so such layers are also fine-tuned in the collaborative training.\n",
    "\n",
    "Note that any network architecture supported by keras can be used."
   ]
  },
  {
   "cell_type": "code",
   "execution_count": 13,
   "id": "8f60ebcd",
   "metadata": {
    "id": "8f60ebcd"
   },
   "outputs": [],
   "source": [
    "def create_keras_model():\n",
    "    # Load pre-trained model\n",
    "    model = \"https://tfhub.dev/google/nnlm-en-dim128-with-normalization/2\"\n",
    "    hub_layer = hub.KerasLayer(model, input_shape=[], dtype=tf.string, trainable=False)\n",
    "    \n",
    "    # Set model layers\n",
    "    model = tf.keras.Sequential()\n",
    "    model.add(hub_layer)\n",
    "    model.add(tf.keras.layers.Dense(16, activation='relu'))\n",
    "    model.add(tf.keras.layers.Dense(1))\n",
    "    \n",
    "    return model"
   ]
  },
  {
   "cell_type": "code",
   "execution_count": 14,
   "id": "e6a0e32a-f4f4-4a40-adc1-592fcdb8b056",
   "metadata": {
    "tags": []
   },
   "outputs": [],
   "source": [
    "def model_fn():\n",
    "    # We _must_ create a new model here, and _not_ capture it from an external\n",
    "    # scope. TFF will call this within different graph contexts.\n",
    "    keras_model = create_keras_model()\n",
    "    \n",
    "    input_spec = train_data[0].element_spec\n",
    "    \n",
    "    return tff.learning.models.from_keras_model(\n",
    "        keras_model,\n",
    "        input_spec=input_spec,\n",
    "        loss=losses.BinaryCrossentropy(from_logits=True),\n",
    "        metrics=[metrics.BinaryAccuracy(threshold=0.0, name='accuracy')]\n",
    "    )"
   ]
  },
  {
   "cell_type": "markdown",
   "id": "482d7141",
   "metadata": {
    "id": "482d7141"
   },
   "source": [
    "## Training in the federated scenario"
   ]
  },
  {
   "cell_type": "markdown",
   "id": "9dd267dc",
   "metadata": {
    "id": "9dd267dc"
   },
   "source": [
    "Train with the unweighted FedAvg algorithm.\n",
    "We define the model to use, as well as the optimizer for the clients and server (in both, we are using Adam but with different learning rate)."
   ]
  },
  {
   "cell_type": "code",
   "execution_count": 15,
   "id": "53cf849b",
   "metadata": {
    "id": "53cf849b",
    "outputId": "3c27d437-da92-41b9-820a-2a190f44c0dd",
    "scrolled": true
   },
   "outputs": [
    {
     "name": "stderr",
     "output_type": "stream",
     "text": [
      "2023-05-10 09:51:51.919499: I tensorflow/core/common_runtime/executor.cc:1197] [/device:CPU:0] (DEBUG INFO) Executor start aborting (this does not indicate an error and you can ignore this message): INVALID_ARGUMENT: You must feed a value for placeholder tensor 'sentences' with dtype string and shape [?]\n",
      "\t [[{{node sentences}}]]\n",
      "2023-05-10 09:51:51.922945: I tensorflow/core/common_runtime/executor.cc:1197] [/device:CPU:0] (DEBUG INFO) Executor start aborting (this does not indicate an error and you can ignore this message): INVALID_ARGUMENT: You must feed a value for placeholder tensor 'keras_layer_input' with dtype string and shape [?]\n",
      "\t [[{{node keras_layer_input}}]]\n",
      "2023-05-10 09:51:52.160359: I tensorflow/core/common_runtime/executor.cc:1197] [/device:CPU:0] (DEBUG INFO) Executor start aborting (this does not indicate an error and you can ignore this message): INVALID_ARGUMENT: You must feed a value for placeholder tensor 'sentences' with dtype string and shape [?]\n",
      "\t [[{{node sentences}}]]\n",
      "2023-05-10 09:51:52.164131: I tensorflow/core/common_runtime/executor.cc:1197] [/device:CPU:0] (DEBUG INFO) Executor start aborting (this does not indicate an error and you can ignore this message): INVALID_ARGUMENT: You must feed a value for placeholder tensor 'keras_layer_input' with dtype string and shape [?]\n",
      "\t [[{{node keras_layer_input}}]]\n",
      "2023-05-10 09:51:52.836066: I tensorflow/core/common_runtime/executor.cc:1197] [/device:CPU:0] (DEBUG INFO) Executor start aborting (this does not indicate an error and you can ignore this message): INVALID_ARGUMENT: You must feed a value for placeholder tensor 'sentences' with dtype string and shape [?]\n",
      "\t [[{{node sentences}}]]\n",
      "2023-05-10 09:51:52.841488: I tensorflow/core/common_runtime/executor.cc:1197] [/device:CPU:0] (DEBUG INFO) Executor start aborting (this does not indicate an error and you can ignore this message): INVALID_ARGUMENT: You must feed a value for placeholder tensor 'keras_layer_input' with dtype string and shape [?]\n",
      "\t [[{{node keras_layer_input}}]]\n",
      "2023-05-10 09:51:53.243910: I tensorflow/core/common_runtime/executor.cc:1197] [/device:CPU:0] (DEBUG INFO) Executor start aborting (this does not indicate an error and you can ignore this message): INVALID_ARGUMENT: You must feed a value for placeholder tensor 'x' with dtype string and shape [?]\n",
      "\t [[{{node x}}]]\n",
      "2023-05-10 09:51:53.261520: I tensorflow/core/common_runtime/executor.cc:1197] [/device:CPU:0] (DEBUG INFO) Executor start aborting (this does not indicate an error and you can ignore this message): INVALID_ARGUMENT: You must feed a value for placeholder tensor 'batch_input' with dtype string and shape [?]\n",
      "\t [[{{node batch_input}}]]\n",
      "2023-05-10 09:51:53.603763: I tensorflow/core/common_runtime/executor.cc:1197] [/device:CPU:0] (DEBUG INFO) Executor start aborting (this does not indicate an error and you can ignore this message): INVALID_ARGUMENT: You must feed a value for placeholder tensor 'args_1' with dtype string and shape [?]\n",
      "\t [[{{node args_1}}]]\n",
      "2023-05-10 09:51:53.683805: I tensorflow/core/common_runtime/executor.cc:1197] [/device:CPU:0] (DEBUG INFO) Executor start aborting (this does not indicate an error and you can ignore this message): INVALID_ARGUMENT: You must feed a value for placeholder tensor 'gradients/StatefulPartitionedCall_1_grad/StatefulPartitionedCall_1' with dtype float and shape [?,128]\n",
      "\t [[{{node gradients/StatefulPartitionedCall_1_grad/StatefulPartitionedCall_1}}]]\n",
      "2023-05-10 09:51:53.683876: I tensorflow/core/common_runtime/executor.cc:1197] [/device:CPU:0] (DEBUG INFO) Executor start aborting (this does not indicate an error and you can ignore this message): INVALID_ARGUMENT: You must feed a value for placeholder tensor 'gradients/StatefulPartitionedCall_1_grad/StatefulPartitionedCall_1_3' with dtype int64 and shape [?]\n",
      "\t [[{{node gradients/StatefulPartitionedCall_1_grad/StatefulPartitionedCall_1_3}}]]\n",
      "2023-05-10 09:51:53.689279: I tensorflow/core/common_runtime/executor.cc:1197] [/device:CPU:0] (DEBUG INFO) Executor start aborting (this does not indicate an error and you can ignore this message): INVALID_ARGUMENT: You must feed a value for placeholder tensor 'gradients/sequential/keras_layer/StatefulPartitionedCall_1_grad/sequential/keras_layer/StatefulPartitionedCall_1' with dtype float and shape [?,128]\n",
      "\t [[{{node gradients/sequential/keras_layer/StatefulPartitionedCall_1_grad/sequential/keras_layer/StatefulPartitionedCall_1}}]]\n",
      "2023-05-10 09:51:53.689339: I tensorflow/core/common_runtime/executor.cc:1197] [/device:CPU:0] (DEBUG INFO) Executor start aborting (this does not indicate an error and you can ignore this message): INVALID_ARGUMENT: You must feed a value for placeholder tensor 'gradients/sequential/keras_layer/StatefulPartitionedCall_1_grad/sequential/keras_layer/StatefulPartitionedCall_1_3' with dtype int64 and shape [?]\n",
      "\t [[{{node gradients/sequential/keras_layer/StatefulPartitionedCall_1_grad/sequential/keras_layer/StatefulPartitionedCall_1_3}}]]\n",
      "2023-05-10 09:51:53.700571: I tensorflow/core/common_runtime/executor.cc:1197] [/device:CPU:0] (DEBUG INFO) Executor start aborting (this does not indicate an error and you can ignore this message): INVALID_ARGUMENT: You must feed a value for placeholder tensor 'gradients/StatefulPartitionedCall_1_grad/StatefulPartitionedCall_1_4' with dtype float and shape [?,128]\n",
      "\t [[{{node gradients/StatefulPartitionedCall_1_grad/StatefulPartitionedCall_1_4}}]]\n",
      "2023-05-10 09:51:53.700642: I tensorflow/core/common_runtime/executor.cc:1197] [/device:CPU:0] (DEBUG INFO) Executor start aborting (this does not indicate an error and you can ignore this message): INVALID_ARGUMENT: You must feed a value for placeholder tensor 'gradients/StatefulPartitionedCall_1_grad/StatefulPartitionedCall_1_7' with dtype int64 and shape [?]\n",
      "\t [[{{node gradients/StatefulPartitionedCall_1_grad/StatefulPartitionedCall_1_7}}]]\n"
     ]
    }
   ],
   "source": [
    "training_process = build_unweighted_fed_avg(\n",
    "    model_fn,\n",
    "    client_optimizer_fn=lambda: optimizers.Adam(learning_rate=0.001),\n",
    "    server_optimizer_fn=lambda: optimizers.Adam(learning_rate=0.01)\n",
    ")"
   ]
  },
  {
   "cell_type": "markdown",
   "id": "2e088342",
   "metadata": {},
   "source": [
    "Initialize the training process and run it for NUM_ROUNDS rounds of federated learning"
   ]
  },
  {
   "cell_type": "code",
   "execution_count": 16,
   "id": "5ae99208",
   "metadata": {
    "id": "5ae99208",
    "tags": []
   },
   "outputs": [
    {
     "name": "stderr",
     "output_type": "stream",
     "text": [
      "2023-05-10 09:51:54.828688: I tensorflow/core/common_runtime/executor.cc:1197] [/device:CPU:0] (DEBUG INFO) Executor start aborting (this does not indicate an error and you can ignore this message): INVALID_ARGUMENT: You must feed a value for placeholder tensor 'keras_layer_input' with dtype string and shape [?]\n",
      "\t [[{{node keras_layer_input}}]]\n",
      "2023-05-10 09:51:54.844145: I tensorflow/core/grappler/devices.cc:66] Number of eligible GPUs (core count >= 8, compute capability >= 0.0): 0\n",
      "2023-05-10 09:51:54.844542: I tensorflow/core/grappler/clusters/single_machine.cc:358] Starting new session\n",
      "2023-05-10 09:51:54.877437: I tensorflow/core/grappler/devices.cc:66] Number of eligible GPUs (core count >= 8, compute capability >= 0.0): 0\n",
      "2023-05-10 09:51:54.877528: I tensorflow/core/grappler/clusters/single_machine.cc:358] Starting new session\n",
      "2023-05-10 09:52:01.071845: I tensorflow/core/common_runtime/executor.cc:1197] [/device:CPU:0] (DEBUG INFO) Executor start aborting (this does not indicate an error and you can ignore this message): INVALID_ARGUMENT: You must feed a value for placeholder tensor 'keras_layer_input' with dtype string and shape [?]\n",
      "\t [[{{node keras_layer_input}}]]\n",
      "2023-05-10 09:52:01.109379: I tensorflow/core/grappler/devices.cc:66] Number of eligible GPUs (core count >= 8, compute capability >= 0.0): 0\n",
      "2023-05-10 09:52:01.110025: I tensorflow/core/grappler/clusters/single_machine.cc:358] Starting new session\n",
      "2023-05-10 09:52:01.125162: W tensorflow/tsl/framework/cpu_allocator_impl.cc:83] Allocation of 498570752 exceeds 10% of free system memory.\n",
      "2023-05-10 09:52:01.484090: W tensorflow/tsl/framework/cpu_allocator_impl.cc:83] Allocation of 498570752 exceeds 10% of free system memory.\n",
      "2023-05-10 09:52:02.200844: I tensorflow/core/grappler/devices.cc:66] Number of eligible GPUs (core count >= 8, compute capability >= 0.0): 0\n",
      "2023-05-10 09:52:02.200950: I tensorflow/core/grappler/clusters/single_machine.cc:358] Starting new session\n",
      "2023-05-10 09:52:02.211469: I tensorflow/core/grappler/devices.cc:66] Number of eligible GPUs (core count >= 8, compute capability >= 0.0): 0\n",
      "2023-05-10 09:52:02.211557: I tensorflow/core/grappler/clusters/single_machine.cc:358] Starting new session\n",
      "2023-05-10 09:52:02.225315: I tensorflow/core/grappler/devices.cc:66] Number of eligible GPUs (core count >= 8, compute capability >= 0.0): 0\n",
      "2023-05-10 09:52:02.225456: I tensorflow/core/grappler/clusters/single_machine.cc:358] Starting new session\n",
      "2023-05-10 09:52:02.240320: I tensorflow/core/grappler/devices.cc:66] Number of eligible GPUs (core count >= 8, compute capability >= 0.0): 0\n",
      "2023-05-10 09:52:02.240541: I tensorflow/core/grappler/clusters/single_machine.cc:358] Starting new session\n",
      "2023-05-10 09:52:02.260529: I tensorflow/core/grappler/devices.cc:66] Number of eligible GPUs (core count >= 8, compute capability >= 0.0): 0\n",
      "2023-05-10 09:52:02.260651: I tensorflow/core/grappler/clusters/single_machine.cc:358] Starting new session\n",
      "2023-05-10 09:52:02.267822: I tensorflow/core/grappler/devices.cc:66] Number of eligible GPUs (core count >= 8, compute capability >= 0.0): 0\n",
      "2023-05-10 09:52:02.267916: I tensorflow/core/grappler/clusters/single_machine.cc:358] Starting new session\n",
      "2023-05-10 09:52:02.277915: I tensorflow/core/grappler/devices.cc:66] Number of eligible GPUs (core count >= 8, compute capability >= 0.0): 0\n",
      "2023-05-10 09:52:02.278024: I tensorflow/core/grappler/clusters/single_machine.cc:358] Starting new session\n",
      "2023-05-10 09:52:02.286914: I tensorflow/core/grappler/devices.cc:66] Number of eligible GPUs (core count >= 8, compute capability >= 0.0): 0\n",
      "2023-05-10 09:52:02.286988: I tensorflow/core/grappler/clusters/single_machine.cc:358] Starting new session\n",
      "2023-05-10 09:52:02.289683: I tensorflow/core/grappler/devices.cc:66] Number of eligible GPUs (core count >= 8, compute capability >= 0.0): 0\n",
      "2023-05-10 09:52:02.289792: I tensorflow/core/grappler/clusters/single_machine.cc:358] Starting new session\n",
      "2023-05-10 09:52:02.294273: I tensorflow/core/grappler/devices.cc:66] Number of eligible GPUs (core count >= 8, compute capability >= 0.0): 0\n",
      "2023-05-10 09:52:02.294373: I tensorflow/core/grappler/clusters/single_machine.cc:358] Starting new session\n",
      "2023-05-10 09:52:02.299709: I tensorflow/core/grappler/devices.cc:66] Number of eligible GPUs (core count >= 8, compute capability >= 0.0): 0\n",
      "2023-05-10 09:52:02.299781: I tensorflow/core/grappler/clusters/single_machine.cc:358] Starting new session\n",
      "2023-05-10 09:52:02.309612: I tensorflow/core/grappler/devices.cc:66] Number of eligible GPUs (core count >= 8, compute capability >= 0.0): 0\n",
      "2023-05-10 09:52:02.309951: I tensorflow/core/grappler/clusters/single_machine.cc:358] Starting new session\n",
      "2023-05-10 09:52:02.348672: I tensorflow/core/grappler/devices.cc:66] Number of eligible GPUs (core count >= 8, compute capability >= 0.0): 0\n",
      "2023-05-10 09:52:02.348752: I tensorflow/core/grappler/clusters/single_machine.cc:358] Starting new session\n"
     ]
    },
    {
     "name": "stdout",
     "output_type": "stream",
     "text": [
      "Round  1,  \t Loss=0.6273, \t Accuracy=0.6729\n",
      "Round  2,  \t Loss=0.6160, \t Accuracy=0.6873\n",
      "Round  3,  \t Loss=0.6064, \t Accuracy=0.6979\n",
      "Round  4,  \t Loss=0.5981, \t Accuracy=0.7054\n",
      "Round  5,  \t Loss=0.5907, \t Accuracy=0.7103\n",
      "Round  6,  \t Loss=0.5840, \t Accuracy=0.7136\n",
      "Round  7,  \t Loss=0.5779, \t Accuracy=0.7172\n",
      "Round  8,  \t Loss=0.5723, \t Accuracy=0.7199\n",
      "Round  9,  \t Loss=0.5673, \t Accuracy=0.7214\n",
      "Round 10,  \t Loss=0.5628, \t Accuracy=0.7226\n"
     ]
    }
   ],
   "source": [
    "train_state = training_process.initialize()\n",
    "\n",
    "for round_num in range(1, NUM_ROUNDS+1):\n",
    "    # Train next round (send model to clients, local training, and server model averaging)\n",
    "    result = training_process.next(train_state, train_data)\n",
    "        \n",
    "    # Current state of the model\n",
    "    train_state = result.state\n",
    "        \n",
    "    # Get and print metrics, as the loss and accuracy (averaged across all clients)\n",
    "    train_metrics = result.metrics['client_work']['train']\n",
    "        \n",
    "    print('Round {:2d},  \\t Loss={:.4f}, \\t Accuracy={:.4f}'.format(round_num, train_metrics['loss'], \n",
    "                                                                    train_metrics['accuracy']))\n"
   ]
  },
  {
   "cell_type": "markdown",
   "id": "c1e499a4",
   "metadata": {
    "id": "c1e499a4"
   },
   "source": [
    "## Evaluation with test data"
   ]
  },
  {
   "cell_type": "markdown",
   "id": "52622879",
   "metadata": {
    "id": "52622879"
   },
   "source": [
    "Prepare the model to pass it unseen test data to evaluate its performance"
   ]
  },
  {
   "cell_type": "code",
   "execution_count": 17,
   "id": "48779518",
   "metadata": {
    "id": "48779518",
    "outputId": "d5ac6423-ab3e-4276-e8a1-0b6b0e301ed5"
   },
   "outputs": [
    {
     "name": "stderr",
     "output_type": "stream",
     "text": [
      "2023-05-10 09:54:16.239320: I tensorflow/core/common_runtime/executor.cc:1197] [/device:CPU:0] (DEBUG INFO) Executor start aborting (this does not indicate an error and you can ignore this message): INVALID_ARGUMENT: You must feed a value for placeholder tensor 'sentences' with dtype string and shape [?]\n",
      "\t [[{{node sentences}}]]\n",
      "2023-05-10 09:54:16.258549: I tensorflow/core/common_runtime/executor.cc:1197] [/device:CPU:0] (DEBUG INFO) Executor start aborting (this does not indicate an error and you can ignore this message): INVALID_ARGUMENT: You must feed a value for placeholder tensor 'keras_layer_input' with dtype string and shape [?]\n",
      "\t [[{{node keras_layer_input}}]]\n",
      "2023-05-10 09:54:16.672408: I tensorflow/core/common_runtime/executor.cc:1197] [/device:CPU:0] (DEBUG INFO) Executor start aborting (this does not indicate an error and you can ignore this message): INVALID_ARGUMENT: You must feed a value for placeholder tensor 'sentences' with dtype string and shape [?]\n",
      "\t [[{{node sentences}}]]\n",
      "2023-05-10 09:54:16.680248: I tensorflow/core/common_runtime/executor.cc:1197] [/device:CPU:0] (DEBUG INFO) Executor start aborting (this does not indicate an error and you can ignore this message): INVALID_ARGUMENT: You must feed a value for placeholder tensor 'keras_layer_input' with dtype string and shape [?]\n",
      "\t [[{{node keras_layer_input}}]]\n",
      "2023-05-10 09:54:24.189979: I tensorflow/core/common_runtime/executor.cc:1197] [/device:CPU:0] (DEBUG INFO) Executor start aborting (this does not indicate an error and you can ignore this message): INVALID_ARGUMENT: You must feed a value for placeholder tensor 'sentences' with dtype string and shape [?]\n",
      "\t [[{{node sentences}}]]\n",
      "2023-05-10 09:54:24.193756: I tensorflow/core/common_runtime/executor.cc:1197] [/device:CPU:0] (DEBUG INFO) Executor start aborting (this does not indicate an error and you can ignore this message): INVALID_ARGUMENT: You must feed a value for placeholder tensor 'keras_layer_input' with dtype string and shape [?]\n",
      "\t [[{{node keras_layer_input}}]]\n",
      "2023-05-10 09:54:24.607977: I tensorflow/core/common_runtime/executor.cc:1197] [/device:CPU:0] (DEBUG INFO) Executor start aborting (this does not indicate an error and you can ignore this message): INVALID_ARGUMENT: You must feed a value for placeholder tensor 'x' with dtype string and shape [?]\n",
      "\t [[{{node x}}]]\n",
      "2023-05-10 09:54:24.620063: I tensorflow/core/common_runtime/executor.cc:1197] [/device:CPU:0] (DEBUG INFO) Executor start aborting (this does not indicate an error and you can ignore this message): INVALID_ARGUMENT: You must feed a value for placeholder tensor 'batch_input' with dtype string and shape [?]\n",
      "\t [[{{node batch_input}}]]\n",
      "2023-05-10 09:54:24.711551: I tensorflow/core/common_runtime/executor.cc:1197] [/device:CPU:0] (DEBUG INFO) Executor start aborting (this does not indicate an error and you can ignore this message): INVALID_ARGUMENT: You must feed a value for placeholder tensor 'args_1' with dtype string and shape [?]\n",
      "\t [[{{node args_1}}]]\n",
      "2023-05-10 09:54:25.004654: I tensorflow/core/common_runtime/executor.cc:1197] [/device:CPU:0] (DEBUG INFO) Executor start aborting (this does not indicate an error and you can ignore this message): INVALID_ARGUMENT: You must feed a value for placeholder tensor 'keras_layer_input' with dtype string and shape [?]\n",
      "\t [[{{node keras_layer_input}}]]\n",
      "2023-05-10 09:54:25.019483: I tensorflow/core/grappler/devices.cc:66] Number of eligible GPUs (core count >= 8, compute capability >= 0.0): 0\n",
      "2023-05-10 09:54:25.023099: I tensorflow/core/grappler/clusters/single_machine.cc:358] Starting new session\n",
      "2023-05-10 09:54:25.090461: I tensorflow/core/grappler/devices.cc:66] Number of eligible GPUs (core count >= 8, compute capability >= 0.0): 0\n",
      "2023-05-10 09:54:25.090666: I tensorflow/core/grappler/clusters/single_machine.cc:358] Starting new session\n",
      "2023-05-10 09:54:28.534798: I tensorflow/core/grappler/devices.cc:66] Number of eligible GPUs (core count >= 8, compute capability >= 0.0): 0\n",
      "2023-05-10 09:54:28.534875: I tensorflow/core/grappler/clusters/single_machine.cc:358] Starting new session\n",
      "2023-05-10 09:54:28.550692: W tensorflow/tsl/framework/cpu_allocator_impl.cc:83] Allocation of 498570752 exceeds 10% of free system memory.\n",
      "2023-05-10 09:54:28.906096: W tensorflow/tsl/framework/cpu_allocator_impl.cc:83] Allocation of 498570752 exceeds 10% of free system memory.\n",
      "2023-05-10 09:54:36.920464: I tensorflow/core/grappler/devices.cc:66] Number of eligible GPUs (core count >= 8, compute capability >= 0.0): 0\n",
      "2023-05-10 09:54:36.920642: I tensorflow/core/grappler/clusters/single_machine.cc:358] Starting new session\n",
      "2023-05-10 09:54:36.922747: W tensorflow/tsl/framework/cpu_allocator_impl.cc:83] Allocation of 498570752 exceeds 10% of free system memory.\n"
     ]
    }
   ],
   "source": [
    "# Indicate that the model arquitecture is the one proposed before\n",
    "evaluation_process = build_fed_eval(model_fn)\n",
    "\n",
    "# Initialize the process and set the weights to those previously trained (getting from the training\n",
    "# state and setting to the evaluation one).\n",
    "evaluation_state = evaluation_process.initialize()\n",
    "model_weights = training_process.get_model_weights(train_state)\n",
    "evaluation_state = evaluation_process.set_model_weights(evaluation_state, model_weights)"
   ]
  },
  {
   "cell_type": "markdown",
   "id": "7e81edca",
   "metadata": {
    "id": "7e81edca"
   },
   "source": [
    "Evaluate the model with test data and print the desired evaluation metrics"
   ]
  },
  {
   "cell_type": "code",
   "execution_count": 18,
   "id": "6c0ced55",
   "metadata": {
    "id": "6c0ced55",
    "outputId": "9efda344-7470-47d6-a26e-145c508554d7"
   },
   "outputs": [
    {
     "name": "stderr",
     "output_type": "stream",
     "text": [
      "2023-05-10 09:54:52.212334: I tensorflow/core/common_runtime/executor.cc:1197] [/device:CPU:0] (DEBUG INFO) Executor start aborting (this does not indicate an error and you can ignore this message): INVALID_ARGUMENT: You must feed a value for placeholder tensor 'keras_layer_input' with dtype string and shape [?]\n",
      "\t [[{{node keras_layer_input}}]]\n",
      "2023-05-10 09:54:52.231866: I tensorflow/core/grappler/devices.cc:66] Number of eligible GPUs (core count >= 8, compute capability >= 0.0): 0\n",
      "2023-05-10 09:54:52.232319: I tensorflow/core/grappler/clusters/single_machine.cc:358] Starting new session\n",
      "2023-05-10 09:54:52.998755: I tensorflow/core/grappler/devices.cc:66] Number of eligible GPUs (core count >= 8, compute capability >= 0.0): 0\n",
      "2023-05-10 09:54:52.998826: I tensorflow/core/grappler/clusters/single_machine.cc:358] Starting new session\n",
      "2023-05-10 09:54:53.007276: I tensorflow/core/grappler/devices.cc:66] Number of eligible GPUs (core count >= 8, compute capability >= 0.0): 0\n",
      "2023-05-10 09:54:53.007326: I tensorflow/core/grappler/clusters/single_machine.cc:358] Starting new session\n",
      "2023-05-10 09:54:53.020437: I tensorflow/core/grappler/devices.cc:66] Number of eligible GPUs (core count >= 8, compute capability >= 0.0): 0\n",
      "2023-05-10 09:54:53.020493: I tensorflow/core/grappler/clusters/single_machine.cc:358] Starting new session\n",
      "2023-05-10 09:54:53.032375: I tensorflow/core/grappler/devices.cc:66] Number of eligible GPUs (core count >= 8, compute capability >= 0.0): 0\n",
      "2023-05-10 09:54:53.032487: I tensorflow/core/grappler/clusters/single_machine.cc:358] Starting new session\n",
      "2023-05-10 09:54:53.051401: I tensorflow/core/grappler/devices.cc:66] Number of eligible GPUs (core count >= 8, compute capability >= 0.0): 0\n",
      "2023-05-10 09:54:53.051450: I tensorflow/core/grappler/clusters/single_machine.cc:358] Starting new session\n",
      "2023-05-10 09:54:53.076100: I tensorflow/core/grappler/devices.cc:66] Number of eligible GPUs (core count >= 8, compute capability >= 0.0): 0\n",
      "2023-05-10 09:54:53.076154: I tensorflow/core/grappler/clusters/single_machine.cc:358] Starting new session\n"
     ]
    },
    {
     "name": "stdout",
     "output_type": "stream",
     "text": [
      "Test data, \t Loss=0.4858, \t Accuracy=0.8684\n"
     ]
    }
   ],
   "source": [
    "# Pass test data to the model in each client\n",
    "evaluation_output = evaluation_process.next(evaluation_state, test_data)\n",
    "\n",
    "# Get and print metrics\n",
    "eval_metrics = evaluation_output.metrics['client_work']['eval']['current_round_metrics']\n",
    "print('Test data, \\t Loss={:.4f}, \\t Accuracy={:.4f}'.format(eval_metrics['loss'], \n",
    "                                                             eval_metrics['accuracy']))"
   ]
  }
 ],
 "metadata": {
  "colab": {
   "provenance": []
  },
  "kernelspec": {
   "display_name": "Python 3 (ipykernel)",
   "language": "python",
   "name": "python3"
  },
  "language_info": {
   "codemirror_mode": {
    "name": "ipython",
    "version": 3
   },
   "file_extension": ".py",
   "mimetype": "text/x-python",
   "name": "python",
   "nbconvert_exporter": "python",
   "pygments_lexer": "ipython3",
   "version": "3.10.6"
  },
  "vscode": {
   "interpreter": {
    "hash": "8e8b6d17f9de91ec09bf737279c4695a050e0a9834ed9418f9a5b3830b8b4b90"
   }
  }
 },
 "nbformat": 4,
 "nbformat_minor": 5
}
